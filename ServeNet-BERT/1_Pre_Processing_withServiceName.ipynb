{
  "nbformat": 4,
  "nbformat_minor": 0,
  "metadata": {
    "kernelspec": {
      "display_name": "Python 3",
      "language": "python",
      "name": "python3"
    },
    "language_info": {
      "codemirror_mode": {
        "name": "ipython",
        "version": 3
      },
      "file_extension": ".py",
      "mimetype": "text/x-python",
      "name": "python",
      "nbconvert_exporter": "python",
      "pygments_lexer": "ipython3",
      "version": "3.5.2"
    },
    "colab": {
      "name": "1.Pre-Processing-withServiceName.ipynb",
      "provenance": [],
      "collapsed_sections": [],
      "toc_visible": true
    }
  },
  "cells": [
    {
      "cell_type": "code",
      "metadata": {
        "id": "fTt_YJ1e-NH4",
        "colab_type": "code",
        "colab": {
          "base_uri": "https://localhost:8080/",
          "height": 34
        },
        "outputId": "fc08626f-a6be-48c1-d2e7-b82138d14287"
      },
      "source": [
        "from google.colab import drive\n",
        "drive.mount('/content/drive')\n",
        "\n",
        "import os\n",
        "\n",
        "if os.path.isdir(\"/content/drive/My Drive/ServeNet\"):\n",
        "  os.chdir(\"/content/drive/My Drive/ServeNet\")\n",
        "else: \n",
        "  !git clone https://github.com/yylonly/ServeNet.git\n",
        "  os.chdir(\"/content/drive/My Drive/ServeNet\")"
      ],
      "execution_count": null,
      "outputs": [
        {
          "output_type": "stream",
          "text": [
            "Drive already mounted at /content/drive; to attempt to forcibly remount, call drive.mount(\"/content/drive\", force_remount=True).\n"
          ],
          "name": "stdout"
        }
      ]
    },
    {
      "cell_type": "code",
      "metadata": {
        "id": "VF39xScJ9YAu",
        "colab_type": "code",
        "colab": {}
      },
      "source": [
        "import json\n",
        "import numpy as np\n",
        "import h5py\n",
        "import pandas as pd\n",
        "import matplotlib.pyplot as plt\n",
        "from scipy import stats\n",
        "from pandas.io.json import json_normalize\n",
        "from pandas import HDFStore, read_hdf\n",
        "\n",
        "%matplotlib inline "
      ],
      "execution_count": null,
      "outputs": []
    },
    {
      "cell_type": "markdown",
      "metadata": {
        "id": "lH_jwTv-9YA4",
        "colab_type": "text"
      },
      "source": [
        "## 1. Load from Text"
      ]
    },
    {
      "cell_type": "code",
      "metadata": {
        "scrolled": true,
        "id": "aQpJuCm_9YA5",
        "colab_type": "code",
        "colab": {}
      },
      "source": [
        "with open('Data/ProgrammWebScrapy.txt', encoding='utf-8') as data_file:\n",
        "    f = data_file.read()\n",
        "    data = json.loads(f, strict=False)"
      ],
      "execution_count": null,
      "outputs": []
    },
    {
      "cell_type": "code",
      "metadata": {
        "id": "-oMM8Bmq9YBC",
        "colab_type": "code",
        "colab": {}
      },
      "source": [
        "df = pd.DataFrame.from_dict(pd.json_normalize(data), orient='columns')"
      ],
      "execution_count": null,
      "outputs": []
    },
    {
      "cell_type": "code",
      "metadata": {
        "scrolled": false,
        "id": "7VhL6cnI9YBF",
        "colab_type": "code",
        "colab": {
          "base_uri": "https://localhost:8080/",
          "height": 838
        },
        "outputId": "3f8745f7-2366-4317-ac7c-dbe80b362e4f"
      },
      "source": [
        "df[1:11]"
      ],
      "execution_count": null,
      "outputs": [
        {
          "output_type": "execute_result",
          "data": {
            "text/html": [
              "<div>\n",
              "<style scoped>\n",
              "    .dataframe tbody tr th:only-of-type {\n",
              "        vertical-align: middle;\n",
              "    }\n",
              "\n",
              "    .dataframe tbody tr th {\n",
              "        vertical-align: top;\n",
              "    }\n",
              "\n",
              "    .dataframe thead th {\n",
              "        text-align: right;\n",
              "    }\n",
              "</style>\n",
              "<table border=\"1\" class=\"dataframe\">\n",
              "  <thead>\n",
              "    <tr style=\"text-align: right;\">\n",
              "      <th></th>\n",
              "      <th>Title</th>\n",
              "      <th>Description</th>\n",
              "      <th>APIEndpoint</th>\n",
              "      <th>APIPortalHomePage</th>\n",
              "      <th>PrimaryCategory</th>\n",
              "      <th>SecondaryCategories</th>\n",
              "      <th>APIProvider</th>\n",
              "      <th>SSLSupport</th>\n",
              "      <th>APIForumMessageBoards</th>\n",
              "      <th>AuthenticationModel</th>\n",
              "      <th>IstheAPIDesign</th>\n",
              "      <th>Scope</th>\n",
              "      <th>DeviceSpecific</th>\n",
              "      <th>DocsHomePageUR</th>\n",
              "      <th>ArchitecturalStyle</th>\n",
              "      <th>SupportedRequestFormats</th>\n",
              "      <th>SupportedResponseFormats</th>\n",
              "      <th>IsThisanUnofficialAPI</th>\n",
              "      <th>RestrictedAccess</th>\n",
              "      <th>SupportEmailAddress</th>\n",
              "    </tr>\n",
              "  </thead>\n",
              "  <tbody>\n",
              "    <tr>\n",
              "      <th>1</th>\n",
              "      <td>Twitter API</td>\n",
              "      <td>It has been split into multiple APIs, includin...</td>\n",
              "      <td>http://twitter.com/statuses/</td>\n",
              "      <td>https://dev.twitter.com/rest/public</td>\n",
              "      <td>Social</td>\n",
              "      <td>Blogging</td>\n",
              "      <td>Twitter</td>\n",
              "      <td>No</td>\n",
              "      <td>http://groups.google.com/group/twitter-develop...</td>\n",
              "      <td>OAuth 2</td>\n",
              "      <td>Yes</td>\n",
              "      <td>Single purpose API</td>\n",
              "      <td>No</td>\n",
              "      <td>https://dev.twitter.com/rest/public</td>\n",
              "      <td>REST</td>\n",
              "      <td>URI Query String/CRUD</td>\n",
              "      <td>Atom, JSON, RSS, XML</td>\n",
              "      <td>No</td>\n",
              "      <td>No</td>\n",
              "      <td>api@twitter.com</td>\n",
              "    </tr>\n",
              "    <tr>\n",
              "      <th>2</th>\n",
              "      <td>YouTube API</td>\n",
              "      <td>The Data API allows users to integrate their p...</td>\n",
              "      <td>https://www.youtube.com/iframe_api</td>\n",
              "      <td>https://developers.google.com/youtube/</td>\n",
              "      <td>Video</td>\n",
              "      <td>Media</td>\n",
              "      <td>Google</td>\n",
              "      <td>No</td>\n",
              "      <td>http://groups.google.com/group/youtube-api/</td>\n",
              "      <td>API Key</td>\n",
              "      <td>No</td>\n",
              "      <td>Single purpose API</td>\n",
              "      <td>No</td>\n",
              "      <td>https://developers.google.com/youtube/</td>\n",
              "      <td>REST</td>\n",
              "      <td>Atom, GData, RSS, URI Query String/CRUD, Atom ...</td>\n",
              "      <td>XML, JSON, GData, Atom, RSS</td>\n",
              "      <td>No</td>\n",
              "      <td>No</td>\n",
              "      <td>NaN</td>\n",
              "    </tr>\n",
              "    <tr>\n",
              "      <th>3</th>\n",
              "      <td>Flickr API</td>\n",
              "      <td>The Flickr API can be used to retrieve photos ...</td>\n",
              "      <td>http://api.flickr.com/services/</td>\n",
              "      <td>http://www.flickr.com/services/api/</td>\n",
              "      <td>Photos</td>\n",
              "      <td>Video</td>\n",
              "      <td>Flickr</td>\n",
              "      <td>Yes</td>\n",
              "      <td>http://www.flickr.com/groups/api</td>\n",
              "      <td>OAuth 1</td>\n",
              "      <td>No</td>\n",
              "      <td>Single purpose API</td>\n",
              "      <td>No</td>\n",
              "      <td>http://www.flickr.com/services/api/</td>\n",
              "      <td>REST</td>\n",
              "      <td>URI Query String/CRUD, XML, PHP, XML-RPC</td>\n",
              "      <td>JSON, XML, PHP, XML-RPC</td>\n",
              "      <td>No</td>\n",
              "      <td>No</td>\n",
              "      <td>NaN</td>\n",
              "    </tr>\n",
              "    <tr>\n",
              "      <th>4</th>\n",
              "      <td>Facebook API</td>\n",
              "      <td>Its functions have been split among the follow...</td>\n",
              "      <td>http://api.facebook.com/restserver.php</td>\n",
              "      <td>https://developers.facebook.com/</td>\n",
              "      <td>Social</td>\n",
              "      <td>Webhooks</td>\n",
              "      <td>Facebook</td>\n",
              "      <td>Yes</td>\n",
              "      <td>http://forum.developers.facebook.com/</td>\n",
              "      <td>API Key, OAuth 2</td>\n",
              "      <td>No</td>\n",
              "      <td>Single purpose API</td>\n",
              "      <td>No</td>\n",
              "      <td>https://developers.facebook.com/</td>\n",
              "      <td>REST</td>\n",
              "      <td>URI Query String/CRUD</td>\n",
              "      <td>JSON</td>\n",
              "      <td>No</td>\n",
              "      <td>No</td>\n",
              "      <td>NaN</td>\n",
              "    </tr>\n",
              "    <tr>\n",
              "      <th>5</th>\n",
              "      <td>Amazon Product Advertising API</td>\n",
              "      <td>What was formerly the ECSeCommerce Servicehas ...</td>\n",
              "      <td>http://webservices.amazon.com/</td>\n",
              "      <td>https://affiliate-program.amazon.com/gp/advert...</td>\n",
              "      <td>eCommerce</td>\n",
              "      <td>Advertising</td>\n",
              "      <td>Amazon</td>\n",
              "      <td>No</td>\n",
              "      <td>http://developer.amazonwebservices.com/connect...</td>\n",
              "      <td>API Key</td>\n",
              "      <td>Yes</td>\n",
              "      <td>Single purpose API</td>\n",
              "      <td>No</td>\n",
              "      <td>https://docs.aws.amazon.com/AWSECommerceServic...</td>\n",
              "      <td>REST</td>\n",
              "      <td>SOAP, XML</td>\n",
              "      <td>SOAP, XML</td>\n",
              "      <td>No</td>\n",
              "      <td>Yes</td>\n",
              "      <td>NaN</td>\n",
              "    </tr>\n",
              "    <tr>\n",
              "      <th>6</th>\n",
              "      <td>Twilio API</td>\n",
              "      <td>Twilio provides a simple hosted API and markup...</td>\n",
              "      <td>https://api.twilio.com/2010-04-01</td>\n",
              "      <td>http://www.twilio.com</td>\n",
              "      <td>Telephony</td>\n",
              "      <td>Cloud, Text-to-Speech, Voice, Webhooks</td>\n",
              "      <td>Twilio</td>\n",
              "      <td>Yes</td>\n",
              "      <td>https://www.twilio.com/blog</td>\n",
              "      <td>API Key, HTTP Basic Auth</td>\n",
              "      <td>No</td>\n",
              "      <td>Single purpose API</td>\n",
              "      <td>No</td>\n",
              "      <td>https://www.twilio.com/docs/api/rest</td>\n",
              "      <td>REST</td>\n",
              "      <td>URI Query String/CRUD</td>\n",
              "      <td>CSV, HTML, JSON, XML</td>\n",
              "      <td>No</td>\n",
              "      <td>No</td>\n",
              "      <td>help@twilio.com</td>\n",
              "    </tr>\n",
              "    <tr>\n",
              "      <th>7</th>\n",
              "      <td>Last.fm API</td>\n",
              "      <td>The Last.fm API gives users the ability to bui...</td>\n",
              "      <td>http://ws.audioscrobbler.com/2.0/</td>\n",
              "      <td>http://www.last.fm/api</td>\n",
              "      <td>Music</td>\n",
              "      <td>NaN</td>\n",
              "      <td>Last.fm</td>\n",
              "      <td>No</td>\n",
              "      <td>http://www.last.fm/group/Last.fm+Web+Services/...</td>\n",
              "      <td>API Key, Shared Secret, Token</td>\n",
              "      <td>Yes</td>\n",
              "      <td>Single purpose API</td>\n",
              "      <td>No</td>\n",
              "      <td>http://www.last.fm/api</td>\n",
              "      <td>REST</td>\n",
              "      <td>URI Query String/CRUD</td>\n",
              "      <td>JSON, XML</td>\n",
              "      <td>No</td>\n",
              "      <td>No</td>\n",
              "      <td>office@last.fm</td>\n",
              "    </tr>\n",
              "    <tr>\n",
              "      <th>8</th>\n",
              "      <td>eBay API</td>\n",
              "      <td>eBay's primary web services are found in the t...</td>\n",
              "      <td>http://developer.ebay.com/webservices/latest/e...</td>\n",
              "      <td>https://go.developer.ebay.com/developers/ebay</td>\n",
              "      <td>Search</td>\n",
              "      <td>Auctions, eCommerce</td>\n",
              "      <td>NaN</td>\n",
              "      <td>Yes</td>\n",
              "      <td>http://developer.ebay.com/community/forums/</td>\n",
              "      <td>NaN</td>\n",
              "      <td>No</td>\n",
              "      <td>Single purpose API</td>\n",
              "      <td>No</td>\n",
              "      <td>https://go.developer.ebay.com/developers/ebay</td>\n",
              "      <td>REST</td>\n",
              "      <td>XML, SOAP, URI Query String/CRUD, name-value</td>\n",
              "      <td>XML, SOAP, JSON</td>\n",
              "      <td>No</td>\n",
              "      <td>No</td>\n",
              "      <td>NaN</td>\n",
              "    </tr>\n",
              "    <tr>\n",
              "      <th>9</th>\n",
              "      <td>Twilio SMS API</td>\n",
              "      <td>Twilio provides a simple hosted API and markup...</td>\n",
              "      <td>NaN</td>\n",
              "      <td>http://www.twilio.com/sms</td>\n",
              "      <td>Messaging</td>\n",
              "      <td>Telephony, USA</td>\n",
              "      <td>NaN</td>\n",
              "      <td>Yes</td>\n",
              "      <td>http://forum.twilio.com/twilio/?from_gsfn=true</td>\n",
              "      <td>NaN</td>\n",
              "      <td>No</td>\n",
              "      <td>Single purpose API</td>\n",
              "      <td>No</td>\n",
              "      <td>http://www.twilio.com/sms</td>\n",
              "      <td>REST</td>\n",
              "      <td>None Specified</td>\n",
              "      <td>XML</td>\n",
              "      <td>No</td>\n",
              "      <td>No</td>\n",
              "      <td>NaN</td>\n",
              "    </tr>\n",
              "    <tr>\n",
              "      <th>10</th>\n",
              "      <td>Microsoft Bing Maps API</td>\n",
              "      <td>Bing Maps API and Interactive SDK features an ...</td>\n",
              "      <td>See-&gt; http://dev.live.com/virtualearth/sdk/</td>\n",
              "      <td>http://www.microsoft.com/maps/choose-your-bing...</td>\n",
              "      <td>Mapping</td>\n",
              "      <td>Viewer</td>\n",
              "      <td>Microsoft</td>\n",
              "      <td>Yes</td>\n",
              "      <td>http://social.msdn.microsoft.com/forums/en-US/...</td>\n",
              "      <td>API Key</td>\n",
              "      <td>No</td>\n",
              "      <td>Single purpose API</td>\n",
              "      <td>No</td>\n",
              "      <td>http://www.microsoft.com/maps/choose-your-bing...</td>\n",
              "      <td>Indirect</td>\n",
              "      <td>KML, XML, GeoRSS, JavaScript</td>\n",
              "      <td>KML</td>\n",
              "      <td>No</td>\n",
              "      <td>No</td>\n",
              "      <td>NaN</td>\n",
              "    </tr>\n",
              "  </tbody>\n",
              "</table>\n",
              "</div>"
            ],
            "text/plain": [
              "                             Title  ... SupportEmailAddress\n",
              "1                      Twitter API  ...     api@twitter.com\n",
              "2                      YouTube API  ...                 NaN\n",
              "3                       Flickr API  ...                 NaN\n",
              "4                     Facebook API  ...                 NaN\n",
              "5   Amazon Product Advertising API  ...                 NaN\n",
              "6                       Twilio API  ...     help@twilio.com\n",
              "7                      Last.fm API  ...      office@last.fm\n",
              "8                         eBay API  ...                 NaN\n",
              "9                   Twilio SMS API  ...                 NaN\n",
              "10         Microsoft Bing Maps API  ...                 NaN\n",
              "\n",
              "[10 rows x 20 columns]"
            ]
          },
          "metadata": {
            "tags": []
          },
          "execution_count": 5
        }
      ]
    },
    {
      "cell_type": "code",
      "metadata": {
        "id": "SCPT1unp9YBK",
        "colab_type": "code",
        "colab": {
          "base_uri": "https://localhost:8080/",
          "height": 34
        },
        "outputId": "b5611821-ea47-43a1-c4d5-7cdd585a600d"
      },
      "source": [
        "df.shape"
      ],
      "execution_count": null,
      "outputs": [
        {
          "output_type": "execute_result",
          "data": {
            "text/plain": [
              "(15344, 20)"
            ]
          },
          "metadata": {
            "tags": []
          },
          "execution_count": 6
        }
      ]
    },
    {
      "cell_type": "code",
      "metadata": {
        "id": "hwR6LOT59YBQ",
        "colab_type": "code",
        "colab": {
          "base_uri": "https://localhost:8080/",
          "height": 136
        },
        "outputId": "e10ad1fb-077e-4a28-fa50-7f543d5ffd77"
      },
      "source": [
        "df.columns"
      ],
      "execution_count": null,
      "outputs": [
        {
          "output_type": "execute_result",
          "data": {
            "text/plain": [
              "Index(['Title', 'Description', 'APIEndpoint', 'APIPortalHomePage',\n",
              "       'PrimaryCategory', 'SecondaryCategories', 'APIProvider', 'SSLSupport',\n",
              "       'APIForumMessageBoards', 'AuthenticationModel', 'IstheAPIDesign',\n",
              "       'Scope', 'DeviceSpecific', 'DocsHomePageUR', 'ArchitecturalStyle',\n",
              "       'SupportedRequestFormats', 'SupportedResponseFormats',\n",
              "       'IsThisanUnofficialAPI', 'RestrictedAccess', 'SupportEmailAddress'],\n",
              "      dtype='object')"
            ]
          },
          "metadata": {
            "tags": []
          },
          "execution_count": 7
        }
      ]
    },
    {
      "cell_type": "code",
      "metadata": {
        "id": "iyn7AM0I9YBT",
        "colab_type": "code",
        "colab": {
          "base_uri": "https://localhost:8080/",
          "height": 221
        },
        "outputId": "a049d8d2-a790-4325-a975-1af1df75787f"
      },
      "source": [
        "# equal to df.PrimaryCategory\n",
        "label = df['PrimaryCategory']\n",
        "label"
      ],
      "execution_count": null,
      "outputs": [
        {
          "output_type": "execute_result",
          "data": {
            "text/plain": [
              "0          Mapping\n",
              "1           Social\n",
              "2            Video\n",
              "3           Photos\n",
              "4           Social\n",
              "           ...    \n",
              "15339     Security\n",
              "15340        Email\n",
              "15341        Games\n",
              "15342    Financial\n",
              "15343      Medical\n",
              "Name: PrimaryCategory, Length: 15344, dtype: object"
            ]
          },
          "metadata": {
            "tags": []
          },
          "execution_count": 8
        }
      ]
    },
    {
      "cell_type": "markdown",
      "metadata": {
        "id": "DNCvIYt79YBV",
        "colab_type": "text"
      },
      "source": [
        "## Preprocessing Null"
      ]
    },
    {
      "cell_type": "markdown",
      "metadata": {
        "id": "uLGzAahP9YBW",
        "colab_type": "text"
      },
      "source": [
        "### Some Category is Null"
      ]
    },
    {
      "cell_type": "code",
      "metadata": {
        "id": "Gj4OSeSy9YBX",
        "colab_type": "code",
        "colab": {
          "base_uri": "https://localhost:8080/",
          "height": 34
        },
        "outputId": "951eb2ef-a648-43cd-86ad-9e5e9e66a3f8"
      },
      "source": [
        "label.isnull().sum()"
      ],
      "execution_count": null,
      "outputs": [
        {
          "output_type": "execute_result",
          "data": {
            "text/plain": [
              "35"
            ]
          },
          "metadata": {
            "tags": []
          },
          "execution_count": 9
        }
      ]
    },
    {
      "cell_type": "code",
      "metadata": {
        "id": "LFw1SJnG9YBZ",
        "colab_type": "code",
        "colab": {
          "base_uri": "https://localhost:8080/",
          "height": 629
        },
        "outputId": "404f4bed-5933-4f2e-fd97-135c47381521"
      },
      "source": [
        "label[label.isnull()]"
      ],
      "execution_count": null,
      "outputs": [
        {
          "output_type": "execute_result",
          "data": {
            "text/plain": [
              "93       NaN\n",
              "113      NaN\n",
              "281      NaN\n",
              "298      NaN\n",
              "587      NaN\n",
              "629      NaN\n",
              "639      NaN\n",
              "659      NaN\n",
              "982      NaN\n",
              "1307     NaN\n",
              "1359     NaN\n",
              "1371     NaN\n",
              "1387     NaN\n",
              "1920     NaN\n",
              "3140     NaN\n",
              "4066     NaN\n",
              "4666     NaN\n",
              "11668    NaN\n",
              "12240    NaN\n",
              "12465    NaN\n",
              "12750    NaN\n",
              "12813    NaN\n",
              "13378    NaN\n",
              "13423    NaN\n",
              "13544    NaN\n",
              "13819    NaN\n",
              "14100    NaN\n",
              "14637    NaN\n",
              "14659    NaN\n",
              "14682    NaN\n",
              "14687    NaN\n",
              "14852    NaN\n",
              "14876    NaN\n",
              "14887    NaN\n",
              "15267    NaN\n",
              "Name: PrimaryCategory, dtype: object"
            ]
          },
          "metadata": {
            "tags": []
          },
          "execution_count": 10
        }
      ]
    },
    {
      "cell_type": "markdown",
      "metadata": {
        "id": "rMYbe2qf9YBc",
        "colab_type": "text"
      },
      "source": [
        "### Get rid of Null Category Entry"
      ]
    },
    {
      "cell_type": "code",
      "metadata": {
        "id": "yPQ2ABv09YBd",
        "colab_type": "code",
        "colab": {}
      },
      "source": [
        "data = df.loc[label.notnull(), :]"
      ],
      "execution_count": null,
      "outputs": []
    },
    {
      "cell_type": "markdown",
      "metadata": {
        "id": "y0NuiaPc9YBg",
        "colab_type": "text"
      },
      "source": [
        "### Get rid of Description and Category is ''"
      ]
    },
    {
      "cell_type": "code",
      "metadata": {
        "id": "TONxlTce9YBi",
        "colab_type": "code",
        "colab": {}
      },
      "source": [
        "des = data.Description\n",
        "des.isnull().sum()\n",
        "data = df[df.Description != '']"
      ],
      "execution_count": null,
      "outputs": []
    },
    {
      "cell_type": "code",
      "metadata": {
        "id": "78NW-s0e9YBj",
        "colab_type": "code",
        "colab": {
          "base_uri": "https://localhost:8080/",
          "height": 34
        },
        "outputId": "40ee5d84-c036-49c7-85b2-9d94b7b7097a"
      },
      "source": [
        "data = data[data.PrimaryCategory != '']\n",
        "data.shape"
      ],
      "execution_count": null,
      "outputs": [
        {
          "output_type": "execute_result",
          "data": {
            "text/plain": [
              "(15340, 20)"
            ]
          },
          "metadata": {
            "tags": []
          },
          "execution_count": 13
        }
      ]
    },
    {
      "cell_type": "code",
      "metadata": {
        "id": "uWE3c9JSkA7l",
        "colab_type": "code",
        "colab": {
          "base_uri": "https://localhost:8080/",
          "height": 34
        },
        "outputId": "35e1f3ce-b568-4b96-e7f2-524b4b541f00"
      },
      "source": [
        "data = data[data.Title != '']\n",
        "data.shape"
      ],
      "execution_count": null,
      "outputs": [
        {
          "output_type": "execute_result",
          "data": {
            "text/plain": [
              "(15340, 20)"
            ]
          },
          "metadata": {
            "tags": []
          },
          "execution_count": 14
        }
      ]
    },
    {
      "cell_type": "code",
      "metadata": {
        "id": "a0mW0Q14kBFc",
        "colab_type": "code",
        "colab": {
          "base_uri": "https://localhost:8080/",
          "height": 34
        },
        "outputId": "ed3ea95f-6b1e-4a6b-d4d3-7701a05507aa"
      },
      "source": [
        "data = data[data.ArchitecturalStyle != '']\n",
        "data.shape"
      ],
      "execution_count": null,
      "outputs": [
        {
          "output_type": "execute_result",
          "data": {
            "text/plain": [
              "(15340, 20)"
            ]
          },
          "metadata": {
            "tags": []
          },
          "execution_count": 15
        }
      ]
    },
    {
      "cell_type": "markdown",
      "metadata": {
        "id": "gvTxLDYy9YBl",
        "colab_type": "text"
      },
      "source": [
        "### Checking Second Entry"
      ]
    },
    {
      "cell_type": "code",
      "metadata": {
        "id": "5hl03OWJ9YBl",
        "colab_type": "code",
        "colab": {
          "base_uri": "https://localhost:8080/",
          "height": 54
        },
        "outputId": "b5e7c50f-3076-4e07-c856-28ce3320c66c"
      },
      "source": [
        "data.loc[2, 'Description']"
      ],
      "execution_count": null,
      "outputs": [
        {
          "output_type": "execute_result",
          "data": {
            "text/plain": [
              "\"The Data API allows users to integrate their program with YouTube and allow it to perform many of the operations available on the website. It provides the capability to search for videos, retrieve standard feeds, and see related content. A program can also authenticate as a user to upload videos, modify user playlists, and more. This integration can be used for a variety of uses such as developing a web application allowing users to upload video to YouTube, or a device or desktop application that brings the YouTube experience to a new platform. The Data API gives users programmatic access to the video and user information stored on YouTube. This can be used to personalize a web site or application with the user's existing information as well as perform actions like commenting on and rating videos. This RESTful API provides responses in XML format.\""
            ]
          },
          "metadata": {
            "tags": []
          },
          "execution_count": 16
        }
      ]
    },
    {
      "cell_type": "code",
      "metadata": {
        "id": "PJ8wIJQW9YBn",
        "colab_type": "code",
        "colab": {
          "base_uri": "https://localhost:8080/",
          "height": 34
        },
        "outputId": "33ee43cf-a630-46d0-a9c1-5ec70e61d946"
      },
      "source": [
        "data.loc[2, 'PrimaryCategory']"
      ],
      "execution_count": null,
      "outputs": [
        {
          "output_type": "execute_result",
          "data": {
            "text/plain": [
              "'Video'"
            ]
          },
          "metadata": {
            "tags": []
          },
          "execution_count": 17
        }
      ]
    },
    {
      "cell_type": "code",
      "metadata": {
        "id": "xX0i1Li-9YBp",
        "colab_type": "code",
        "colab": {
          "base_uri": "https://localhost:8080/",
          "height": 34
        },
        "outputId": "ba155e47-23a2-4161-a156-d6a9256a1bd6"
      },
      "source": [
        "data.loc[2, 'ArchitecturalStyle']"
      ],
      "execution_count": null,
      "outputs": [
        {
          "output_type": "execute_result",
          "data": {
            "text/plain": [
              "'REST'"
            ]
          },
          "metadata": {
            "tags": []
          },
          "execution_count": 18
        }
      ]
    },
    {
      "cell_type": "code",
      "metadata": {
        "id": "OAteujajkPLn",
        "colab_type": "code",
        "colab": {
          "base_uri": "https://localhost:8080/",
          "height": 34
        },
        "outputId": "534a0b5d-fd76-404c-83c1-dd94bb063b8c"
      },
      "source": [
        "data.loc[2, 'Title']"
      ],
      "execution_count": null,
      "outputs": [
        {
          "output_type": "execute_result",
          "data": {
            "text/plain": [
              "'YouTube API'"
            ]
          },
          "metadata": {
            "tags": []
          },
          "execution_count": 19
        }
      ]
    },
    {
      "cell_type": "code",
      "metadata": {
        "scrolled": true,
        "id": "yNpQemSU9YBs",
        "colab_type": "code",
        "colab": {
          "base_uri": "https://localhost:8080/",
          "height": 119
        },
        "outputId": "ca87d6e2-398d-4605-cf56-de93154783eb"
      },
      "source": [
        "data.loc[:, 'PrimaryCategory'].head()"
      ],
      "execution_count": null,
      "outputs": [
        {
          "output_type": "execute_result",
          "data": {
            "text/plain": [
              "0    Mapping\n",
              "1     Social\n",
              "2      Video\n",
              "3     Photos\n",
              "4     Social\n",
              "Name: PrimaryCategory, dtype: object"
            ]
          },
          "metadata": {
            "tags": []
          },
          "execution_count": 20
        }
      ]
    },
    {
      "cell_type": "markdown",
      "metadata": {
        "id": "zfQOOe8w9YBu",
        "colab_type": "text"
      },
      "source": [
        "### How many primary category in the data?"
      ]
    },
    {
      "cell_type": "code",
      "metadata": {
        "id": "77NF4RWj9YBu",
        "colab_type": "code",
        "colab": {
          "base_uri": "https://localhost:8080/",
          "height": 34
        },
        "outputId": "66f8efb6-5866-4445-c70c-2807f91395d0"
      },
      "source": [
        "len(set(data.loc[:, 'PrimaryCategory']))"
      ],
      "execution_count": null,
      "outputs": [
        {
          "output_type": "execute_result",
          "data": {
            "text/plain": [
              "402"
            ]
          },
          "metadata": {
            "tags": []
          },
          "execution_count": 21
        }
      ]
    },
    {
      "cell_type": "code",
      "metadata": {
        "id": "KbT1xDMykokC",
        "colab_type": "code",
        "colab": {
          "base_uri": "https://localhost:8080/",
          "height": 221
        },
        "outputId": "f905e5fe-1c8f-44bb-c378-2adaab6b4b10"
      },
      "source": [
        "style = data['ArchitecturalStyle']\n",
        "style"
      ],
      "execution_count": null,
      "outputs": [
        {
          "output_type": "execute_result",
          "data": {
            "text/plain": [
              "0        REST\n",
              "1        REST\n",
              "2        REST\n",
              "3        REST\n",
              "4        REST\n",
              "         ... \n",
              "15339    REST\n",
              "15340     RPC\n",
              "15341    REST\n",
              "15342    REST\n",
              "15343    REST\n",
              "Name: ArchitecturalStyle, Length: 15340, dtype: object"
            ]
          },
          "metadata": {
            "tags": []
          },
          "execution_count": 22
        }
      ]
    },
    {
      "cell_type": "code",
      "metadata": {
        "id": "ymKlFTptkvKg",
        "colab_type": "code",
        "colab": {
          "base_uri": "https://localhost:8080/",
          "height": 34
        },
        "outputId": "485abafe-1e9e-49b4-a722-2dd017bb4ffa"
      },
      "source": [
        "style.isnull().sum()"
      ],
      "execution_count": null,
      "outputs": [
        {
          "output_type": "execute_result",
          "data": {
            "text/plain": [
              "880"
            ]
          },
          "metadata": {
            "tags": []
          },
          "execution_count": 23
        }
      ]
    },
    {
      "cell_type": "code",
      "metadata": {
        "id": "XshBiIQ3lNdY",
        "colab_type": "code",
        "colab": {
          "base_uri": "https://localhost:8080/",
          "height": 136
        },
        "outputId": "4b040b5b-46a6-464d-f56a-40cb9d06ee27"
      },
      "source": [
        "style = style.loc[style.notnull()]\n",
        "set(style)"
      ],
      "execution_count": null,
      "outputs": [
        {
          "output_type": "execute_result",
          "data": {
            "text/plain": [
              "{'GraphQL',\n",
              " 'Indirect',\n",
              " 'Native/Browser',\n",
              " 'Push/Streaming',\n",
              " 'REST',\n",
              " 'RPC',\n",
              " 'Unspecified'}"
            ]
          },
          "metadata": {
            "tags": []
          },
          "execution_count": 24
        }
      ]
    },
    {
      "cell_type": "code",
      "metadata": {
        "id": "vC803Zbql5Q-",
        "colab_type": "code",
        "colab": {
          "base_uri": "https://localhost:8080/",
          "height": 153
        },
        "outputId": "7eef3cae-a1ac-499c-f309-f76d50844147"
      },
      "source": [
        "style.value_counts()"
      ],
      "execution_count": null,
      "outputs": [
        {
          "output_type": "execute_result",
          "data": {
            "text/plain": [
              "REST              12795\n",
              "RPC                1228\n",
              "Push/Streaming      180\n",
              "Native/Browser      175\n",
              "Indirect             72\n",
              "GraphQL               8\n",
              "Unspecified           2\n",
              "Name: ArchitecturalStyle, dtype: int64"
            ]
          },
          "metadata": {
            "tags": []
          },
          "execution_count": 25
        }
      ]
    },
    {
      "cell_type": "markdown",
      "metadata": {
        "id": "q8gqSOzl9YBv",
        "colab_type": "text"
      },
      "source": [
        "### Final Data "
      ]
    },
    {
      "cell_type": "code",
      "metadata": {
        "id": "5GXbCOrs9YBw",
        "colab_type": "code",
        "colab": {}
      },
      "source": [
        "finaldata = pd.DataFrame(data, columns=['Title', 'Description', 'PrimaryCategory'])"
      ],
      "execution_count": null,
      "outputs": []
    },
    {
      "cell_type": "code",
      "metadata": {
        "id": "KTQLTQuX9YBx",
        "colab_type": "code",
        "colab": {}
      },
      "source": [
        "finaldata.columns = ['ServiceName', 'ServiceDescription', 'ServiceClassification']"
      ],
      "execution_count": null,
      "outputs": []
    },
    {
      "cell_type": "code",
      "metadata": {
        "id": "gQ5buwwg9YBz",
        "colab_type": "code",
        "colab": {
          "base_uri": "https://localhost:8080/",
          "height": 34
        },
        "outputId": "70a6ee9f-5104-4298-f180-8e84384ec0b5"
      },
      "source": [
        "finaldata.shape"
      ],
      "execution_count": null,
      "outputs": [
        {
          "output_type": "execute_result",
          "data": {
            "text/plain": [
              "(15340, 3)"
            ]
          },
          "metadata": {
            "tags": []
          },
          "execution_count": 28
        }
      ]
    },
    {
      "cell_type": "markdown",
      "metadata": {
        "id": "9GV2jIVm9YB0",
        "colab_type": "text"
      },
      "source": [
        "## Preview"
      ]
    },
    {
      "cell_type": "code",
      "metadata": {
        "id": "lg-oKJ349YB1",
        "colab_type": "code",
        "colab": {
          "base_uri": "https://localhost:8080/",
          "height": 461
        },
        "outputId": "d6035efb-5f6a-4eb0-b73f-71def5ba2bf9"
      },
      "source": [
        "top10 = finaldata.head(5)\n",
        "#top10.style.set_properties(subset=['Service Classification'], **{'width': '400px', 'text-align': 'left'})\n",
        "#top10.style.set_properties(subset=['Service Desciption'], **{'width': '600px', 'text-align': 'left', \"font-size\": \"100%\"})\n",
        "\n",
        "\n",
        "styles = [\n",
        "    dict(selector=\"th\", props=[(\"font-size\", \"160%\"), (\"text-align\", \"left\")]),\n",
        "    dict(selector=\"td\", props=[(\"font-size\", \"100%\"), (\"text-align\", \"left\")]),\n",
        "    dict(selector=\"caption\", props=[(\"caption-side\", \"bottom\"), ('width', '600px')]),\n",
        "]\n",
        "top10.style.set_table_styles(styles)\n",
        "\n",
        "#top10.style.set_properties(subset=['Service Classification'], **{'width': '150px', 'text-align': 'left'})\n",
        "\n",
        "\n",
        "# html"
      ],
      "execution_count": null,
      "outputs": [
        {
          "output_type": "execute_result",
          "data": {
            "text/html": [
              "<style  type=\"text/css\" >\n",
              "    #T_a28f55b2_a5d9_11ea_a746_0242ac1c0002 th {\n",
              "          font-size: 160%;\n",
              "          text-align: left;\n",
              "    }    #T_a28f55b2_a5d9_11ea_a746_0242ac1c0002 td {\n",
              "          font-size: 100%;\n",
              "          text-align: left;\n",
              "    }    #T_a28f55b2_a5d9_11ea_a746_0242ac1c0002 caption {\n",
              "          caption-side: bottom;\n",
              "          width: 600px;\n",
              "    }</style><table id=\"T_a28f55b2_a5d9_11ea_a746_0242ac1c0002\" ><thead>    <tr>        <th class=\"blank level0\" ></th>        <th class=\"col_heading level0 col0\" >ServiceName</th>        <th class=\"col_heading level0 col1\" >ServiceDescription</th>        <th class=\"col_heading level0 col2\" >ServiceClassification</th>    </tr></thead><tbody>\n",
              "                <tr>\n",
              "                        <th id=\"T_a28f55b2_a5d9_11ea_a746_0242ac1c0002level0_row0\" class=\"row_heading level0 row0\" >0</th>\n",
              "                        <td id=\"T_a28f55b2_a5d9_11ea_a746_0242ac1c0002row0_col0\" class=\"data row0 col0\" >Google Maps API</td>\n",
              "                        <td id=\"T_a28f55b2_a5d9_11ea_a746_0242ac1c0002row0_col1\" class=\"data row0 col1\" >Google Maps' services have been split into multiple APIs, including the Static Maps API, Street View Image API, Directions APIs, Distance Matrix API, Elevation API, Geocoding API, Geolocation API, Places API, Roads API, and Time Zone API. This page is maintained purely for historical and research purposes.] The Google Maps API allow for the embedding of Google Maps onto web pages of outside developers, using a simple JavaScript interface or a Flash interface. It is designed to work on both mobile devices as well as traditional desktop browser applications. The API includes language localization for over 50 languages, region localization and geocoding, and has mechanisms for enterprise developers who want to utilize the Google Maps API within an intranet. The API HTTP services can be accessed over a secure (HTTPS) connection by Google Maps API Premier customers.</td>\n",
              "                        <td id=\"T_a28f55b2_a5d9_11ea_a746_0242ac1c0002row0_col2\" class=\"data row0 col2\" >Mapping</td>\n",
              "            </tr>\n",
              "            <tr>\n",
              "                        <th id=\"T_a28f55b2_a5d9_11ea_a746_0242ac1c0002level0_row1\" class=\"row_heading level0 row1\" >1</th>\n",
              "                        <td id=\"T_a28f55b2_a5d9_11ea_a746_0242ac1c0002row1_col0\" class=\"data row1 col0\" >Twitter API</td>\n",
              "                        <td id=\"T_a28f55b2_a5d9_11ea_a746_0242ac1c0002row1_col1\" class=\"data row1 col1\" >It has been split into multiple APIs, including the Twitter Ads API, Twitter Search Tweets API, and Twitter Direct Message API. This profile is maintained for historical, research, and reference purposes only.The Twitter micro-blogging service includes two RESTful APIs. The Twitter REST API methods allow developers to access core Twitter data. This includes update timelines, status data, and user information. The Search API methods give developers methods to interact with Twitter Search and trends data. The API presently supports the following data formats: XML, JSON, and the RSS and Atom syndication formats, with some methods only accepting a subset of these formats.</td>\n",
              "                        <td id=\"T_a28f55b2_a5d9_11ea_a746_0242ac1c0002row1_col2\" class=\"data row1 col2\" >Social</td>\n",
              "            </tr>\n",
              "            <tr>\n",
              "                        <th id=\"T_a28f55b2_a5d9_11ea_a746_0242ac1c0002level0_row2\" class=\"row_heading level0 row2\" >2</th>\n",
              "                        <td id=\"T_a28f55b2_a5d9_11ea_a746_0242ac1c0002row2_col0\" class=\"data row2 col0\" >YouTube API</td>\n",
              "                        <td id=\"T_a28f55b2_a5d9_11ea_a746_0242ac1c0002row2_col1\" class=\"data row2 col1\" >The Data API allows users to integrate their program with YouTube and allow it to perform many of the operations available on the website. It provides the capability to search for videos, retrieve standard feeds, and see related content. A program can also authenticate as a user to upload videos, modify user playlists, and more. This integration can be used for a variety of uses such as developing a web application allowing users to upload video to YouTube, or a device or desktop application that brings the YouTube experience to a new platform. The Data API gives users programmatic access to the video and user information stored on YouTube. This can be used to personalize a web site or application with the user's existing information as well as perform actions like commenting on and rating videos. This RESTful API provides responses in XML format.</td>\n",
              "                        <td id=\"T_a28f55b2_a5d9_11ea_a746_0242ac1c0002row2_col2\" class=\"data row2 col2\" >Video</td>\n",
              "            </tr>\n",
              "            <tr>\n",
              "                        <th id=\"T_a28f55b2_a5d9_11ea_a746_0242ac1c0002level0_row3\" class=\"row_heading level0 row3\" >3</th>\n",
              "                        <td id=\"T_a28f55b2_a5d9_11ea_a746_0242ac1c0002row3_col0\" class=\"data row3 col0\" >Flickr API</td>\n",
              "                        <td id=\"T_a28f55b2_a5d9_11ea_a746_0242ac1c0002row3_col1\" class=\"data row3 col1\" >The Flickr API can be used to retrieve photos from the Flickr photo sharing service using a variety of feedspublic photos and videos, favorites, friends, group pools, discussions, and more. The API can also be used to upload photos and video.The Flickr API supports many protocols including REST, SOAP, XML-RPC. Responses can be formatted in XML, XML-RPC, JSON and PHP. Documentation is included for 14 API Kit libraries.</td>\n",
              "                        <td id=\"T_a28f55b2_a5d9_11ea_a746_0242ac1c0002row3_col2\" class=\"data row3 col2\" >Photos</td>\n",
              "            </tr>\n",
              "            <tr>\n",
              "                        <th id=\"T_a28f55b2_a5d9_11ea_a746_0242ac1c0002level0_row4\" class=\"row_heading level0 row4\" >4</th>\n",
              "                        <td id=\"T_a28f55b2_a5d9_11ea_a746_0242ac1c0002row4_col0\" class=\"data row4 col0\" >Facebook API</td>\n",
              "                        <td id=\"T_a28f55b2_a5d9_11ea_a746_0242ac1c0002row4_col1\" class=\"data row4 col1\" >Its functions have been split among the following APIs: Facebook Ads, Facebook Atlas, Facebook Graph, and Facebook Marketing. This profile is being maintained purely for historical and research purposes.] The Facebook API is a platform for building applications that are available to the members of the social network of Facebook. The API allows applications to use the social connections and profile information to make applications more involving, and to publish activities to the news feed and profile pages of Facebook, subject to individual users privacy settings. With the API, users can add social context to their applications by utilizing profile, friend, Page, group, photo, and event data. The API uses RESTful protocol and responses are in JSON format.</td>\n",
              "                        <td id=\"T_a28f55b2_a5d9_11ea_a746_0242ac1c0002row4_col2\" class=\"data row4 col2\" >Social</td>\n",
              "            </tr>\n",
              "    </tbody></table>"
            ],
            "text/plain": [
              "<pandas.io.formats.style.Styler at 0x7f600050b8d0>"
            ]
          },
          "metadata": {
            "tags": []
          },
          "execution_count": 29
        }
      ]
    },
    {
      "cell_type": "markdown",
      "metadata": {
        "id": "uGdaHwd59YB2",
        "colab_type": "text"
      },
      "source": [
        "## 2. Categories Anaylsis"
      ]
    },
    {
      "cell_type": "markdown",
      "metadata": {
        "id": "asbB1fQu9YB3",
        "colab_type": "text"
      },
      "source": [
        "### Count Number of Categories"
      ]
    },
    {
      "cell_type": "code",
      "metadata": {
        "scrolled": true,
        "id": "EffBsdBg9YB3",
        "colab_type": "code",
        "colab": {
          "base_uri": "https://localhost:8080/",
          "height": 221
        },
        "outputId": "4e5b4bc4-4acc-4322-e08e-eb023cb329eb"
      },
      "source": [
        "labelcount = finaldata['ServiceClassification'].value_counts()\n",
        "labelcount"
      ],
      "execution_count": null,
      "outputs": [
        {
          "output_type": "execute_result",
          "data": {
            "text/plain": [
              "Tools        767\n",
              "Financial    687\n",
              "Messaging    511\n",
              "eCommerce    466\n",
              "Payments     460\n",
              "            ... \n",
              "Notes          1\n",
              "Trivia         1\n",
              "Adoption       1\n",
              "European       1\n",
              "REST           1\n",
              "Name: ServiceClassification, Length: 401, dtype: int64"
            ]
          },
          "metadata": {
            "tags": []
          },
          "execution_count": 30
        }
      ]
    },
    {
      "cell_type": "code",
      "metadata": {
        "id": "Lapg8nfem6gm",
        "colab_type": "code",
        "colab": {
          "base_uri": "https://localhost:8080/",
          "height": 221
        },
        "outputId": "a4f9a59a-e957-4e32-c2c6-ffa97aca1797"
      },
      "source": [
        "serviceName = finaldata['ServiceName']\n",
        "serviceName"
      ],
      "execution_count": null,
      "outputs": [
        {
          "output_type": "execute_result",
          "data": {
            "text/plain": [
              "0                        Google Maps API\n",
              "1                            Twitter API\n",
              "2                            YouTube API\n",
              "3                             Flickr API\n",
              "4                           Facebook API\n",
              "                      ...               \n",
              "15339                         Mollom API\n",
              "15340    FraudLabs MailBox Validator API\n",
              "15341                         Weewar API\n",
              "15342            XigniteGlobalQuotes API\n",
              "15343                           PDBj API\n",
              "Name: ServiceName, Length: 15340, dtype: object"
            ]
          },
          "metadata": {
            "tags": []
          },
          "execution_count": 31
        }
      ]
    },
    {
      "cell_type": "markdown",
      "metadata": {
        "id": "AooW5ayo9YB5",
        "colab_type": "text"
      },
      "source": [
        "### Category Number > 100"
      ]
    },
    {
      "cell_type": "code",
      "metadata": {
        "id": "1IjIFVOW9YB5",
        "colab_type": "code",
        "colab": {
          "base_uri": "https://localhost:8080/",
          "height": 34
        },
        "outputId": "0ca75771-92e4-49cf-a3ad-0a25849e1210"
      },
      "source": [
        "labelcount[labelcount > 100].count()"
      ],
      "execution_count": null,
      "outputs": [
        {
          "output_type": "execute_result",
          "data": {
            "text/plain": [
              "41"
            ]
          },
          "metadata": {
            "tags": []
          },
          "execution_count": 32
        }
      ]
    },
    {
      "cell_type": "markdown",
      "metadata": {
        "id": "csD2ibWV9YB6",
        "colab_type": "text"
      },
      "source": [
        "### Category Number > 200"
      ]
    },
    {
      "cell_type": "code",
      "metadata": {
        "id": "wOgWlfP79YB7",
        "colab_type": "code",
        "colab": {
          "base_uri": "https://localhost:8080/",
          "height": 34
        },
        "outputId": "187dfc74-7aee-4775-886e-b809992bbfe5"
      },
      "source": [
        "labelcount[labelcount > 200].count()"
      ],
      "execution_count": null,
      "outputs": [
        {
          "output_type": "execute_result",
          "data": {
            "text/plain": [
              "22"
            ]
          },
          "metadata": {
            "tags": []
          },
          "execution_count": 33
        }
      ]
    },
    {
      "cell_type": "code",
      "metadata": {
        "id": "Qh7Or_hv9YB8",
        "colab_type": "code",
        "colab": {
          "base_uri": "https://localhost:8080/",
          "height": 204
        },
        "outputId": "7f8c99ae-5a5c-4959-d6ce-5dc8c38c0f17"
      },
      "source": [
        "labelcount[0:10]"
      ],
      "execution_count": null,
      "outputs": [
        {
          "output_type": "execute_result",
          "data": {
            "text/plain": [
              "Tools         767\n",
              "Financial     687\n",
              "Messaging     511\n",
              "eCommerce     466\n",
              "Payments      460\n",
              "Social        433\n",
              "Enterprise    412\n",
              "Mapping       362\n",
              "Government    304\n",
              "Telephony     300\n",
              "Name: ServiceClassification, dtype: int64"
            ]
          },
          "metadata": {
            "tags": []
          },
          "execution_count": 34
        }
      ]
    },
    {
      "cell_type": "code",
      "metadata": {
        "id": "1pgdZJB79YB9",
        "colab_type": "code",
        "colab": {
          "base_uri": "https://localhost:8080/",
          "height": 374
        },
        "outputId": "8d641fc4-8a2a-4a2d-eb5f-f123e4d477ba"
      },
      "source": [
        "labelcount[0:20]"
      ],
      "execution_count": null,
      "outputs": [
        {
          "output_type": "execute_result",
          "data": {
            "text/plain": [
              "Tools             767\n",
              "Financial         687\n",
              "Messaging         511\n",
              "eCommerce         466\n",
              "Payments          460\n",
              "Social            433\n",
              "Enterprise        412\n",
              "Mapping           362\n",
              "Government        304\n",
              "Telephony         300\n",
              "Science           298\n",
              "Email             255\n",
              "Search            251\n",
              "Video             251\n",
              "Reference         251\n",
              "Security          251\n",
              "Travel            243\n",
              "Sports            228\n",
              "Advertising       224\n",
              "Transportation    218\n",
              "Name: ServiceClassification, dtype: int64"
            ]
          },
          "metadata": {
            "tags": []
          },
          "execution_count": 35
        }
      ]
    },
    {
      "cell_type": "code",
      "metadata": {
        "id": "wrhfC7ET9YB_",
        "colab_type": "code",
        "colab": {
          "base_uri": "https://localhost:8080/",
          "height": 544
        },
        "outputId": "63bb221d-8d62-4317-f8a6-b27239c12bbb"
      },
      "source": [
        "labelcount[0:30]"
      ],
      "execution_count": null,
      "outputs": [
        {
          "output_type": "execute_result",
          "data": {
            "text/plain": [
              "Tools                 767\n",
              "Financial             687\n",
              "Messaging             511\n",
              "eCommerce             466\n",
              "Payments              460\n",
              "Social                433\n",
              "Enterprise            412\n",
              "Mapping               362\n",
              "Government            304\n",
              "Telephony             300\n",
              "Science               298\n",
              "Email                 255\n",
              "Search                251\n",
              "Video                 251\n",
              "Reference             251\n",
              "Security              251\n",
              "Travel                243\n",
              "Sports                228\n",
              "Advertising           224\n",
              "Transportation        218\n",
              "Education             215\n",
              "Games                 203\n",
              "Music                 191\n",
              "Photos                185\n",
              "Cloud                 173\n",
              "Other                 158\n",
              "Bitcoin               143\n",
              "Data                  142\n",
              "Project Management    142\n",
              "Shipping              136\n",
              "Name: ServiceClassification, dtype: int64"
            ]
          },
          "metadata": {
            "tags": []
          },
          "execution_count": 36
        }
      ]
    },
    {
      "cell_type": "code",
      "metadata": {
        "id": "YU59FCNM9YCB",
        "colab_type": "code",
        "colab": {
          "base_uri": "https://localhost:8080/",
          "height": 714
        },
        "outputId": "7190564d-f436-4d20-f3ee-32e8c79bc0c7"
      },
      "source": [
        "labelcount[0:40]"
      ],
      "execution_count": null,
      "outputs": [
        {
          "output_type": "execute_result",
          "data": {
            "text/plain": [
              "Tools                      767\n",
              "Financial                  687\n",
              "Messaging                  511\n",
              "eCommerce                  466\n",
              "Payments                   460\n",
              "Social                     433\n",
              "Enterprise                 412\n",
              "Mapping                    362\n",
              "Government                 304\n",
              "Telephony                  300\n",
              "Science                    298\n",
              "Email                      255\n",
              "Search                     251\n",
              "Video                      251\n",
              "Reference                  251\n",
              "Security                   251\n",
              "Travel                     243\n",
              "Sports                     228\n",
              "Advertising                224\n",
              "Transportation             218\n",
              "Education                  215\n",
              "Games                      203\n",
              "Music                      191\n",
              "Photos                     185\n",
              "Cloud                      173\n",
              "Other                      158\n",
              "Bitcoin                    143\n",
              "Data                       142\n",
              "Project Management         142\n",
              "Shipping                   136\n",
              "Database                   136\n",
              "Backend                    134\n",
              "Stocks                     133\n",
              "Weather                    132\n",
              "Application Development    123\n",
              "Analytics                  115\n",
              "Internet of Things         113\n",
              "Banking                    111\n",
              "Medical                    110\n",
              "Real Estate                108\n",
              "Name: ServiceClassification, dtype: int64"
            ]
          },
          "metadata": {
            "tags": []
          },
          "execution_count": 37
        }
      ]
    },
    {
      "cell_type": "code",
      "metadata": {
        "id": "v4PpP__q9YCC",
        "colab_type": "code",
        "colab": {
          "base_uri": "https://localhost:8080/",
          "height": 884
        },
        "outputId": "467f84d0-2918-421d-a0fa-599f1d33e1c9"
      },
      "source": [
        "labelcount[0:50]"
      ],
      "execution_count": null,
      "outputs": [
        {
          "output_type": "execute_result",
          "data": {
            "text/plain": [
              "Tools                      767\n",
              "Financial                  687\n",
              "Messaging                  511\n",
              "eCommerce                  466\n",
              "Payments                   460\n",
              "Social                     433\n",
              "Enterprise                 412\n",
              "Mapping                    362\n",
              "Government                 304\n",
              "Telephony                  300\n",
              "Science                    298\n",
              "Email                      255\n",
              "Search                     251\n",
              "Video                      251\n",
              "Reference                  251\n",
              "Security                   251\n",
              "Travel                     243\n",
              "Sports                     228\n",
              "Advertising                224\n",
              "Transportation             218\n",
              "Education                  215\n",
              "Games                      203\n",
              "Music                      191\n",
              "Photos                     185\n",
              "Cloud                      173\n",
              "Other                      158\n",
              "Bitcoin                    143\n",
              "Data                       142\n",
              "Project Management         142\n",
              "Shipping                   136\n",
              "Database                   136\n",
              "Backend                    134\n",
              "Stocks                     133\n",
              "Weather                    132\n",
              "Application Development    123\n",
              "Analytics                  115\n",
              "Internet of Things         113\n",
              "Banking                    111\n",
              "Medical                    110\n",
              "Real Estate                108\n",
              "Events                     108\n",
              "Storage                     99\n",
              "Entertainment               95\n",
              "File Sharing                86\n",
              "Domains                     84\n",
              "Images                      83\n",
              "Media                       82\n",
              "News Services               82\n",
              "Chat                        82\n",
              "Office                      81\n",
              "Name: ServiceClassification, dtype: int64"
            ]
          },
          "metadata": {
            "tags": []
          },
          "execution_count": 38
        }
      ]
    },
    {
      "cell_type": "code",
      "metadata": {
        "scrolled": true,
        "id": "rmZrMR6Q9YCD",
        "colab_type": "code",
        "colab": {
          "base_uri": "https://localhost:8080/",
          "height": 221
        },
        "outputId": "9ee5b06d-a85c-40c6-95f3-5f49347a69e6"
      },
      "source": [
        "labelcount[0:100]"
      ],
      "execution_count": null,
      "outputs": [
        {
          "output_type": "execute_result",
          "data": {
            "text/plain": [
              "Tools            767\n",
              "Financial        687\n",
              "Messaging        511\n",
              "eCommerce        466\n",
              "Payments         460\n",
              "                ... \n",
              "Addresses         30\n",
              "Browsers          29\n",
              "Notifications     29\n",
              "Sales             29\n",
              "Bookmarks         28\n",
              "Name: ServiceClassification, Length: 100, dtype: int64"
            ]
          },
          "metadata": {
            "tags": []
          },
          "execution_count": 39
        }
      ]
    },
    {
      "cell_type": "markdown",
      "metadata": {
        "id": "CPBXJM3M9YCE",
        "colab_type": "text"
      },
      "source": [
        "### Half of categories less than 10"
      ]
    },
    {
      "cell_type": "code",
      "metadata": {
        "id": "ghPch77Q9YCE",
        "colab_type": "code",
        "colab": {
          "base_uri": "https://localhost:8080/",
          "height": 34
        },
        "outputId": "ba184c9b-411b-4aca-c6cd-d6525e693e2b"
      },
      "source": [
        "labelcount[labelcount < 10].count()"
      ],
      "execution_count": null,
      "outputs": [
        {
          "output_type": "execute_result",
          "data": {
            "text/plain": [
              "217"
            ]
          },
          "metadata": {
            "tags": []
          },
          "execution_count": 40
        }
      ]
    },
    {
      "cell_type": "code",
      "metadata": {
        "id": "Oq8g9XZE9YCF",
        "colab_type": "code",
        "colab": {
          "base_uri": "https://localhost:8080/",
          "height": 34
        },
        "outputId": "5b27bd13-79df-40d3-c654-2667e43362c9"
      },
      "source": [
        "labelcount[labelcount > 100].count()"
      ],
      "execution_count": null,
      "outputs": [
        {
          "output_type": "execute_result",
          "data": {
            "text/plain": [
              "41"
            ]
          },
          "metadata": {
            "tags": []
          },
          "execution_count": 41
        }
      ]
    },
    {
      "cell_type": "code",
      "metadata": {
        "id": "TdFAT52x9YCG",
        "colab_type": "code",
        "colab": {
          "base_uri": "https://localhost:8080/",
          "height": 34
        },
        "outputId": "62c86bef-2362-4a6a-9a1c-c882221c5d76"
      },
      "source": [
        "labelcount[labelcount == 1].count()"
      ],
      "execution_count": null,
      "outputs": [
        {
          "output_type": "execute_result",
          "data": {
            "text/plain": [
              "41"
            ]
          },
          "metadata": {
            "tags": []
          },
          "execution_count": 42
        }
      ]
    },
    {
      "cell_type": "code",
      "metadata": {
        "id": "4PhTxRgx9YCH",
        "colab_type": "code",
        "colab": {
          "base_uri": "https://localhost:8080/",
          "height": 714
        },
        "outputId": "7ad0efbc-698c-4b66-e7ff-b69c2a7f3ea5"
      },
      "source": [
        "labelcount[-41:-1]"
      ],
      "execution_count": null,
      "outputs": [
        {
          "output_type": "execute_result",
          "data": {
            "text/plain": [
              "Civics                 1\n",
              "Summary                1\n",
              "Recreation             1\n",
              "OAuth                  1\n",
              "API Education          1\n",
              "Drawing                1\n",
              "Virtualization         1\n",
              "History                1\n",
              "Developer Relations    1\n",
              "German                 1\n",
              "Sustainability         1\n",
              "Announcements          1\n",
              "Canadian               1\n",
              "iPaaS                  1\n",
              "Polls                  1\n",
              "Australian             1\n",
              "Contracts              1\n",
              "Copyright              1\n",
              "Flowers                1\n",
              "Postcodes              1\n",
              "Accessibility          1\n",
              "Panorama               1\n",
              "Housing                1\n",
              "Discounts              1\n",
              "Subtitles              1\n",
              "Tourism                1\n",
              "Availability           1\n",
              "Viewer                 1\n",
              "Gestures               1\n",
              "Datacenter             1\n",
              "Economics              1\n",
              "Gadgets                1\n",
              "Newsletters            1\n",
              "Modules                1\n",
              "African                1\n",
              "IDE                    1\n",
              "Notes                  1\n",
              "Trivia                 1\n",
              "Adoption               1\n",
              "European               1\n",
              "Name: ServiceClassification, dtype: int64"
            ]
          },
          "metadata": {
            "tags": []
          },
          "execution_count": 43
        }
      ]
    },
    {
      "cell_type": "code",
      "metadata": {
        "id": "Di6GuLEx9YCJ",
        "colab_type": "code",
        "colab": {
          "base_uri": "https://localhost:8080/",
          "height": 34
        },
        "outputId": "36147018-cad8-45ff-9999-5c2b144ed87e"
      },
      "source": [
        "maxcount = labelcount[0]\n",
        "np.mean(abs(maxcount - labelcount))"
      ],
      "execution_count": null,
      "outputs": [
        {
          "output_type": "execute_result",
          "data": {
            "text/plain": [
              "728.8329177057357"
            ]
          },
          "metadata": {
            "tags": []
          },
          "execution_count": 44
        }
      ]
    },
    {
      "cell_type": "markdown",
      "metadata": {
        "id": "lHa98Ea79YCK",
        "colab_type": "text"
      },
      "source": [
        "### Histogram"
      ]
    },
    {
      "cell_type": "code",
      "metadata": {
        "id": "Y3dRmOBk9YCK",
        "colab_type": "code",
        "colab": {
          "base_uri": "https://localhost:8080/",
          "height": 300
        },
        "outputId": "3482d5cc-fc12-45bd-98ce-147e797db615"
      },
      "source": [
        "plt.figure(figsize=(70, 10))\n",
        "labelcount.plot(kind='bar')\n",
        "plt.savefig('Data/HistogramAllCatagories.pdf', format='pdf', dpi=300)"
      ],
      "execution_count": null,
      "outputs": [
        {
          "output_type": "display_data",
          "data": {
            "image/png": "[encoded data removed]",
            "text/plain": [
              "<Figure size 5040x720 with 1 Axes>"
            ]
          },
          "metadata": {
            "tags": [],
            "needs_background": "light"
          }
        }
      ]
    },
    {
      "cell_type": "markdown",
      "metadata": {
        "id": "KuBZduUH9YCL",
        "colab_type": "text"
      },
      "source": [
        "### Get TOP 50 categories dataset"
      ]
    },
    {
      "cell_type": "code",
      "metadata": {
        "id": "Q1Eiud4K9YCL",
        "colab_type": "code",
        "colab": {}
      },
      "source": [
        "top50 = labelcount[0:50]"
      ],
      "execution_count": null,
      "outputs": []
    },
    {
      "cell_type": "code",
      "metadata": {
        "id": "gFIbUWo_9YCN",
        "colab_type": "code",
        "colab": {}
      },
      "source": [
        "top50list = list(top50.index)\n",
        "top50index = finaldata['ServiceClassification'].isin(top50list)"
      ],
      "execution_count": null,
      "outputs": []
    },
    {
      "cell_type": "code",
      "metadata": {
        "id": "PwpCgefn9YCO",
        "colab_type": "code",
        "colab": {
          "base_uri": "https://localhost:8080/",
          "height": 34
        },
        "outputId": "133f632f-98c6-4d27-8fb3-75836caa5016"
      },
      "source": [
        "top50data = finaldata.loc[top50index]\n",
        "top50data.shape"
      ],
      "execution_count": null,
      "outputs": [
        {
          "output_type": "execute_result",
          "data": {
            "text/plain": [
              "(10957, 3)"
            ]
          },
          "metadata": {
            "tags": []
          },
          "execution_count": 48
        }
      ]
    },
    {
      "cell_type": "code",
      "metadata": {
        "scrolled": true,
        "id": "hqDIDfNu9YCP",
        "colab_type": "code",
        "colab": {}
      },
      "source": [
        "top50labelcount = top50data['ServiceClassification'].value_counts()"
      ],
      "execution_count": null,
      "outputs": []
    },
    {
      "cell_type": "code",
      "metadata": {
        "id": "YfT4ETuT9YCQ",
        "colab_type": "code",
        "colab": {
          "base_uri": "https://localhost:8080/",
          "height": 34
        },
        "outputId": "1e250ba0-4e15-4518-dc9d-1c4d9e1b81b6"
      },
      "source": [
        "maxcount = top50labelcount[0]\n",
        "np.mean(abs(maxcount - top50labelcount))"
      ],
      "execution_count": null,
      "outputs": [
        {
          "output_type": "execute_result",
          "data": {
            "text/plain": [
              "547.86"
            ]
          },
          "metadata": {
            "tags": []
          },
          "execution_count": 50
        }
      ]
    },
    {
      "cell_type": "code",
      "metadata": {
        "id": "iq4hmwFkKc61",
        "colab_type": "code",
        "colab": {}
      },
      "source": [
        "colors = \"bgrcmykw\"\n",
        "color_index = 0"
      ],
      "execution_count": null,
      "outputs": []
    },
    {
      "cell_type": "code",
      "metadata": {
        "id": "qAuAmWAP9YCR",
        "colab_type": "code",
        "colab": {
          "base_uri": "https://localhost:8080/",
          "height": 1000
        },
        "outputId": "148a8960-97b4-4f3f-a5c9-867d40b83437"
      },
      "source": [
        "plt.figure(figsize=(25, 25))\n",
        "plt.rcParams['axes.labelweight'] = 'bold'\n",
        "top50labelcount.plot(kind='bar', fontsize=20, facecolor='crimson')\n",
        "plt.savefig('Data/HistogramTop50.pdf', format='pdf', dpi=300)"
      ],
      "execution_count": null,
      "outputs": [
        {
          "output_type": "display_data",
          "data": {
            "image/png": "[encoded data removed]",
            "text/plain": [
              "<Figure size 1800x1800 with 1 Axes>"
            ]
          },
          "metadata": {
            "tags": [],
            "needs_background": "light"
          }
        }
      ]
    },
    {
      "cell_type": "code",
      "metadata": {
        "id": "6fsEazXZ9YCV",
        "colab_type": "code",
        "colab": {
          "base_uri": "https://localhost:8080/",
          "height": 884
        },
        "outputId": "f3b74fd9-eeb3-4b45-806e-9e79af1d74f3"
      },
      "source": [
        "top50labelcount"
      ],
      "execution_count": null,
      "outputs": [
        {
          "output_type": "execute_result",
          "data": {
            "text/plain": [
              "Tools                      767\n",
              "Financial                  687\n",
              "Messaging                  511\n",
              "eCommerce                  466\n",
              "Payments                   460\n",
              "Social                     433\n",
              "Enterprise                 412\n",
              "Mapping                    362\n",
              "Government                 304\n",
              "Telephony                  300\n",
              "Science                    298\n",
              "Email                      255\n",
              "Video                      251\n",
              "Reference                  251\n",
              "Search                     251\n",
              "Security                   251\n",
              "Travel                     243\n",
              "Sports                     228\n",
              "Advertising                224\n",
              "Transportation             218\n",
              "Education                  215\n",
              "Games                      203\n",
              "Music                      191\n",
              "Photos                     185\n",
              "Cloud                      173\n",
              "Other                      158\n",
              "Bitcoin                    143\n",
              "Data                       142\n",
              "Project Management         142\n",
              "Shipping                   136\n",
              "Database                   136\n",
              "Backend                    134\n",
              "Stocks                     133\n",
              "Weather                    132\n",
              "Application Development    123\n",
              "Analytics                  115\n",
              "Internet of Things         113\n",
              "Banking                    111\n",
              "Medical                    110\n",
              "Real Estate                108\n",
              "Events                     108\n",
              "Storage                     99\n",
              "Entertainment               95\n",
              "File Sharing                86\n",
              "Domains                     84\n",
              "Images                      83\n",
              "News Services               82\n",
              "Media                       82\n",
              "Chat                        82\n",
              "Office                      81\n",
              "Name: ServiceClassification, dtype: int64"
            ]
          },
          "metadata": {
            "tags": []
          },
          "execution_count": 53
        }
      ]
    },
    {
      "cell_type": "markdown",
      "metadata": {
        "id": "jDKd68sE9YCW",
        "colab_type": "text"
      },
      "source": [
        "## 3. Service Description to Vector"
      ]
    },
    {
      "cell_type": "code",
      "metadata": {
        "id": "WXhS0GkI9YCX",
        "colab_type": "code",
        "colab": {}
      },
      "source": [
        "import numpy as np\n",
        "from math import *\n",
        "from scipy import stats"
      ],
      "execution_count": null,
      "outputs": []
    },
    {
      "cell_type": "markdown",
      "metadata": {
        "id": "lv4dfNon9YCY",
        "colab_type": "text"
      },
      "source": [
        "### Max Length of the Name and Description"
      ]
    },
    {
      "cell_type": "code",
      "metadata": {
        "id": "TyPT8t_99YCZ",
        "colab_type": "code",
        "colab": {
          "base_uri": "https://localhost:8080/",
          "height": 80
        },
        "outputId": "847487ba-1fa1-4d1c-d0f1-b55440f5c9dd"
      },
      "source": [
        "top50data[top50data['ServiceDescription'] == max(top50data['ServiceDescription'], key=len)]"
      ],
      "execution_count": null,
      "outputs": [
        {
          "output_type": "execute_result",
          "data": {
            "text/html": [
              "<div>\n",
              "<style scoped>\n",
              "    .dataframe tbody tr th:only-of-type {\n",
              "        vertical-align: middle;\n",
              "    }\n",
              "\n",
              "    .dataframe tbody tr th {\n",
              "        vertical-align: top;\n",
              "    }\n",
              "\n",
              "    .dataframe thead th {\n",
              "        text-align: right;\n",
              "    }\n",
              "</style>\n",
              "<table border=\"1\" class=\"dataframe\">\n",
              "  <thead>\n",
              "    <tr style=\"text-align: right;\">\n",
              "      <th></th>\n",
              "      <th>ServiceName</th>\n",
              "      <th>ServiceDescription</th>\n",
              "      <th>ServiceClassification</th>\n",
              "    </tr>\n",
              "  </thead>\n",
              "  <tbody>\n",
              "    <tr>\n",
              "      <th>11856</th>\n",
              "      <td>GroupDocs API</td>\n",
              "      <td>GroupDocs is an online document management pla...</td>\n",
              "      <td>File Sharing</td>\n",
              "    </tr>\n",
              "  </tbody>\n",
              "</table>\n",
              "</div>"
            ],
            "text/plain": [
              "         ServiceName  ... ServiceClassification\n",
              "11856  GroupDocs API  ...          File Sharing\n",
              "\n",
              "[1 rows x 3 columns]"
            ]
          },
          "metadata": {
            "tags": []
          },
          "execution_count": 55
        }
      ]
    },
    {
      "cell_type": "code",
      "metadata": {
        "id": "8mpf4KOGnxK0",
        "colab_type": "code",
        "colab": {
          "base_uri": "https://localhost:8080/",
          "height": 80
        },
        "outputId": "88e85deb-1e61-4f93-e718-9f58049147f9"
      },
      "source": [
        "top50data[top50data['ServiceName'] == max(top50data['ServiceName'], key=len)]"
      ],
      "execution_count": null,
      "outputs": [
        {
          "output_type": "execute_result",
          "data": {
            "text/html": [
              "<div>\n",
              "<style scoped>\n",
              "    .dataframe tbody tr th:only-of-type {\n",
              "        vertical-align: middle;\n",
              "    }\n",
              "\n",
              "    .dataframe tbody tr th {\n",
              "        vertical-align: top;\n",
              "    }\n",
              "\n",
              "    .dataframe thead th {\n",
              "        text-align: right;\n",
              "    }\n",
              "</style>\n",
              "<table border=\"1\" class=\"dataframe\">\n",
              "  <thead>\n",
              "    <tr style=\"text-align: right;\">\n",
              "      <th></th>\n",
              "      <th>ServiceName</th>\n",
              "      <th>ServiceDescription</th>\n",
              "      <th>ServiceClassification</th>\n",
              "    </tr>\n",
              "  </thead>\n",
              "  <tbody>\n",
              "    <tr>\n",
              "      <th>4104</th>\n",
              "      <td>MAS Table III.7 SGX-ST: Price Index, Number of...</td>\n",
              "      <td>The MAS Table III.7 SGX-ST: Price Index, Numbe...</td>\n",
              "      <td>Stocks</td>\n",
              "    </tr>\n",
              "  </tbody>\n",
              "</table>\n",
              "</div>"
            ],
            "text/plain": [
              "                                            ServiceName  ... ServiceClassification\n",
              "4104  MAS Table III.7 SGX-ST: Price Index, Number of...  ...                Stocks\n",
              "\n",
              "[1 rows x 3 columns]"
            ]
          },
          "metadata": {
            "tags": []
          },
          "execution_count": 56
        }
      ]
    },
    {
      "cell_type": "code",
      "metadata": {
        "id": "lZtL7G8v9YCa",
        "colab_type": "code",
        "colab": {
          "base_uri": "https://localhost:8080/",
          "height": 54
        },
        "outputId": "ed2e1aec-1cbb-404e-e43f-0114d82dc62d"
      },
      "source": [
        "max(top50data['ServiceDescription'], key=len)"
      ],
      "execution_count": null,
      "outputs": [
        {
          "output_type": "execute_result",
          "data": {
            "text/plain": [
              "'GroupDocs is an online document management platform. GroupDocs allows users and organizations to manage and revise documents, create digital signatures, collaborate on documents, and search for all documents within groups. Various annotation options such as highlighting, underlining, striking out text as well as leaving comments on the text/images are included to make the proof-reading process easier for users. GroupDocs Annotation API for Kentico provides developers with a set of annotation tools, such as Text annotation, Area annotation, Point annotation, Polyline annotation and Strike-out text. Functionality of the Annotation API such as Text or image annotation, collaboration or exporting documents, allows developers to have the ultimate document management experience. Users can upload any PDF file and share this document with their colleagues through GroupDocs Annotation App. Any review comment incorporated will be saved and users can export the annotated PDF document with all the comments and annotations in place. All these notes and comments become part of the new exported file and can be viewed in any popular PDF reader. Email addresses of the reviewers are also highlighted so that developers can keep track of the comments from different reviewers at the same time. The Kentico Annotation API lets users annotate documents in real-time as well as collect review comments individually. Users have th option to collaborate with colleagues to share ideas via comments and see reviews in real-time. GroupDocs Annotation API for Kentico provides developers with a marker counter on the sidebar to easily navigate through all the comments. Familiar editing tools such as highlight text, insert a shape, strike out text as well as draw freehand directly on the document are available. GroupDocs Annotation API for Kentico enables users to annotate images, pictures and graphics as easily as text. Users can invite collaborators to review and add comments in the document simultaneously. Users can also keep an offline as well as hard-copy of the annotated PDF document for future reference. Interested developers can refer to the documentation for the RESTful API available online.'"
            ]
          },
          "metadata": {
            "tags": []
          },
          "execution_count": 57
        }
      ]
    },
    {
      "cell_type": "code",
      "metadata": {
        "id": "63VeHHIPn61p",
        "colab_type": "code",
        "colab": {
          "base_uri": "https://localhost:8080/",
          "height": 34
        },
        "outputId": "9af8ae23-c8de-4b2d-9bed-e86e28e8ccce"
      },
      "source": [
        "max(top50data['ServiceName'], key=len)"
      ],
      "execution_count": null,
      "outputs": [
        {
          "output_type": "execute_result",
          "data": {
            "text/plain": [
              "'MAS Table III.7 SGX-ST: Price Index, Number of Listed Companies, Turnover and Capitalisation, Monthly API'"
            ]
          },
          "metadata": {
            "tags": []
          },
          "execution_count": 58
        }
      ]
    },
    {
      "cell_type": "code",
      "metadata": {
        "id": "fZ1WUIo09YCb",
        "colab_type": "code",
        "colab": {
          "base_uri": "https://localhost:8080/",
          "height": 34
        },
        "outputId": "bf91ca7c-c568-40a3-93cd-20426a5183ad"
      },
      "source": [
        "len(max(top50data['ServiceDescription'], key=len).split())"
      ],
      "execution_count": null,
      "outputs": [
        {
          "output_type": "execute_result",
          "data": {
            "text/plain": [
              "334"
            ]
          },
          "metadata": {
            "tags": []
          },
          "execution_count": 59
        }
      ]
    },
    {
      "cell_type": "code",
      "metadata": {
        "id": "qo0tMWMSoApC",
        "colab_type": "code",
        "colab": {
          "base_uri": "https://localhost:8080/",
          "height": 34
        },
        "outputId": "9179f136-eb47-4e2f-90e8-fa360d10657f"
      },
      "source": [
        "len(max(top50data['ServiceName'], key=len).split())"
      ],
      "execution_count": null,
      "outputs": [
        {
          "output_type": "execute_result",
          "data": {
            "text/plain": [
              "15"
            ]
          },
          "metadata": {
            "tags": []
          },
          "execution_count": 60
        }
      ]
    },
    {
      "cell_type": "markdown",
      "metadata": {
        "id": "tkdU8Atp9YCc",
        "colab_type": "text"
      },
      "source": [
        "### Min Length of the Name and Description\n",
        "\n"
      ]
    },
    {
      "cell_type": "code",
      "metadata": {
        "id": "HyuVHftM9YCd",
        "colab_type": "code",
        "colab": {
          "base_uri": "https://localhost:8080/",
          "height": 80
        },
        "outputId": "fe77e9b7-4884-4b44-8fff-89680f06d3e8"
      },
      "source": [
        "top50data[top50data['ServiceDescription'] == min(top50data['ServiceDescription'], key=len)]"
      ],
      "execution_count": null,
      "outputs": [
        {
          "output_type": "execute_result",
          "data": {
            "text/html": [
              "<div>\n",
              "<style scoped>\n",
              "    .dataframe tbody tr th:only-of-type {\n",
              "        vertical-align: middle;\n",
              "    }\n",
              "\n",
              "    .dataframe tbody tr th {\n",
              "        vertical-align: top;\n",
              "    }\n",
              "\n",
              "    .dataframe thead th {\n",
              "        text-align: right;\n",
              "    }\n",
              "</style>\n",
              "<table border=\"1\" class=\"dataframe\">\n",
              "  <thead>\n",
              "    <tr style=\"text-align: right;\">\n",
              "      <th></th>\n",
              "      <th>ServiceName</th>\n",
              "      <th>ServiceDescription</th>\n",
              "      <th>ServiceClassification</th>\n",
              "    </tr>\n",
              "  </thead>\n",
              "  <tbody>\n",
              "    <tr>\n",
              "      <th>14766</th>\n",
              "      <td>Mapy API</td>\n",
              "      <td>Czech mapping API.</td>\n",
              "      <td>Mapping</td>\n",
              "    </tr>\n",
              "  </tbody>\n",
              "</table>\n",
              "</div>"
            ],
            "text/plain": [
              "      ServiceName  ServiceDescription ServiceClassification\n",
              "14766    Mapy API  Czech mapping API.               Mapping"
            ]
          },
          "metadata": {
            "tags": []
          },
          "execution_count": 61
        }
      ]
    },
    {
      "cell_type": "code",
      "metadata": {
        "id": "a1mZUQlvoH_A",
        "colab_type": "code",
        "colab": {
          "base_uri": "https://localhost:8080/",
          "height": 80
        },
        "outputId": "7a9e3568-3fab-4af6-a1e1-0d4c8333575b"
      },
      "source": [
        "top50data[top50data['ServiceName'] == min(top50data['ServiceName'], key=len)]"
      ],
      "execution_count": null,
      "outputs": [
        {
          "output_type": "execute_result",
          "data": {
            "text/html": [
              "<div>\n",
              "<style scoped>\n",
              "    .dataframe tbody tr th:only-of-type {\n",
              "        vertical-align: middle;\n",
              "    }\n",
              "\n",
              "    .dataframe tbody tr th {\n",
              "        vertical-align: top;\n",
              "    }\n",
              "\n",
              "    .dataframe thead th {\n",
              "        text-align: right;\n",
              "    }\n",
              "</style>\n",
              "<table border=\"1\" class=\"dataframe\">\n",
              "  <thead>\n",
              "    <tr style=\"text-align: right;\">\n",
              "      <th></th>\n",
              "      <th>ServiceName</th>\n",
              "      <th>ServiceDescription</th>\n",
              "      <th>ServiceClassification</th>\n",
              "    </tr>\n",
              "  </thead>\n",
              "  <tbody>\n",
              "    <tr>\n",
              "      <th>193</th>\n",
              "      <td>23 API</td>\n",
              "      <td>We believe that APIs should be open and non-ve...</td>\n",
              "      <td>Photos</td>\n",
              "    </tr>\n",
              "  </tbody>\n",
              "</table>\n",
              "</div>"
            ],
            "text/plain": [
              "    ServiceName  ... ServiceClassification\n",
              "193      23 API  ...                Photos\n",
              "\n",
              "[1 rows x 3 columns]"
            ]
          },
          "metadata": {
            "tags": []
          },
          "execution_count": 62
        }
      ]
    },
    {
      "cell_type": "code",
      "metadata": {
        "scrolled": true,
        "id": "kFv34sRn9YCe",
        "colab_type": "code",
        "colab": {
          "base_uri": "https://localhost:8080/",
          "height": 34
        },
        "outputId": "04c96726-c7f1-4430-f2bc-a23066c63e9e"
      },
      "source": [
        "min(top50data['ServiceDescription'], key=len)"
      ],
      "execution_count": null,
      "outputs": [
        {
          "output_type": "execute_result",
          "data": {
            "text/plain": [
              "'Czech mapping API.'"
            ]
          },
          "metadata": {
            "tags": []
          },
          "execution_count": 63
        }
      ]
    },
    {
      "cell_type": "code",
      "metadata": {
        "id": "x0UPwT5a9YCf",
        "colab_type": "code",
        "colab": {
          "base_uri": "https://localhost:8080/",
          "height": 34
        },
        "outputId": "443afa11-9a03-4c3b-d255-7c2227d64594"
      },
      "source": [
        "len(min(top50data['ServiceDescription'], key=len).split())"
      ],
      "execution_count": null,
      "outputs": [
        {
          "output_type": "execute_result",
          "data": {
            "text/plain": [
              "3"
            ]
          },
          "metadata": {
            "tags": []
          },
          "execution_count": 64
        }
      ]
    },
    {
      "cell_type": "code",
      "metadata": {
        "id": "V-xi3QZroPh8",
        "colab_type": "code",
        "colab": {
          "base_uri": "https://localhost:8080/",
          "height": 34
        },
        "outputId": "af1a36a8-af18-474f-9a5e-2bca8699e5fb"
      },
      "source": [
        "min(top50data['ServiceName'], key=len)"
      ],
      "execution_count": null,
      "outputs": [
        {
          "output_type": "execute_result",
          "data": {
            "text/plain": [
              "'23 API'"
            ]
          },
          "metadata": {
            "tags": []
          },
          "execution_count": 65
        }
      ]
    },
    {
      "cell_type": "code",
      "metadata": {
        "id": "3xeX9MPUoTp0",
        "colab_type": "code",
        "colab": {
          "base_uri": "https://localhost:8080/",
          "height": 34
        },
        "outputId": "fef565aa-9f3e-4e8e-a5df-61a35245e5d5"
      },
      "source": [
        "len(min(top50data['ServiceName'], key=len).split())"
      ],
      "execution_count": null,
      "outputs": [
        {
          "output_type": "execute_result",
          "data": {
            "text/plain": [
              "2"
            ]
          },
          "metadata": {
            "tags": []
          },
          "execution_count": 66
        }
      ]
    },
    {
      "cell_type": "markdown",
      "metadata": {
        "id": "ulhdf_tj9YCg",
        "colab_type": "text"
      },
      "source": [
        "### Keep data within confidence level 90%"
      ]
    },
    {
      "cell_type": "code",
      "metadata": {
        "id": "aXoL9DNo9YCg",
        "colab_type": "code",
        "colab": {}
      },
      "source": [
        "f = lambda x : len(x.split())\n",
        "lens = top50data['ServiceDescription'].apply(f)"
      ],
      "execution_count": null,
      "outputs": []
    },
    {
      "cell_type": "code",
      "metadata": {
        "id": "gfaP011h9YCj",
        "colab_type": "code",
        "colab": {
          "base_uri": "https://localhost:8080/",
          "height": 34
        },
        "outputId": "7c1a9a00-5f9b-4803-d71f-68f51488e17b"
      },
      "source": [
        "mu = np.mean(lens)\n",
        "mu"
      ],
      "execution_count": null,
      "outputs": [
        {
          "output_type": "execute_result",
          "data": {
            "text/plain": [
              "67.36634115177512"
            ]
          },
          "metadata": {
            "tags": []
          },
          "execution_count": 68
        }
      ]
    },
    {
      "cell_type": "code",
      "metadata": {
        "id": "WTstofUn9YCk",
        "colab_type": "code",
        "colab": {
          "base_uri": "https://localhost:8080/",
          "height": 34
        },
        "outputId": "0570b068-4e91-4d08-e6d6-6d50c5e4d123"
      },
      "source": [
        "sigma = np.std(lens)\n",
        "sigma"
      ],
      "execution_count": null,
      "outputs": [
        {
          "output_type": "execute_result",
          "data": {
            "text/plain": [
              "26.00721866537207"
            ]
          },
          "metadata": {
            "tags": []
          },
          "execution_count": 69
        }
      ]
    },
    {
      "cell_type": "code",
      "metadata": {
        "id": "xBd6i5Ti9YCl",
        "colab_type": "code",
        "colab": {
          "base_uri": "https://localhost:8080/",
          "height": 34
        },
        "outputId": "451f82ef-963e-48f1-90f3-5669d0d05391"
      },
      "source": [
        "interval = stats.norm.interval(0.9, mu, sigma) \n",
        "interval"
      ],
      "execution_count": null,
      "outputs": [
        {
          "output_type": "execute_result",
          "data": {
            "text/plain": [
              "(24.58827320311783, 110.1444091004324)"
            ]
          },
          "metadata": {
            "tags": []
          },
          "execution_count": 70
        }
      ]
    },
    {
      "cell_type": "markdown",
      "metadata": {
        "id": "39fnBRKA9YCm",
        "colab_type": "text"
      },
      "source": [
        "### Historgram of Length Distribution "
      ]
    },
    {
      "cell_type": "code",
      "metadata": {
        "id": "xVWIZVa19YCm",
        "colab_type": "code",
        "colab": {
          "base_uri": "https://localhost:8080/",
          "height": 295
        },
        "outputId": "3ce005df-7bf5-4f8a-cd8b-08778a83818f"
      },
      "source": [
        "plt.hist(lens, bins=500, facecolor='r',histtype='stepfilled')  \n",
        " \n",
        "plt.xlabel('Length')\n",
        "plt.ylabel('Number of Length')\n",
        "plt.title('Length Distribution of Service Description')\n",
        "plt.savefig('Data/HistogramDescriptionLength.pdf', format='pdf', dpi=300)"
      ],
      "execution_count": null,
      "outputs": [
        {
          "output_type": "display_data",
          "data": {
            "image/png": "[encoded data removed]",
            "text/plain": [
              "<Figure size 432x288 with 1 Axes>"
            ]
          },
          "metadata": {
            "tags": [],
            "needs_background": "light"
          }
        }
      ]
    },
    {
      "cell_type": "code",
      "metadata": {
        "id": "jpMQOBZ-FzHQ",
        "colab_type": "code",
        "colab": {
          "base_uri": "https://localhost:8080/",
          "height": 34
        },
        "outputId": "ab225fef-e6f5-413a-899b-a8f12da68a94"
      },
      "source": [
        "len(top50data[(lens > 110)])"
      ],
      "execution_count": null,
      "outputs": [
        {
          "output_type": "execute_result",
          "data": {
            "text/plain": [
              "650"
            ]
          },
          "metadata": {
            "tags": []
          },
          "execution_count": 72
        }
      ]
    },
    {
      "cell_type": "code",
      "metadata": {
        "id": "9WbnG1dH9YCn",
        "colab_type": "code",
        "colab": {}
      },
      "source": [
        "finaltop50data = top50data"
      ],
      "execution_count": null,
      "outputs": []
    },
    {
      "cell_type": "code",
      "metadata": {
        "id": "sUMXkDeF9YCo",
        "colab_type": "code",
        "colab": {
          "base_uri": "https://localhost:8080/",
          "height": 34
        },
        "outputId": "e0b68ec5-9a49-4849-efcb-e9135141eb74"
      },
      "source": [
        "finaltop50data.shape"
      ],
      "execution_count": null,
      "outputs": [
        {
          "output_type": "execute_result",
          "data": {
            "text/plain": [
              "(10957, 3)"
            ]
          },
          "metadata": {
            "tags": []
          },
          "execution_count": 74
        }
      ]
    },
    {
      "cell_type": "code",
      "metadata": {
        "id": "HFL4GBTytqYA",
        "colab_type": "code",
        "colab": {}
      },
      "source": [
        "f = lambda x : len(x.split())\n",
        "lens = finaltop50data['ServiceName'].apply(f)"
      ],
      "execution_count": null,
      "outputs": []
    },
    {
      "cell_type": "code",
      "metadata": {
        "id": "NZfvsrKkqI4H",
        "colab_type": "code",
        "colab": {
          "base_uri": "https://localhost:8080/",
          "height": 295
        },
        "outputId": "79ea117a-5343-4136-b43d-c4cc43435505"
      },
      "source": [
        "plt.hist(lens, bins=500, facecolor='r',histtype='stepfilled')  \n",
        " \n",
        "plt.xlabel('Length')\n",
        "plt.ylabel('Number of Length')\n",
        "plt.title('Length Distribution of Service Name')\n",
        "plt.savefig('Data/HistogramNameLength.pdf', format='pdf', dpi=300)"
      ],
      "execution_count": null,
      "outputs": [
        {
          "output_type": "display_data",
          "data": {
            "image/png": "[encoded data removed]",
            "text/plain": [
              "<Figure size 432x288 with 1 Axes>"
            ]
          },
          "metadata": {
            "tags": [],
            "needs_background": "light"
          }
        }
      ]
    },
    {
      "cell_type": "code",
      "metadata": {
        "id": "HP0-EzPetuUo",
        "colab_type": "code",
        "colab": {
          "base_uri": "https://localhost:8080/",
          "height": 34
        },
        "outputId": "f1be7114-db98-4c56-c46b-f1a11a96f69a"
      },
      "source": [
        "len(finaltop50data[(lens > 10)])"
      ],
      "execution_count": null,
      "outputs": [
        {
          "output_type": "execute_result",
          "data": {
            "text/plain": [
              "14"
            ]
          },
          "metadata": {
            "tags": []
          },
          "execution_count": 77
        }
      ]
    },
    {
      "cell_type": "code",
      "metadata": {
        "id": "DrAqeJdLtwsN",
        "colab_type": "code",
        "colab": {
          "base_uri": "https://localhost:8080/",
          "height": 34
        },
        "outputId": "023ecf59-40f0-4a45-db29-b6a8e1e029bc"
      },
      "source": [
        "finaltop50data = finaltop50data[(lens <= 10)]\n",
        "finaltop50data.shape"
      ],
      "execution_count": null,
      "outputs": [
        {
          "output_type": "execute_result",
          "data": {
            "text/plain": [
              "(10943, 3)"
            ]
          },
          "metadata": {
            "tags": []
          },
          "execution_count": 78
        }
      ]
    },
    {
      "cell_type": "code",
      "metadata": {
        "id": "KHaSiHKq9YCp",
        "colab_type": "code",
        "colab": {
          "base_uri": "https://localhost:8080/",
          "height": 419
        },
        "outputId": "6c233e93-8860-445f-b6fa-e4f1735fa53f"
      },
      "source": [
        "finaltop50data"
      ],
      "execution_count": null,
      "outputs": [
        {
          "output_type": "execute_result",
          "data": {
            "text/html": [
              "<div>\n",
              "<style scoped>\n",
              "    .dataframe tbody tr th:only-of-type {\n",
              "        vertical-align: middle;\n",
              "    }\n",
              "\n",
              "    .dataframe tbody tr th {\n",
              "        vertical-align: top;\n",
              "    }\n",
              "\n",
              "    .dataframe thead th {\n",
              "        text-align: right;\n",
              "    }\n",
              "</style>\n",
              "<table border=\"1\" class=\"dataframe\">\n",
              "  <thead>\n",
              "    <tr style=\"text-align: right;\">\n",
              "      <th></th>\n",
              "      <th>ServiceName</th>\n",
              "      <th>ServiceDescription</th>\n",
              "      <th>ServiceClassification</th>\n",
              "    </tr>\n",
              "  </thead>\n",
              "  <tbody>\n",
              "    <tr>\n",
              "      <th>0</th>\n",
              "      <td>Google Maps API</td>\n",
              "      <td>Google Maps' services have been split into mul...</td>\n",
              "      <td>Mapping</td>\n",
              "    </tr>\n",
              "    <tr>\n",
              "      <th>1</th>\n",
              "      <td>Twitter API</td>\n",
              "      <td>It has been split into multiple APIs, includin...</td>\n",
              "      <td>Social</td>\n",
              "    </tr>\n",
              "    <tr>\n",
              "      <th>2</th>\n",
              "      <td>YouTube API</td>\n",
              "      <td>The Data API allows users to integrate their p...</td>\n",
              "      <td>Video</td>\n",
              "    </tr>\n",
              "    <tr>\n",
              "      <th>3</th>\n",
              "      <td>Flickr API</td>\n",
              "      <td>The Flickr API can be used to retrieve photos ...</td>\n",
              "      <td>Photos</td>\n",
              "    </tr>\n",
              "    <tr>\n",
              "      <th>4</th>\n",
              "      <td>Facebook API</td>\n",
              "      <td>Its functions have been split among the follow...</td>\n",
              "      <td>Social</td>\n",
              "    </tr>\n",
              "    <tr>\n",
              "      <th>...</th>\n",
              "      <td>...</td>\n",
              "      <td>...</td>\n",
              "      <td>...</td>\n",
              "    </tr>\n",
              "    <tr>\n",
              "      <th>15339</th>\n",
              "      <td>Mollom API</td>\n",
              "      <td>Use the Mollom API to combat spam. Mollom is a...</td>\n",
              "      <td>Security</td>\n",
              "    </tr>\n",
              "    <tr>\n",
              "      <th>15340</th>\n",
              "      <td>FraudLabs MailBox Validator API</td>\n",
              "      <td>Use the MailBoxValidator Email Validation Web ...</td>\n",
              "      <td>Email</td>\n",
              "    </tr>\n",
              "    <tr>\n",
              "      <th>15341</th>\n",
              "      <td>Weewar API</td>\n",
              "      <td>The Weewar API allows you to create notifiers,...</td>\n",
              "      <td>Games</td>\n",
              "    </tr>\n",
              "    <tr>\n",
              "      <th>15342</th>\n",
              "      <td>XigniteGlobalQuotes API</td>\n",
              "      <td>This API offers delayed stock quotes for equit...</td>\n",
              "      <td>Financial</td>\n",
              "    </tr>\n",
              "    <tr>\n",
              "      <th>15343</th>\n",
              "      <td>PDBj API</td>\n",
              "      <td>Use the Protein Data Bank Japan (PDBj) API to ...</td>\n",
              "      <td>Medical</td>\n",
              "    </tr>\n",
              "  </tbody>\n",
              "</table>\n",
              "<p>10943 rows × 3 columns</p>\n",
              "</div>"
            ],
            "text/plain": [
              "                           ServiceName  ... ServiceClassification\n",
              "0                      Google Maps API  ...               Mapping\n",
              "1                          Twitter API  ...                Social\n",
              "2                          YouTube API  ...                 Video\n",
              "3                           Flickr API  ...                Photos\n",
              "4                         Facebook API  ...                Social\n",
              "...                                ...  ...                   ...\n",
              "15339                       Mollom API  ...              Security\n",
              "15340  FraudLabs MailBox Validator API  ...                 Email\n",
              "15341                       Weewar API  ...                 Games\n",
              "15342          XigniteGlobalQuotes API  ...             Financial\n",
              "15343                         PDBj API  ...               Medical\n",
              "\n",
              "[10943 rows x 3 columns]"
            ]
          },
          "metadata": {
            "tags": []
          },
          "execution_count": 79
        }
      ]
    },
    {
      "cell_type": "markdown",
      "metadata": {
        "id": "sifYqqEk9YCq",
        "colab_type": "text"
      },
      "source": [
        "## Final Preview "
      ]
    },
    {
      "cell_type": "code",
      "metadata": {
        "id": "-taZbE-u9YCq",
        "colab_type": "code",
        "colab": {
          "base_uri": "https://localhost:8080/",
          "height": 34
        },
        "outputId": "370d7652-4b70-46f0-db7a-178ed165b482"
      },
      "source": [
        "finaltop50data.shape"
      ],
      "execution_count": null,
      "outputs": [
        {
          "output_type": "execute_result",
          "data": {
            "text/plain": [
              "(10943, 3)"
            ]
          },
          "metadata": {
            "tags": []
          },
          "execution_count": 80
        }
      ]
    },
    {
      "cell_type": "code",
      "metadata": {
        "id": "5TIxcf8r9YCr",
        "colab_type": "code",
        "colab": {}
      },
      "source": [
        "labelcount = finaltop50data['ServiceClassification'].value_counts()"
      ],
      "execution_count": null,
      "outputs": []
    },
    {
      "cell_type": "code",
      "metadata": {
        "id": "jc4sc1qz9YCs",
        "colab_type": "code",
        "colab": {
          "base_uri": "https://localhost:8080/",
          "height": 884
        },
        "outputId": "53b9999b-f393-4ecf-ac90-c345ca191316"
      },
      "source": [
        "labelcount"
      ],
      "execution_count": null,
      "outputs": [
        {
          "output_type": "execute_result",
          "data": {
            "text/plain": [
              "Tools                      767\n",
              "Financial                  685\n",
              "Messaging                  511\n",
              "eCommerce                  466\n",
              "Payments                   460\n",
              "Social                     433\n",
              "Enterprise                 412\n",
              "Mapping                    362\n",
              "Telephony                  300\n",
              "Government                 300\n",
              "Science                    298\n",
              "Email                      255\n",
              "Reference                  251\n",
              "Search                     251\n",
              "Video                      251\n",
              "Security                   251\n",
              "Travel                     243\n",
              "Sports                     228\n",
              "Advertising                224\n",
              "Transportation             218\n",
              "Education                  215\n",
              "Games                      203\n",
              "Music                      191\n",
              "Photos                     185\n",
              "Cloud                      173\n",
              "Other                      158\n",
              "Bitcoin                    143\n",
              "Project Management         142\n",
              "Data                       142\n",
              "Database                   136\n",
              "Shipping                   136\n",
              "Backend                    134\n",
              "Weather                    132\n",
              "Stocks                     131\n",
              "Application Development    123\n",
              "Analytics                  115\n",
              "Internet of Things         113\n",
              "Medical                    110\n",
              "Real Estate                108\n",
              "Events                     108\n",
              "Banking                    105\n",
              "Storage                     99\n",
              "Entertainment               95\n",
              "File Sharing                86\n",
              "Domains                     84\n",
              "Images                      83\n",
              "News Services               82\n",
              "Chat                        82\n",
              "Media                       82\n",
              "Office                      81\n",
              "Name: ServiceClassification, dtype: int64"
            ]
          },
          "metadata": {
            "tags": []
          },
          "execution_count": 82
        }
      ]
    },
    {
      "cell_type": "code",
      "metadata": {
        "id": "4UxGybMP9YCs",
        "colab_type": "code",
        "colab": {
          "base_uri": "https://localhost:8080/",
          "height": 1000
        },
        "outputId": "1442c541-952e-49c3-8a74-cf67eba6013c"
      },
      "source": [
        "plt.figure(figsize=(25, 15))\n",
        "labelcount.plot(kind='bar', fontsize=15)\n",
        "plt.savefig('Data/PostPrecessingHistogramTop50.pdf', format='pdf', dpi=300)"
      ],
      "execution_count": null,
      "outputs": [
        {
          "output_type": "display_data",
          "data": {
            "image/png": "[encoded data removed]",
            "text/plain": [
              "<Figure size 1800x1080 with 1 Axes>"
            ]
          },
          "metadata": {
            "tags": [],
            "needs_background": "light"
          }
        }
      ]
    },
    {
      "cell_type": "markdown",
      "metadata": {
        "id": "SJIz7f2A9YCt",
        "colab_type": "text"
      },
      "source": [
        "## 4. Save as CSV"
      ]
    },
    {
      "cell_type": "code",
      "metadata": {
        "id": "PFVyPYfE9YCu",
        "colab_type": "code",
        "colab": {}
      },
      "source": [
        "finaltop50data.to_csv('Data/ServiceWithName.csv', encoding='utf-8', index=False, header=True)"
      ],
      "execution_count": null,
      "outputs": []
    },
    {
      "cell_type": "markdown",
      "metadata": {
        "id": "kPxVYtft9YCu",
        "colab_type": "text"
      },
      "source": [
        "## 5. Save to H5"
      ]
    },
    {
      "cell_type": "code",
      "metadata": {
        "id": "ioCHycyc9YCu",
        "colab_type": "code",
        "colab": {}
      },
      "source": [
        "h5f = HDFStore('Data/ServiceWithName.h5')\n",
        "h5f.put('AllData', finaltop50data, format='table')\n",
        "h5f.close()"
      ],
      "execution_count": null,
      "outputs": []
    },
    {
      "cell_type": "code",
      "metadata": {
        "id": "lyz9ILGmnEr5",
        "colab_type": "code",
        "colab": {}
      },
      "source": [
        ""
      ],
      "execution_count": null,
      "outputs": []
    }
  ]
}