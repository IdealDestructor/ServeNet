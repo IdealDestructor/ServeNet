{
  "nbformat": 4,
  "nbformat_minor": 0,
  "metadata": {
    "colab": {
      "name": "3. ServeNet-BERT-SName-DataGenerator-Final",
      "provenance": [],
      "collapsed_sections": [],
      "machine_shape": "hm"
    },
    "kernelspec": {
      "name": "python3",
      "display_name": "Python 3"
    },
    "accelerator": "GPU"
  },
  "cells": [
    {
      "cell_type": "markdown",
      "metadata": {
        "id": "1HKMlKud3o3k",
        "colab_type": "text"
      },
      "source": [
        "# Servenet Pre-Setting\n"
      ]
    },
    {
      "cell_type": "code",
      "metadata": {
        "id": "BzhQSNbuaklR",
        "colab_type": "code",
        "colab": {
          "base_uri": "https://localhost:8080/",
          "height": 357
        },
        "outputId": "68543af3-7fd4-4f73-f834-3c2617234e6c"
      },
      "source": [
        "%tensorflow_version 2.x\n",
        "!nvidia-smi"
      ],
      "execution_count": 1,
      "outputs": [
        {
          "output_type": "stream",
          "text": [
            "Wed Aug  5 19:52:00 2020       \n",
            "+-----------------------------------------------------------------------------+\n",
            "| NVIDIA-SMI 450.57       Driver Version: 418.67       CUDA Version: 10.1     |\n",
            "|-------------------------------+----------------------+----------------------+\n",
            "| GPU  Name        Persistence-M| Bus-Id        Disp.A | Volatile Uncorr. ECC |\n",
            "| Fan  Temp  Perf  Pwr:Usage/Cap|         Memory-Usage | GPU-Util  Compute M. |\n",
            "|                               |                      |               MIG M. |\n",
            "|===============================+======================+======================|\n",
            "|   0  Tesla P100-PCIE...  Off  | 00000000:00:04.0 Off |                    0 |\n",
            "| N/A   36C    P0    25W / 250W |      0MiB / 16280MiB |      0%      Default |\n",
            "|                               |                      |                 ERR! |\n",
            "+-------------------------------+----------------------+----------------------+\n",
            "                                                                               \n",
            "+-----------------------------------------------------------------------------+\n",
            "| Processes:                                                                  |\n",
            "|  GPU   GI   CI        PID   Type   Process name                  GPU Memory |\n",
            "|        ID   ID                                                   Usage      |\n",
            "|=============================================================================|\n",
            "|  No running processes found                                                 |\n",
            "+-----------------------------------------------------------------------------+\n"
          ],
          "name": "stdout"
        }
      ]
    },
    {
      "cell_type": "code",
      "metadata": {
        "id": "AZO5mU1LQVMo",
        "colab_type": "code",
        "cellView": "both",
        "colab": {}
      },
      "source": [
        "#@title Hyberparameters:\n",
        "batch_size = 32 #@param {type:\"integer\"}\n",
        "# maxLen = 110 #@param {type:\"integer\"}\n",
        "# maxNameLen = 10 #@param {type:\"integer\"}\n",
        "\n",
        "bert_path = \"https://tfhub.dev/tensorflow/bert_en_uncased_L-12_H-768_A-12/2\" #@param [\"https://tfhub.dev/tensorflow/bert_en_uncased_L-12_H-768_A-12/2\", \"https://tfhub.dev/tensorflow/bert_en_uncased_L-24_H-1024_A-16/2\"]\n",
        "\n",
        "if bert_path == \"https://tfhub.dev/tensorflow/bert_en_uncased_L-12_H-768_A-12/2\":\n",
        "  hiddenSize = 768\n",
        "elif bert_path == \"https://tfhub.dev/tensorflow/bert_en_uncased_L-24_H-1024_A-16/2\":\n",
        "  hiddenSize = 1024\n",
        "\n",
        "# bert_path = \"https://tfhub.dev/tensorflow/albert_en_base/1\"  "
      ],
      "execution_count": 2,
      "outputs": []
    },
    {
      "cell_type": "code",
      "metadata": {
        "id": "rWuM5fDQjhFd",
        "colab_type": "code",
        "colab": {
          "base_uri": "https://localhost:8080/",
          "height": 51
        },
        "outputId": "a51b9bf6-13ad-4348-e678-9931908109d0"
      },
      "source": [
        "import tensorflow as tf\n",
        "import tensorflow_datasets as tfds\n",
        "import tensorflow_hub as hub\n",
        "from tensorflow.keras import backend as K\n",
        "\n",
        "print(\"TF version: \", tf.__version__)\n",
        "print(\"Hub version: \", hub.__version__)"
      ],
      "execution_count": 3,
      "outputs": [
        {
          "output_type": "stream",
          "text": [
            "TF version:  2.3.0\n",
            "Hub version:  0.8.0\n"
          ],
          "name": "stdout"
        }
      ]
    },
    {
      "cell_type": "code",
      "metadata": {
        "id": "3ka79TIssS9R",
        "colab_type": "code",
        "colab": {}
      },
      "source": [
        "SavePrefix='ServeNet-BERT-ServiceName-DataGenerator-More'"
      ],
      "execution_count": 4,
      "outputs": []
    },
    {
      "cell_type": "code",
      "metadata": {
        "id": "1doW1Rc69JQC",
        "colab_type": "code",
        "colab": {
          "base_uri": "https://localhost:8080/",
          "height": 122
        },
        "outputId": "ac837c3a-c2a6-442b-f0d5-370acce858f1"
      },
      "source": [
        "from google.colab import drive\n",
        "drive.mount('/content/drive')"
      ],
      "execution_count": 5,
      "outputs": [
        {
          "output_type": "stream",
          "text": [
            "Go to this URL in a browser: https://accounts.google.com/o/oauth2/auth?client_id=947318989803-6bn6qk8qdgf4n4g3pfee6491hc0brc4i.apps.googleusercontent.com&redirect_uri=urn%3aietf%3awg%3aoauth%3a2.0%3aoob&response_type=code&scope=email%20https%3a%2f%2fwww.googleapis.com%2fauth%2fdocs.test%20https%3a%2f%2fwww.googleapis.com%2fauth%2fdrive%20https%3a%2f%2fwww.googleapis.com%2fauth%2fdrive.photos.readonly%20https%3a%2f%2fwww.googleapis.com%2fauth%2fpeopleapi.readonly\n",
            "\n",
            "Enter your authorization code:\n",
            "··········\n",
            "Mounted at /content/drive\n"
          ],
          "name": "stdout"
        }
      ]
    },
    {
      "cell_type": "code",
      "metadata": {
        "id": "_wWiT3CWBBvD",
        "colab_type": "code",
        "colab": {}
      },
      "source": [
        "import os\n",
        "\n",
        "if os.path.isdir(\"/content/drive/My Drive/ServeNet\"):\n",
        "  os.chdir(\"/content/drive/My Drive/ServeNet\")\n",
        "else: \n",
        "  !git clone https://github.com/yylonly/ServeNet.git\n",
        "  os.chdir(\"/content/drive/My Drive/ServeNet\")"
      ],
      "execution_count": 6,
      "outputs": []
    },
    {
      "cell_type": "code",
      "metadata": {
        "id": "94uzd7iU1dql",
        "colab_type": "code",
        "colab": {}
      },
      "source": [
        "# from google.colab import auth\n",
        "# auth.authenticate_user()"
      ],
      "execution_count": null,
      "outputs": []
    },
    {
      "cell_type": "code",
      "metadata": {
        "id": "Vt7E_XF6D1Te",
        "colab_type": "code",
        "colab": {
          "base_uri": "https://localhost:8080/",
          "height": 51
        },
        "outputId": "d00bbbd3-7e65-47ae-97ad-2e35e85d68e4"
      },
      "source": [
        "try:\n",
        "  tpu = tf.distribute.cluster_resolver.TPUClusterResolver(tpu='grpc://' + os.environ['COLAB_TPU_ADDR']) # TPU detection\n",
        "  BUCKET = 'servenet' #@param {type:\"string\"}\n",
        "  assert BUCKET, 'Must specify an existing GCS bucket name'\n",
        "  OUTPUT_DIR = 'gs://{}/tfhub-modules-cache'.format(BUCKET)\n",
        "  tf.io.gfile.makedirs(OUTPUT_DIR)\n",
        "  print('***** Model output directory: {} *****'.format(OUTPUT_DIR))\n",
        "  os.environ[\"TFHUB_CACHE_DIR\"] = OUTPUT_DIR\n",
        "\n",
        "except:\n",
        "  tpu = None\n",
        "  gpus = tf.config.experimental.list_logical_devices(\"GPU\")\n",
        "  os.environ[\"TFHUB_CACHE_DIR\"] = \"Model\"\n",
        "    \n",
        "# Select appropriate distribution strategy\n",
        "if tpu:\n",
        "  tf.config.experimental_connect_to_cluster(tpu)\n",
        "  tf.tpu.experimental.initialize_tpu_system(tpu)\n",
        "  strategy = tf.distribute.TPUStrategy(tpu) # Going back and forth between TPU and host is expensive. Better to run 128 batches on the TPU before reporting back.\n",
        "  print('Running on TPU ', tpu.cluster_spec().as_dict()['worker'])  \n",
        "elif len(gpus) > 1:\n",
        "  strategy = tf.distribute.MirroredStrategy([gpu.name for gpu in gpus])\n",
        "  print('Running on multiple GPUs ', [gpu.name for gpu in gpus])\n",
        "elif len(gpus) == 1:\n",
        "  strategy = tf.distribute.get_strategy() # default strategy that works on CPU and single GPU\n",
        "  print('Running on single GPU ', gpus[0].name)\n",
        "else:\n",
        "  strategy = tf.distribute.get_strategy() # default strategy that works on CPU and single GPU\n",
        "  print('Running on CPU')\n",
        "print(\"Number of accelerators: \", strategy.num_replicas_in_sync)\n",
        "\n",
        "# Detect hardware\n",
        "# tf.keras.backend.clear_session()\n",
        "\n",
        "# for compatible tensorflow 2.0\n",
        "# tf.compat.v1.disable_eager_execution()\n",
        "\n",
        "# resolver = tf.contrib.cluster_resolver.TPUClusterResolver('grpc://' + os.environ['COLAB_TPU_ADDR'])\n",
        "# tf.contrib.distribute.initialize_tpu_system(resolver)\n",
        "# strategy = tf.contrib.distribute.TPUStrategy(resolver)"
      ],
      "execution_count": 7,
      "outputs": [
        {
          "output_type": "stream",
          "text": [
            "Running on single GPU  /device:GPU:0\n",
            "Number of accelerators:  1\n"
          ],
          "name": "stdout"
        }
      ]
    },
    {
      "cell_type": "code",
      "metadata": {
        "id": "sozcTc1JJ9_8",
        "colab_type": "code",
        "colab": {
          "base_uri": "https://localhost:8080/",
          "height": 51
        },
        "outputId": "f24b0531-db48-4f80-d63b-cf66fc128eb8"
      },
      "source": [
        "import matplotlib.pyplot as plt\n",
        "%matplotlib inline\n",
        "import seaborn as sns\n",
        "import csv\n",
        "import h5py\n",
        "import pandas as pd\n",
        "import numpy as np\n",
        "\n",
        "#from sklearn.model_selection import train_test_split\n",
        "\n",
        "from tensorflow.keras.models import Model\n",
        "from tensorflow.keras.models import load_model\n",
        "from tensorflow.keras import metrics\n",
        "from tensorflow.keras.layers import Dense, Input, Dropout, LSTM, Activation, Conv2D, Reshape, Average, Flatten\n",
        "from tensorflow.keras.layers import Embedding\n",
        "from tensorflow.keras.layers import Concatenate, Lambda\n",
        "\n",
        "from tensorflow.keras.preprocessing import sequence\n",
        "from tensorflow.keras.preprocessing.sequence import pad_sequences\n",
        "from tensorflow.keras.preprocessing.text import Tokenizer\n",
        "from tensorflow.keras.initializers import glorot_uniform\n",
        "from tensorflow.keras.callbacks import ModelCheckpoint\n",
        "from tensorflow.keras.layers import Bidirectional\n",
        "from tensorflow.keras.initializers import Orthogonal"
      ],
      "execution_count": 8,
      "outputs": [
        {
          "output_type": "stream",
          "text": [
            "/usr/local/lib/python3.6/dist-packages/statsmodels/tools/_testing.py:19: FutureWarning: pandas.util.testing is deprecated. Use the functions in the public API at pandas.testing instead.\n",
            "  import pandas.util.testing as tm\n"
          ],
          "name": "stderr"
        }
      ]
    },
    {
      "cell_type": "markdown",
      "metadata": {
        "id": "hAvwoNEM3xm2",
        "colab_type": "text"
      },
      "source": [
        "# Load Data"
      ]
    },
    {
      "cell_type": "code",
      "metadata": {
        "id": "7WLgD2n43Osi",
        "colab_type": "code",
        "colab": {}
      },
      "source": [
        "import pickle\n",
        "\n",
        "f = open('Data/BERT-ServiceDatasetWithNameMiniBatch-TrainData.pickle', 'rb')\n",
        "traindata = pickle.load(f)\n",
        "f.close()"
      ],
      "execution_count": 9,
      "outputs": []
    },
    {
      "cell_type": "code",
      "metadata": {
        "id": "rLwTnZGy3XiB",
        "colab_type": "code",
        "colab": {}
      },
      "source": [
        "tranning_steps_per_epoch = len(traindata)"
      ],
      "execution_count": 10,
      "outputs": []
    },
    {
      "cell_type": "code",
      "metadata": {
        "id": "guPxMEKu3TLZ",
        "colab_type": "code",
        "colab": {}
      },
      "source": [
        "import pickle\n",
        "\n",
        "f = open('Data/BERT-ServiceDatasetWithNameMiniBatch-TestData.pickle', 'rb')\n",
        "testdata = pickle.load(f)\n",
        "f.close()"
      ],
      "execution_count": 11,
      "outputs": []
    },
    {
      "cell_type": "code",
      "metadata": {
        "id": "feFv4ihc3Ze5",
        "colab_type": "code",
        "colab": {}
      },
      "source": [
        "validation_steps = len(testdata)"
      ],
      "execution_count": 12,
      "outputs": []
    },
    {
      "cell_type": "code",
      "metadata": {
        "id": "snLuK5PipUJK",
        "colab_type": "code",
        "colab": {}
      },
      "source": [
        "def train_generator():\n",
        "  while True: \n",
        "    for d in traindata:\n",
        "        x_train = d[0]\n",
        "        y_train = d[1]\n",
        "        yield x_train, y_train"
      ],
      "execution_count": 13,
      "outputs": []
    },
    {
      "cell_type": "code",
      "metadata": {
        "id": "lAMdyueLyeqU",
        "colab_type": "code",
        "colab": {}
      },
      "source": [
        "def test_generator():\n",
        "  while True: \n",
        "    for d in testdata:\n",
        "        x_test = d[0]\n",
        "        y_test = d[1]\n",
        "        yield x_test, y_test"
      ],
      "execution_count": 14,
      "outputs": []
    },
    {
      "cell_type": "markdown",
      "metadata": {
        "id": "GIqLqWHZ31iF",
        "colab_type": "text"
      },
      "source": [
        "# ServeNet Model"
      ]
    },
    {
      "cell_type": "code",
      "metadata": {
        "id": "RPN7u7-eOE_A",
        "colab_type": "code",
        "colab": {}
      },
      "source": [
        "class WeightedLayer(tf.keras.layers.Layer):\n",
        "\n",
        "    def __init__(self, **kwargs):\n",
        "      super(WeightedLayer, self).__init__(**kwargs)\n",
        "\n",
        "      self.w1 = self.add_weight(name='w1', shape=(1), initializer=\"ones\", dtype=tf.float32, trainable=True)\n",
        "      self.w2 = self.add_weight(name='w2', shape=(1), initializer=\"ones\", dtype=tf.float32, trainable=True)                  \n",
        "      # self.w1 = tf.Variable(1.)\n",
        "      # self.w2 = tf.Variable(1.)\n",
        "\n",
        "    def call(self, inputs1, inputs2):\n",
        "      return inputs1 * self.w1 + inputs2 * self.w2\n",
        "\n",
        "    def get_config(self):\n",
        "      config = super(WeightedLayer, self).get_config()\n",
        "      return config"
      ],
      "execution_count": 15,
      "outputs": []
    },
    {
      "cell_type": "code",
      "metadata": {
        "id": "cGb3PRGX9dv2",
        "colab_type": "code",
        "colab": {}
      },
      "source": [
        "maxName = 10\n",
        "maxDes = None"
      ],
      "execution_count": 16,
      "outputs": []
    },
    {
      "cell_type": "code",
      "metadata": {
        "id": "qu6Kpu0wVz8j",
        "colab_type": "code",
        "colab": {}
      },
      "source": [
        "def ServeNet():\n",
        "    \"\"\"\n",
        "    Function creating the ServeNet model\n",
        "    \n",
        "    Arguments:\n",
        "    input_shape -- shape of the input, usually (max_len, max_len_name)\n",
        "\n",
        "    Returns:\n",
        "    model -- a model instance in Keras\n",
        "    \"\"\"\n",
        "  \n",
        "    # INPUT - Service Name\n",
        "    in_name_id = Input(shape=(maxName, ), dtype=tf.int32, name=\"input_word_name_ids\")\n",
        "    in_name_mask = Input(shape=(maxName, ), dtype=tf.int32, name=\"input_name_masks\")\n",
        "    in_name_segment = Input(shape=(maxName, ), dtype=tf.int32, name=\"segment_name_ids\")\n",
        "\n",
        "    bert_name_inputs = [in_name_id, in_name_mask, in_name_segment]\n",
        "\n",
        "    # BERT for Name\n",
        "    bert_name_layer = hub.KerasLayer(bert_path, trainable=True, name=\"bert_name\")\n",
        "    pooled_output, _ = bert_name_layer(bert_name_inputs)\n",
        "    # name_embeddings = Reshape((maxLen, hiddenSize, 1))(pooled_output)\n",
        "\n",
        "    # Feature for Name\n",
        "    name_features = Dense(1024, activation='tanh', name=\"name_feature\", kernel_initializer=tf.keras.initializers.TruncatedNormal(stddev=0.02))(pooled_output)\n",
        "    name_features = Dropout(0.1)(name_features)\n",
        "\n",
        "    # name_features = pooled_output\n",
        "\n",
        "    # INPUT - Service Description\n",
        "    in_id = Input(shape=(maxDes, ), dtype=tf.int32, name=\"input_word_ids\")\n",
        "    in_mask = Input(shape=(maxDes, ), dtype=tf.int32, name=\"input_masks\")\n",
        "    in_segment = Input(shape=(maxDes, ), dtype=tf.int32, name=\"segment_ids\")\n",
        "    bert_description_inputs = [in_id, in_mask, in_segment]\n",
        "\n",
        "    # BERT for Description\n",
        "    bert_layer = hub.KerasLayer(bert_path, trainable=True, name=\"bert_description\")\n",
        "    _, sequence_output = bert_layer(bert_description_inputs)\n",
        "    embeddings = Reshape((-1, hiddenSize, 1))(sequence_output)\n",
        "\n",
        "    # CNN\n",
        "    features1 = Conv2D(32, kernel_size=(3, 3), padding='same')(embeddings)\n",
        "    features1 = Dropout(0.1)(features1)\n",
        "    features2 = Conv2D(1, kernel_size=(1, 1), padding='same')(features1)\n",
        "    # features2 = Dropout(0.4)(features2)\n",
        "\n",
        "    features = Reshape((-1, hiddenSize))(features2)\n",
        "     \n",
        "    # LSTM\n",
        "    description_features = Bidirectional(LSTM(512, return_sequences=False, name=\"description_feature\"))(features)\n",
        "    description_features = Dropout(0.1)(description_features)\n",
        "\n",
        "    # Merge Features\n",
        "    # name_features = Lambda(lambda x: x * 0.2)(name_features)\n",
        "    all_features = WeightedLayer()(name_features, description_features)\n",
        "    # all_features = Concatenate(name=\"allfeatures\")([name_features, description_features])\n",
        "\n",
        "    # TASK \n",
        "    # X = Dense(200, activation='tanh', kernel_initializer=tf.keras.initializers.TruncatedNormal(stddev=0.02))(X)\n",
        "    # X = Dropout(0.1)(X)\n",
        "    output = Dense(50, activation='softmax', kernel_initializer=tf.keras.initializers.TruncatedNormal(stddev=0.02))(all_features)\n",
        "    \n",
        "    # Create Model instance which converts sentence_indices into X.\n",
        "    model = Model(inputs=[bert_description_inputs, bert_name_inputs], outputs=output)\n",
        "    \n",
        "    ### END CODE HERE ###\n",
        "    \n",
        "    return model"
      ],
      "execution_count": 17,
      "outputs": []
    },
    {
      "cell_type": "code",
      "metadata": {
        "id": "VBc8k5uHeBac",
        "colab_type": "code",
        "colab": {}
      },
      "source": [
        "checkpointer = ModelCheckpoint(filepath='Data/ServeNet-' + SavePrefix + '.hdf5', monitor='val_top_k_categorical_accuracy', verbose=1, save_best_only=True)"
      ],
      "execution_count": null,
      "outputs": []
    },
    {
      "cell_type": "code",
      "metadata": {
        "id": "r34u4N4yeFs6",
        "colab_type": "code",
        "colab": {}
      },
      "source": [
        "adam = tf.keras.optimizers.Adam(lr=2e-5, beta_1=0.9, beta_2=0.999, epsilon=1e-6, decay=0.01)\n",
        "sgd = tf.keras.optimizers.SGD(learning_rate=0.01, momentum=0.8, nesterov=True)"
      ],
      "execution_count": null,
      "outputs": []
    },
    {
      "cell_type": "code",
      "metadata": {
        "id": "DadYRPL0RjLe",
        "colab_type": "code",
        "colab": {}
      },
      "source": [
        "with strategy.scope():\n",
        "    model = ServeNet()\n",
        "    model.compile(loss='categorical_crossentropy', optimizer=\"sgd\", metrics=[metrics.top_k_categorical_accuracy, metrics.categorical_accuracy])"
      ],
      "execution_count": 18,
      "outputs": []
    },
    {
      "cell_type": "code",
      "metadata": {
        "id": "yKb9S5_jelld",
        "colab_type": "code",
        "colab": {
          "base_uri": "https://localhost:8080/",
          "height": 1000
        },
        "outputId": "e98ecd58-64ad-4c9b-ce6c-c1f8e6bdc61d"
      },
      "source": [
        "for layer in model.layers:\n",
        "    print(layer.output_shape)\n",
        "model.summary()"
      ],
      "execution_count": 19,
      "outputs": [
        {
          "output_type": "stream",
          "text": [
            "[(None, None)]\n",
            "[(None, None)]\n",
            "[(None, None)]\n",
            "[(None, 768), (None, None, 768)]\n",
            "(None, None, 768, 1)\n",
            "(None, None, 768, 32)\n",
            "(None, None, 768, 32)\n",
            "[(None, 10)]\n",
            "[(None, 10)]\n",
            "[(None, 10)]\n",
            "(None, None, 768, 1)\n",
            "[(None, 768), (None, 10, 768)]\n",
            "(None, None, 768)\n",
            "(None, 1024)\n",
            "(None, 1024)\n",
            "(None, 1024)\n",
            "(None, 1024)\n",
            "(None, 1024)\n",
            "(None, 50)\n",
            "Model: \"functional_1\"\n",
            "__________________________________________________________________________________________________\n",
            "Layer (type)                    Output Shape         Param #     Connected to                     \n",
            "==================================================================================================\n",
            "input_word_ids (InputLayer)     [(None, None)]       0                                            \n",
            "__________________________________________________________________________________________________\n",
            "input_masks (InputLayer)        [(None, None)]       0                                            \n",
            "__________________________________________________________________________________________________\n",
            "segment_ids (InputLayer)        [(None, None)]       0                                            \n",
            "__________________________________________________________________________________________________\n",
            "bert_description (KerasLayer)   [(None, 768), (None, 109482241   input_word_ids[0][0]             \n",
            "                                                                 input_masks[0][0]                \n",
            "                                                                 segment_ids[0][0]                \n",
            "__________________________________________________________________________________________________\n",
            "reshape (Reshape)               (None, None, 768, 1) 0           bert_description[0][1]           \n",
            "__________________________________________________________________________________________________\n",
            "conv2d (Conv2D)                 (None, None, 768, 32 320         reshape[0][0]                    \n",
            "__________________________________________________________________________________________________\n",
            "dropout_1 (Dropout)             (None, None, 768, 32 0           conv2d[0][0]                     \n",
            "__________________________________________________________________________________________________\n",
            "input_word_name_ids (InputLayer [(None, 10)]         0                                            \n",
            "__________________________________________________________________________________________________\n",
            "input_name_masks (InputLayer)   [(None, 10)]         0                                            \n",
            "__________________________________________________________________________________________________\n",
            "segment_name_ids (InputLayer)   [(None, 10)]         0                                            \n",
            "__________________________________________________________________________________________________\n",
            "conv2d_1 (Conv2D)               (None, None, 768, 1) 33          dropout_1[0][0]                  \n",
            "__________________________________________________________________________________________________\n",
            "bert_name (KerasLayer)          [(None, 768), (None, 109482241   input_word_name_ids[0][0]        \n",
            "                                                                 input_name_masks[0][0]           \n",
            "                                                                 segment_name_ids[0][0]           \n",
            "__________________________________________________________________________________________________\n",
            "reshape_1 (Reshape)             (None, None, 768)    0           conv2d_1[0][0]                   \n",
            "__________________________________________________________________________________________________\n",
            "name_feature (Dense)            (None, 1024)         787456      bert_name[0][0]                  \n",
            "__________________________________________________________________________________________________\n",
            "bidirectional (Bidirectional)   (None, 1024)         5246976     reshape_1[0][0]                  \n",
            "__________________________________________________________________________________________________\n",
            "dropout (Dropout)               (None, 1024)         0           name_feature[0][0]               \n",
            "__________________________________________________________________________________________________\n",
            "dropout_2 (Dropout)             (None, 1024)         0           bidirectional[0][0]              \n",
            "__________________________________________________________________________________________________\n",
            "weighted_layer (WeightedLayer)  (None, 1024)         2           dropout[0][0]                    \n",
            "                                                                 dropout_2[0][0]                  \n",
            "__________________________________________________________________________________________________\n",
            "dense (Dense)                   (None, 50)           51250       weighted_layer[0][0]             \n",
            "==================================================================================================\n",
            "Total params: 225,050,519\n",
            "Trainable params: 225,050,517\n",
            "Non-trainable params: 2\n",
            "__________________________________________________________________________________________________\n"
          ],
          "name": "stdout"
        }
      ]
    },
    {
      "cell_type": "markdown",
      "metadata": {
        "id": "pxkz675g4HW_",
        "colab_type": "text"
      },
      "source": [
        "# SeveNet Training "
      ]
    },
    {
      "cell_type": "code",
      "metadata": {
        "id": "RojSDRw6s_oB",
        "colab_type": "code",
        "colab": {
          "base_uri": "https://localhost:8080/",
          "height": 1000
        },
        "outputId": "b9967189-f4bb-45a2-bd00-ca2aaf5f6ce0"
      },
      "source": [
        "history = model.fit(train_generator(), steps_per_epoch = tranning_steps_per_epoch,\n",
        "                    validation_data=test_generator(), validation_steps = validation_steps,\n",
        "                    epochs=20, verbose = 1, callbacks=[checkpointer])"
      ],
      "execution_count": null,
      "outputs": [
        {
          "output_type": "stream",
          "text": [
            "Epoch 1/20\n",
            "273/273 [==============================] - ETA: 0s - loss: 3.5342 - top_k_categorical_accuracy: 0.3513 - categorical_accuracy: 0.1318\n",
            "Epoch 00001: val_top_k_categorical_accuracy improved from -inf to 0.68371, saving model to Data/ServeNet-ServeNet-BERT-ServiceName-DataGenerator-More.hdf5\n",
            "273/273 [==============================] - 165s 604ms/step - loss: 3.5342 - top_k_categorical_accuracy: 0.3513 - categorical_accuracy: 0.1318 - val_loss: 2.5949 - val_top_k_categorical_accuracy: 0.6837 - val_categorical_accuracy: 0.4122\n",
            "Epoch 2/20\n",
            "273/273 [==============================] - ETA: 0s - loss: 1.7010 - top_k_categorical_accuracy: 0.8313 - categorical_accuracy: 0.5739\n",
            "Epoch 00002: val_top_k_categorical_accuracy improved from 0.68371 to 0.88824, saving model to Data/ServeNet-ServeNet-BERT-ServiceName-DataGenerator-More.hdf5\n",
            "273/273 [==============================] - 164s 602ms/step - loss: 1.7010 - top_k_categorical_accuracy: 0.8313 - categorical_accuracy: 0.5739 - val_loss: 1.3973 - val_top_k_categorical_accuracy: 0.8882 - val_categorical_accuracy: 0.6127\n",
            "Epoch 3/20\n",
            "273/273 [==============================] - ETA: 0s - loss: 1.1978 - top_k_categorical_accuracy: 0.9107 - categorical_accuracy: 0.6740\n",
            "Epoch 00003: val_top_k_categorical_accuracy improved from 0.88824 to 0.90226, saving model to Data/ServeNet-ServeNet-BERT-ServiceName-DataGenerator-More.hdf5\n",
            "273/273 [==============================] - 160s 586ms/step - loss: 1.1978 - top_k_categorical_accuracy: 0.9107 - categorical_accuracy: 0.6740 - val_loss: 1.2969 - val_top_k_categorical_accuracy: 0.9023 - val_categorical_accuracy: 0.6430\n",
            "Epoch 4/20\n",
            "273/273 [==============================] - ETA: 0s - loss: 0.9697 - top_k_categorical_accuracy: 0.9411 - categorical_accuracy: 0.7235\n",
            "Epoch 00004: val_top_k_categorical_accuracy improved from 0.90226 to 0.90995, saving model to Data/ServeNet-ServeNet-BERT-ServiceName-DataGenerator-More.hdf5\n",
            "273/273 [==============================] - 161s 589ms/step - loss: 0.9697 - top_k_categorical_accuracy: 0.9411 - categorical_accuracy: 0.7235 - val_loss: 1.2702 - val_top_k_categorical_accuracy: 0.9100 - val_categorical_accuracy: 0.6529\n",
            "Epoch 5/20\n",
            "273/273 [==============================] - ETA: 0s - loss: 0.8002 - top_k_categorical_accuracy: 0.9616 - categorical_accuracy: 0.7694\n",
            "Epoch 00005: val_top_k_categorical_accuracy did not improve from 0.90995\n",
            "273/273 [==============================] - 157s 574ms/step - loss: 0.8002 - top_k_categorical_accuracy: 0.9616 - categorical_accuracy: 0.7694 - val_loss: 1.3283 - val_top_k_categorical_accuracy: 0.9068 - val_categorical_accuracy: 0.6602\n",
            "Epoch 6/20\n",
            "273/273 [==============================] - ETA: 0s - loss: 0.6610 - top_k_categorical_accuracy: 0.9740 - categorical_accuracy: 0.8019\n",
            "Epoch 00006: val_top_k_categorical_accuracy did not improve from 0.90995\n",
            "273/273 [==============================] - 157s 574ms/step - loss: 0.6610 - top_k_categorical_accuracy: 0.9740 - categorical_accuracy: 0.8019 - val_loss: 1.3570 - val_top_k_categorical_accuracy: 0.9041 - val_categorical_accuracy: 0.6597\n",
            "Epoch 7/20\n",
            "273/273 [==============================] - ETA: 0s - loss: 0.5533 - top_k_categorical_accuracy: 0.9811 - categorical_accuracy: 0.8334\n",
            "Epoch 00007: val_top_k_categorical_accuracy did not improve from 0.90995\n",
            "273/273 [==============================] - 157s 575ms/step - loss: 0.5533 - top_k_categorical_accuracy: 0.9811 - categorical_accuracy: 0.8334 - val_loss: 1.4348 - val_top_k_categorical_accuracy: 0.8982 - val_categorical_accuracy: 0.6593\n",
            "Epoch 8/20\n",
            "273/273 [==============================] - ETA: 0s - loss: 0.4600 - top_k_categorical_accuracy: 0.9883 - categorical_accuracy: 0.8588\n",
            "Epoch 00008: val_top_k_categorical_accuracy did not improve from 0.90995\n",
            "273/273 [==============================] - 157s 575ms/step - loss: 0.4600 - top_k_categorical_accuracy: 0.9883 - categorical_accuracy: 0.8588 - val_loss: 1.5459 - val_top_k_categorical_accuracy: 0.9000 - val_categorical_accuracy: 0.6403\n",
            "Epoch 9/20\n",
            "273/273 [==============================] - ETA: 0s - loss: 0.3700 - top_k_categorical_accuracy: 0.9923 - categorical_accuracy: 0.8841\n",
            "Epoch 00009: val_top_k_categorical_accuracy did not improve from 0.90995\n",
            "273/273 [==============================] - 157s 575ms/step - loss: 0.3700 - top_k_categorical_accuracy: 0.9923 - categorical_accuracy: 0.8841 - val_loss: 1.4753 - val_top_k_categorical_accuracy: 0.9068 - val_categorical_accuracy: 0.6733\n",
            "Epoch 10/20\n",
            "273/273 [==============================] - ETA: 0s - loss: 0.3070 - top_k_categorical_accuracy: 0.9959 - categorical_accuracy: 0.9030\n",
            "Epoch 00010: val_top_k_categorical_accuracy did not improve from 0.90995\n",
            "273/273 [==============================] - 157s 575ms/step - loss: 0.3070 - top_k_categorical_accuracy: 0.9959 - categorical_accuracy: 0.9030 - val_loss: 1.7306 - val_top_k_categorical_accuracy: 0.8982 - val_categorical_accuracy: 0.6389\n",
            "Epoch 11/20\n",
            "273/273 [==============================] - ETA: 0s - loss: 0.2569 - top_k_categorical_accuracy: 0.9971 - categorical_accuracy: 0.9190\n",
            "Epoch 00011: val_top_k_categorical_accuracy improved from 0.90995 to 0.91222, saving model to Data/ServeNet-ServeNet-BERT-ServiceName-DataGenerator-More.hdf5\n",
            "273/273 [==============================] - 161s 590ms/step - loss: 0.2569 - top_k_categorical_accuracy: 0.9971 - categorical_accuracy: 0.9190 - val_loss: 1.6342 - val_top_k_categorical_accuracy: 0.9122 - val_categorical_accuracy: 0.6643\n",
            "Epoch 12/20\n",
            "273/273 [==============================] - ETA: 0s - loss: 0.1956 - top_k_categorical_accuracy: 0.9987 - categorical_accuracy: 0.9367\n",
            "Epoch 00012: val_top_k_categorical_accuracy did not improve from 0.91222\n",
            "273/273 [==============================] - 157s 575ms/step - loss: 0.1956 - top_k_categorical_accuracy: 0.9987 - categorical_accuracy: 0.9367 - val_loss: 1.5827 - val_top_k_categorical_accuracy: 0.9059 - val_categorical_accuracy: 0.6814\n",
            "Epoch 13/20\n",
            "273/273 [==============================] - ETA: 0s - loss: 0.1906 - top_k_categorical_accuracy: 0.9995 - categorical_accuracy: 0.9376\n",
            "Epoch 00013: val_top_k_categorical_accuracy did not improve from 0.91222\n",
            "273/273 [==============================] - 157s 576ms/step - loss: 0.1906 - top_k_categorical_accuracy: 0.9995 - categorical_accuracy: 0.9376 - val_loss: 1.6980 - val_top_k_categorical_accuracy: 0.9045 - val_categorical_accuracy: 0.6778\n",
            "Epoch 14/20\n",
            "273/273 [==============================] - ETA: 0s - loss: 0.1475 - top_k_categorical_accuracy: 0.9993 - categorical_accuracy: 0.9521\n",
            "Epoch 00014: val_top_k_categorical_accuracy did not improve from 0.91222\n",
            "273/273 [==============================] - 157s 576ms/step - loss: 0.1475 - top_k_categorical_accuracy: 0.9993 - categorical_accuracy: 0.9521 - val_loss: 1.8247 - val_top_k_categorical_accuracy: 0.9005 - val_categorical_accuracy: 0.6747\n",
            "Epoch 15/20\n",
            "273/273 [==============================] - ETA: 0s - loss: 0.1122 - top_k_categorical_accuracy: 0.9998 - categorical_accuracy: 0.9645\n",
            "Epoch 00015: val_top_k_categorical_accuracy did not improve from 0.91222\n",
            "273/273 [==============================] - 157s 575ms/step - loss: 0.1122 - top_k_categorical_accuracy: 0.9998 - categorical_accuracy: 0.9645 - val_loss: 1.8066 - val_top_k_categorical_accuracy: 0.9054 - val_categorical_accuracy: 0.6900\n",
            "Epoch 16/20\n",
            "273/273 [==============================] - ETA: 0s - loss: 0.1009 - top_k_categorical_accuracy: 0.9998 - categorical_accuracy: 0.9684\n",
            "Epoch 00016: val_top_k_categorical_accuracy did not improve from 0.91222\n",
            "273/273 [==============================] - 157s 575ms/step - loss: 0.1009 - top_k_categorical_accuracy: 0.9998 - categorical_accuracy: 0.9684 - val_loss: 1.8144 - val_top_k_categorical_accuracy: 0.9023 - val_categorical_accuracy: 0.6946\n",
            "Epoch 17/20\n",
            "273/273 [==============================] - ETA: 0s - loss: 0.0759 - top_k_categorical_accuracy: 1.0000 - categorical_accuracy: 0.9777\n",
            "Epoch 00017: val_top_k_categorical_accuracy improved from 0.91222 to 0.91403, saving model to Data/ServeNet-ServeNet-BERT-ServiceName-DataGenerator-More.hdf5\n",
            "273/273 [==============================] - 161s 590ms/step - loss: 0.0759 - top_k_categorical_accuracy: 1.0000 - categorical_accuracy: 0.9777 - val_loss: 1.8099 - val_top_k_categorical_accuracy: 0.9140 - val_categorical_accuracy: 0.6973\n",
            "Epoch 18/20\n",
            "273/273 [==============================] - ETA: 0s - loss: 0.0791 - top_k_categorical_accuracy: 0.9997 - categorical_accuracy: 0.9772\n",
            "Epoch 00018: val_top_k_categorical_accuracy improved from 0.91403 to 0.91584, saving model to Data/ServeNet-ServeNet-BERT-ServiceName-DataGenerator-More.hdf5\n",
            "273/273 [==============================] - 161s 590ms/step - loss: 0.0791 - top_k_categorical_accuracy: 0.9997 - categorical_accuracy: 0.9772 - val_loss: 1.8588 - val_top_k_categorical_accuracy: 0.9158 - val_categorical_accuracy: 0.6995\n",
            "Epoch 19/20\n",
            "273/273 [==============================] - ETA: 0s - loss: 0.0550 - top_k_categorical_accuracy: 1.0000 - categorical_accuracy: 0.9837\n",
            "Epoch 00019: val_top_k_categorical_accuracy did not improve from 0.91584\n",
            "273/273 [==============================] - 157s 575ms/step - loss: 0.0550 - top_k_categorical_accuracy: 1.0000 - categorical_accuracy: 0.9837 - val_loss: 1.9930 - val_top_k_categorical_accuracy: 0.9005 - val_categorical_accuracy: 0.6833\n",
            "Epoch 20/20\n",
            "273/273 [==============================] - ETA: 0s - loss: 0.0586 - top_k_categorical_accuracy: 0.9999 - categorical_accuracy: 0.9825\n",
            "Epoch 00020: val_top_k_categorical_accuracy did not improve from 0.91584\n",
            "273/273 [==============================] - 157s 575ms/step - loss: 0.0586 - top_k_categorical_accuracy: 0.9999 - categorical_accuracy: 0.9825 - val_loss: 1.9349 - val_top_k_categorical_accuracy: 0.9027 - val_categorical_accuracy: 0.6887\n"
          ],
          "name": "stdout"
        }
      ]
    },
    {
      "cell_type": "code",
      "metadata": {
        "id": "J-jASOgap5Gj",
        "colab_type": "code",
        "colab": {}
      },
      "source": [
        "# history = model.fit([X1_train, X1_mask_train, X1_segment_train, X2_train, X2_mask_train, X2_segment_train], Y_train, \n",
        "#                     validation_data=([X1_test, X1_mask_test, X1_segment_test, X2_test, X2_mask_test, X2_segment_test],  Y_test), \n",
        "#                     epochs=10, steps_per_epoch=step, verbose = 1, callbacks=[checkpointer])\n",
        "\n",
        "# history = model.fit([X1_train, X1_mask_train, X1_segment_train, X2_train, X2_mask_train, X2_segment_train], Y_train, \n",
        "#                     validation_data=([X1_test, X1_mask_test, X1_segment_test, X2_test, X2_mask_test, X2_segment_test],  Y_test), \n",
        "#                     epochs=20, steps_per_epoch=step, verbose = 1)"
      ],
      "execution_count": null,
      "outputs": []
    },
    {
      "cell_type": "markdown",
      "metadata": {
        "id": "y0pk7gVZirJR",
        "colab_type": "text"
      },
      "source": [
        "## Get weights of service name and service description"
      ]
    },
    {
      "cell_type": "code",
      "metadata": {
        "id": "8stcvS92nN-h",
        "colab_type": "code",
        "colab": {
          "base_uri": "https://localhost:8080/",
          "height": 34
        },
        "outputId": "fd90df56-9d85-41fe-cf3a-b4111fbb0d24"
      },
      "source": [
        "model.get_layer(\"weighted_layer\").get_weights()"
      ],
      "execution_count": null,
      "outputs": [
        {
          "output_type": "execute_result",
          "data": {
            "text/plain": [
              "[array([1.1226578], dtype=float32), array([3.2800603], dtype=float32)]"
            ]
          },
          "metadata": {
            "tags": []
          },
          "execution_count": 25
        }
      ]
    },
    {
      "cell_type": "markdown",
      "metadata": {
        "id": "ZqwzEPwuTolA",
        "colab_type": "text"
      },
      "source": [
        "# Trainning History"
      ]
    },
    {
      "cell_type": "code",
      "metadata": {
        "id": "1_p6FJuUeReO",
        "colab_type": "code",
        "colab": {
          "base_uri": "https://localhost:8080/",
          "height": 421
        },
        "outputId": "58f56a55-192d-4d96-d34b-8227c4cd92c5"
      },
      "source": [
        "plt.figure(figsize=(8, 4), dpi=100)\n",
        "plt.title(\"Top 1 Accuracy: Tranning Set vs Test Set\")\n",
        "plt.xlabel(\"Epoch\")\n",
        "plt.ylabel(\"Top 1 Accuracy\")\n",
        "plt.plot(history.history['val_categorical_accuracy'], label=\"Test Set\")\n",
        "plt.plot(history.history['categorical_accuracy'], label=\"Trainning Set\")\n",
        "plt.legend()\n",
        "plt.show()\n",
        "plt.savefig(SavePrefix + 'ServeNetTop1.pdf', format='pdf', dpi=300)"
      ],
      "execution_count": null,
      "outputs": [
        {
          "output_type": "display_data",
          "data": {
            "image/png": "[encoded data removed]",
            "text/plain": [
              "<Figure size 800x400 with 1 Axes>"
            ]
          },
          "metadata": {
            "tags": [],
            "needs_background": "light"
          }
        },
        {
          "output_type": "display_data",
          "data": {
            "text/plain": [
              "<Figure size 432x288 with 0 Axes>"
            ]
          },
          "metadata": {
            "tags": []
          }
        }
      ]
    },
    {
      "cell_type": "code",
      "metadata": {
        "id": "IMyu7s1QesfG",
        "colab_type": "code",
        "colab": {
          "base_uri": "https://localhost:8080/",
          "height": 421
        },
        "outputId": "5030d233-0c76-46dd-8222-602b407425c1"
      },
      "source": [
        "# plot metrics\n",
        "plt.figure(figsize=(8, 4), dpi=100)\n",
        "plt.title(\"Top 5 Accuracy: Tranning Set vs Test Set\")\n",
        "plt.xlabel(\"Epoch\")\n",
        "plt.ylabel(\"Top 5 Accuracy\")\n",
        "plt.plot(history.history['top_k_categorical_accuracy'], label=\"Trainning Set\")\n",
        "plt.plot(history.history['val_top_k_categorical_accuracy'], label=\"Test Set\")\n",
        "plt.legend()\n",
        "plt.show()\n",
        "plt.savefig(SavePrefix + '-ServeNetTop5.pdf', format='pdf', dpi=300)"
      ],
      "execution_count": null,
      "outputs": [
        {
          "output_type": "display_data",
          "data": {
            "image/png": "[encoded data removed]",
            "text/plain": [
              "<Figure size 800x400 with 1 Axes>"
            ]
          },
          "metadata": {
            "tags": [],
            "needs_background": "light"
          }
        },
        {
          "output_type": "display_data",
          "data": {
            "text/plain": [
              "<Figure size 432x288 with 0 Axes>"
            ]
          },
          "metadata": {
            "tags": []
          }
        }
      ]
    },
    {
      "cell_type": "code",
      "metadata": {
        "id": "tXtiAwAkevBJ",
        "colab_type": "code",
        "colab": {
          "base_uri": "https://localhost:8080/",
          "height": 421
        },
        "outputId": "e9079d11-ae80-4c3b-aab3-d249e86b7cc6"
      },
      "source": [
        "plt.figure(figsize=(8, 4), dpi=100)\n",
        "plt.title(\"Tranning Loss vs Test Loss\")\n",
        "plt.xlabel(\"Epoch\")\n",
        "plt.ylabel(\"Loss\")\n",
        "plt.plot(history.history['val_loss'], label=\"Test Set\")\n",
        "plt.plot(history.history['loss'], label=\"Trainning Set\")\n",
        "plt.legend()\n",
        "plt.show()\n",
        "plt.savefig(SavePrefix + '-ServeNetLoss.pdf', format='pdf', dpi=300)"
      ],
      "execution_count": null,
      "outputs": [
        {
          "output_type": "display_data",
          "data": {
            "image/png": "[encoded data removed]",
            "text/plain": [
              "<Figure size 800x400 with 1 Axes>"
            ]
          },
          "metadata": {
            "tags": [],
            "needs_background": "light"
          }
        },
        {
          "output_type": "display_data",
          "data": {
            "text/plain": [
              "<Figure size 432x288 with 0 Axes>"
            ]
          },
          "metadata": {
            "tags": []
          }
        }
      ]
    },
    {
      "cell_type": "code",
      "metadata": {
        "id": "GUHEz52GexTV",
        "colab_type": "code",
        "colab": {}
      },
      "source": [
        "import pickle\n",
        "  \n",
        "f = open(SavePrefix + '-ServeNetHistory', 'wb')\n",
        "pickle.dump(history.history, f)\n",
        "f.close()"
      ],
      "execution_count": null,
      "outputs": []
    },
    {
      "cell_type": "code",
      "metadata": {
        "id": "VU1U6gjxe1-M",
        "colab_type": "code",
        "colab": {}
      },
      "source": [
        "import pickle\n",
        "\n",
        "f = open(SavePrefix + '-ServeNetHistory', 'rb')\n",
        "his = pickle.load(f)\n",
        "f.close()"
      ],
      "execution_count": null,
      "outputs": []
    },
    {
      "cell_type": "code",
      "metadata": {
        "id": "qdA7A2nffWNQ",
        "colab_type": "code",
        "colab": {
          "base_uri": "https://localhost:8080/",
          "height": 119
        },
        "outputId": "65a6e5ca-c618-4fae-e971-a954b5b3d15b"
      },
      "source": [
        "val_top_k = his['val_top_k_categorical_accuracy']\n",
        "print(\"top5: \", max(val_top_k))\n",
        "print(np.argmax(val_top_k))\n",
        "val_loss = his['val_loss']\n",
        "print(\"loss: \", min(val_loss))\n",
        "print(np.argmin(val_loss))\n",
        "val_ca = his['val_categorical_accuracy']\n",
        "print(\"top1: \", max(val_ca))\n",
        "print(np.argmax(val_ca))"
      ],
      "execution_count": null,
      "outputs": [
        {
          "output_type": "stream",
          "text": [
            "top5:  0.9158371090888977\n",
            "17\n",
            "loss:  1.270249605178833\n",
            "3\n",
            "top1:  0.699547529220581\n",
            "17\n"
          ],
          "name": "stdout"
        }
      ]
    },
    {
      "cell_type": "markdown",
      "metadata": {
        "id": "AEKTYpDBT0E3",
        "colab_type": "text"
      },
      "source": [
        "# Restore Model"
      ]
    },
    {
      "cell_type": "code",
      "metadata": {
        "id": "_wKRSK2fzj5M",
        "colab_type": "code",
        "colab": {}
      },
      "source": [
        "model.load_weights('Data/ServeNet-' + SavePrefix + '.hdf5')"
      ],
      "execution_count": 20,
      "outputs": []
    },
    {
      "cell_type": "code",
      "metadata": {
        "id": "PjTB_tNjfWpQ",
        "colab_type": "code",
        "colab": {}
      },
      "source": [
        "#model = load_model('Data/ServeNet-' + SavePrefix + '.hdf5', custom_objects={'WeightedLayer':WeightedLayer, 'KerasLayer':hub.KerasLayer})\n",
        "# model = load_model('Data/ServeNet-' + SavePrefix + '.hdf5', compile=False, \n",
        "#                    custom_objects={'WeightedLayer':WeightedLayer, 'KerasLayer':hub.KerasLayer})"
      ],
      "execution_count": null,
      "outputs": []
    },
    {
      "cell_type": "code",
      "metadata": {
        "id": "nlHf2EgYfY3G",
        "colab_type": "code",
        "colab": {
          "base_uri": "https://localhost:8080/",
          "height": 153
        },
        "outputId": "b5c05aee-2db1-4af2-b8df-03d95b18f9b9"
      },
      "source": [
        "print(\"Training set:\")\n",
        "loss_train, top5error_train, top1error_train = model.evaluate(train_generator(), steps=tranning_steps_per_epoch)\n",
        "print(\"Top5 Training accuracy = \", top5error_train)\n",
        "print(\"Top1 Training accuracy = \", top1error_train)\n",
        "print('Test set:')\n",
        "loss_test, top5error_test, top1error_test = model.evaluate(test_generator(), steps=validation_steps)\n",
        "print(\"Training accuracy = \", top5error_test)\n",
        "print(\"Top1 Training accuracy = \", top1error_test)"
      ],
      "execution_count": 21,
      "outputs": [
        {
          "output_type": "stream",
          "text": [
            "Training set:\n",
            "273/273 [==============================] - 49s 178ms/step - loss: 0.0251 - top_k_categorical_accuracy: 1.0000 - categorical_accuracy: 0.9919\n",
            "Top5 Training accuracy =  1.0\n",
            "Top1 Training accuracy =  0.9918699264526367\n",
            "Test set:\n",
            "70/70 [==============================] - 12s 174ms/step - loss: 1.8588 - top_k_categorical_accuracy: 0.9158 - categorical_accuracy: 0.6995\n",
            "Training accuracy =  0.9158371090888977\n",
            "Top1 Training accuracy =  0.699547529220581\n"
          ],
          "name": "stdout"
        }
      ]
    },
    {
      "cell_type": "markdown",
      "metadata": {
        "id": "xVgy3439T5eU",
        "colab_type": "text"
      },
      "source": [
        "# Compute accuracy on each category"
      ]
    },
    {
      "cell_type": "code",
      "metadata": {
        "id": "UcPMGmOlbwgG",
        "colab_type": "code",
        "colab": {}
      },
      "source": [
        "# This code allows you to see the mislabelled examples\n",
        "C = 50\n",
        "# y_test_oh = np.eye(C)[Y_test.reshape(-1)]\n",
        "# X_test_indices = sentences_to_indices(X_test, word_to_index, maxLen)\n",
        "\n",
        "predY_test = []\n",
        "Y_test = []\n",
        "\n",
        "for d in testdata:\n",
        "  predY_test.append(model.predict(d[0]))\n",
        "  Y_test.append(d[1])\n",
        "\n",
        "predY_test = np.concatenate(predY_test, axis=0)\n",
        "Y_test = np.concatenate(Y_test, axis=0)"
      ],
      "execution_count": 33,
      "outputs": []
    },
    {
      "cell_type": "code",
      "metadata": {
        "id": "awlol8Trb1M4",
        "colab_type": "code",
        "colab": {
          "base_uri": "https://localhost:8080/",
          "height": 51
        },
        "outputId": "8d7d506e-7f4e-4ecb-b7bb-18c3cbde5fee"
      },
      "source": [
        "print(predY_test.shape)\n",
        "print(Y_test.shape)"
      ],
      "execution_count": 34,
      "outputs": [
        {
          "output_type": "stream",
          "text": [
            "(2210, 50)\n",
            "(2210, 50)\n"
          ],
          "name": "stdout"
        }
      ]
    },
    {
      "cell_type": "code",
      "metadata": {
        "id": "fwOlqKjMdKuD",
        "colab_type": "code",
        "colab": {
          "base_uri": "https://localhost:8080/",
          "height": 1000
        },
        "outputId": "e5d42934-e818-4a48-d7df-52cd26fc94dc"
      },
      "source": [
        "for i in range(200):\n",
        "  p = np.argmax(predY_test[i])\n",
        "  r = np.argmax(Y_test[i])\n",
        "  if p != r:\n",
        "    print(str(p) + \"-\" + str(r))"
      ],
      "execution_count": 83,
      "outputs": [
        {
          "output_type": "stream",
          "text": [
            "6-39\n",
            "6-16\n",
            "16-9\n",
            "42-1\n",
            "42-44\n",
            "1-42\n",
            "4-15\n",
            "12-16\n",
            "38-42\n",
            "7-4\n",
            "42-4\n",
            "26-29\n",
            "29-33\n",
            "1-41\n",
            "24-30\n",
            "20-44\n",
            "44-38\n",
            "2-23\n",
            "26-37\n",
            "17-0\n",
            "46-1\n",
            "42-1\n",
            "26-12\n",
            "37-44\n",
            "42-4\n",
            "42-1\n",
            "23-45\n",
            "4-13\n",
            "47-4\n",
            "44-42\n",
            "19-4\n",
            "4-37\n",
            "38-4\n",
            "28-6\n",
            "4-26\n",
            "13-1\n",
            "36-41\n",
            "28-19\n",
            "34-49\n",
            "30-7\n",
            "14-16\n",
            "14-29\n",
            "30-7\n",
            "13-6\n",
            "28-10\n",
            "23-49\n",
            "16-42\n",
            "49-23\n",
            "4-6\n",
            "4-27\n",
            "19-4\n",
            "43-26\n",
            "1-31\n",
            "16-1\n",
            "15-33\n",
            "4-32\n",
            "4-32\n",
            "6-1\n",
            "23-21\n",
            "4-2\n",
            "38-1\n",
            "33-35\n",
            "27-13\n"
          ],
          "name": "stdout"
        }
      ]
    },
    {
      "cell_type": "code",
      "metadata": {
        "id": "3GyjebCSdRsx",
        "colab_type": "code",
        "colab": {}
      },
      "source": [
        "# Heatmap Data\n",
        "non_onehot_pred_test_top1 = np.argmax(predY_test, axis=-1)\n",
        "non_onehot_Y_test = np.argmax(Y_test, axis=-1)\n",
        "categories = ['Advertising',\n",
        " 'Analytics',\n",
        " 'Application Development',\n",
        " 'Backend',\n",
        " 'Banking',\n",
        " 'Bitcoin',\n",
        " 'Chat',\n",
        " 'Cloud',\n",
        " 'Data',\n",
        " 'Database',\n",
        " 'Domains',\n",
        " 'Education',\n",
        " 'Email',\n",
        " 'Enterprise',\n",
        " 'Entertainment',\n",
        " 'Events',\n",
        " 'File Sharing',\n",
        " 'Financial',\n",
        " 'Games',\n",
        " 'Government',\n",
        " 'Images',\n",
        " 'Internet of Things',\n",
        " 'Mapping',\n",
        " 'Media',\n",
        " 'Medical',\n",
        " 'Messaging',\n",
        " 'Music',\n",
        " 'News Services',\n",
        " 'Marketing',\n",
        " 'Other',\n",
        " 'Payments',\n",
        " 'Photos',\n",
        " 'Project Management',\n",
        " 'Real Estate',\n",
        " 'Reference',\n",
        " 'Science',\n",
        " 'Search',\n",
        " 'Security',\n",
        " 'Shipping',\n",
        " 'Social',\n",
        " 'Sports',\n",
        " 'Stocks',\n",
        " 'Storage',\n",
        " 'Telephony',\n",
        " 'Tools',\n",
        " 'Transportation',\n",
        " 'Travel',\n",
        " 'Video',\n",
        " 'Weather',\n",
        " 'eCommerce', 'All']"
      ],
      "execution_count": 115,
      "outputs": []
    },
    {
      "cell_type": "code",
      "metadata": {
        "id": "JDGw2YSHkI0_",
        "colab_type": "code",
        "colab": {
          "base_uri": "https://localhost:8080/",
          "height": 34
        },
        "outputId": "3bd81e32-99ea-4352-d17e-62d0f14a0a80"
      },
      "source": [
        "non_onehot_pred_test[2]"
      ],
      "execution_count": 91,
      "outputs": [
        {
          "output_type": "execute_result",
          "data": {
            "text/plain": [
              "16.0"
            ]
          },
          "metadata": {
            "tags": []
          },
          "execution_count": 91
        }
      ]
    },
    {
      "cell_type": "code",
      "metadata": {
        "id": "1_DSFxlXk9pV",
        "colab_type": "code",
        "colab": {
          "base_uri": "https://localhost:8080/",
          "height": 34
        },
        "outputId": "ff17dc93-6383-4504-96b9-aeb6627fb1d1"
      },
      "source": [
        "np.argmax(predY_test, axis=-1)[2]"
      ],
      "execution_count": 94,
      "outputs": [
        {
          "output_type": "execute_result",
          "data": {
            "text/plain": [
              "6"
            ]
          },
          "metadata": {
            "tags": []
          },
          "execution_count": 94
        }
      ]
    },
    {
      "cell_type": "code",
      "metadata": {
        "id": "VGaAKe4cku8f",
        "colab_type": "code",
        "colab": {
          "base_uri": "https://localhost:8080/",
          "height": 238
        },
        "outputId": "85f5ecb5-f8ec-4b62-fcab-fecff1a2fd14"
      },
      "source": [
        "predY_test[2]"
      ],
      "execution_count": 96,
      "outputs": [
        {
          "output_type": "execute_result",
          "data": {
            "text/plain": [
              "array([1.9543766e-05, 1.2292243e-05, 4.0685163e-06, 1.6285935e-06,\n",
              "       5.4160308e-04, 2.1859576e-06, 9.6751392e-01, 2.8486891e-06,\n",
              "       1.1935567e-05, 8.0378399e-05, 3.3175736e-05, 3.8237110e-07,\n",
              "       5.0976744e-04, 1.2080350e-02, 5.1562174e-04, 6.6604998e-06,\n",
              "       1.1577218e-02, 3.6309979e-05, 1.1181695e-05, 2.0445625e-05,\n",
              "       1.9724557e-06, 1.0122984e-03, 3.3494340e-05, 1.8072814e-04,\n",
              "       1.7094630e-05, 9.0154856e-05, 5.7655267e-05, 5.1298535e-05,\n",
              "       2.0461046e-06, 1.7399070e-07, 3.3211204e-06, 3.7844595e-06,\n",
              "       3.6138389e-03, 5.3437350e-05, 1.5472331e-04, 1.4487941e-04,\n",
              "       1.4189404e-05, 4.3974123e-06, 7.8334619e-05, 3.9626984e-04,\n",
              "       1.3622931e-05, 4.1796517e-05, 3.5158606e-04, 1.9591427e-05,\n",
              "       4.0805976e-06, 5.4858206e-04, 1.3083765e-05, 9.8741424e-05,\n",
              "       9.0025251e-06, 4.4110584e-06], dtype=float32)"
            ]
          },
          "metadata": {
            "tags": []
          },
          "execution_count": 96
        }
      ]
    },
    {
      "cell_type": "code",
      "metadata": {
        "id": "vZfKgB-vkVzc",
        "colab_type": "code",
        "colab": {
          "base_uri": "https://localhost:8080/",
          "height": 34
        },
        "outputId": "d5be03b7-8759-419e-a340-c7e90a65cf98"
      },
      "source": [
        "np.argmax(predY_test[2])"
      ],
      "execution_count": 97,
      "outputs": [
        {
          "output_type": "execute_result",
          "data": {
            "text/plain": [
              "6"
            ]
          },
          "metadata": {
            "tags": []
          },
          "execution_count": 97
        }
      ]
    },
    {
      "cell_type": "code",
      "metadata": {
        "id": "XSmVP1WNdnwF",
        "colab_type": "code",
        "colab": {}
      },
      "source": [
        "# If predict top5 includes true value, set true value to pred_test set\n",
        "non_onehot_Y_test = np.argmax(Y_test, axis=-1)\n",
        "non_onehot_pred_test = np.zeros((non_onehot_Y_test.shape))\n",
        "non_onehot_pred_test_top5 = np.argsort(predY_test, axis=-1)[:, -5:][:, ::-1]\n",
        "\n",
        "m = non_onehot_Y_test.shape[0]\n",
        "\n",
        "for i in range(0, m):\n",
        "    if non_onehot_Y_test[i] in non_onehot_pred_test_top5[i]:\n",
        "        non_onehot_pred_test[i] = non_onehot_Y_test[i]\n"
      ],
      "execution_count": 98,
      "outputs": []
    },
    {
      "cell_type": "code",
      "metadata": {
        "id": "e6PUZ3Gbexj2",
        "colab_type": "code",
        "colab": {
          "base_uri": "https://localhost:8080/",
          "height": 34
        },
        "outputId": "7c21484d-e10c-4fa8-9af5-e1cb4f0aafb2"
      },
      "source": [
        "non_onehot_Y_test.shape"
      ],
      "execution_count": 114,
      "outputs": [
        {
          "output_type": "execute_result",
          "data": {
            "text/plain": [
              "(2210,)"
            ]
          },
          "metadata": {
            "tags": []
          },
          "execution_count": 114
        }
      ]
    },
    {
      "cell_type": "code",
      "metadata": {
        "id": "8skrc8NZe6AG",
        "colab_type": "code",
        "colab": {
          "base_uri": "https://localhost:8080/",
          "height": 34
        },
        "outputId": "b126869f-7765-4b0a-a43e-467e1e3052e5"
      },
      "source": [
        "non_onehot_pred_test.shape"
      ],
      "execution_count": 100,
      "outputs": [
        {
          "output_type": "execute_result",
          "data": {
            "text/plain": [
              "(2210,)"
            ]
          },
          "metadata": {
            "tags": []
          },
          "execution_count": 100
        }
      ]
    },
    {
      "cell_type": "code",
      "metadata": {
        "id": "COqeo2Byd84K",
        "colab_type": "code",
        "colab": {}
      },
      "source": [
        "# This is Heat Map to compute TOP5, not real heat map\n",
        "\n",
        "# cross = pd.crosstab(non_onehot_Y_test, non_onehot_pred_test.reshape(len(non_onehot_pred_test),), rownames=['Actual'], colnames=['Predicted'], margins=True)\n",
        "cross = pd.crosstab(non_onehot_Y_test, non_onehot_pred_test, rownames=['Actual'], colnames=['Predicted'], margins=True)"
      ],
      "execution_count": 122,
      "outputs": []
    },
    {
      "cell_type": "code",
      "metadata": {
        "id": "s7R-cxTtenWC",
        "colab_type": "code",
        "colab": {
          "base_uri": "https://localhost:8080/",
          "height": 306
        },
        "outputId": "d278c357-f403-4608-d26b-e628a83c4602"
      },
      "source": [
        "cross.index = categories\n",
        "cross.index.name = \"Actual\"\n",
        "cross.columns = categories\n",
        "cross.columns.name = \"Predicted\"\n",
        "cross.head()"
      ],
      "execution_count": 123,
      "outputs": [
        {
          "output_type": "execute_result",
          "data": {
            "text/html": [
              "<div>\n",
              "<style scoped>\n",
              "    .dataframe tbody tr th:only-of-type {\n",
              "        vertical-align: middle;\n",
              "    }\n",
              "\n",
              "    .dataframe tbody tr th {\n",
              "        vertical-align: top;\n",
              "    }\n",
              "\n",
              "    .dataframe thead th {\n",
              "        text-align: right;\n",
              "    }\n",
              "</style>\n",
              "<table border=\"1\" class=\"dataframe\">\n",
              "  <thead>\n",
              "    <tr style=\"text-align: right;\">\n",
              "      <th>Predicted</th>\n",
              "      <th>Advertising</th>\n",
              "      <th>Analytics</th>\n",
              "      <th>Application Development</th>\n",
              "      <th>Backend</th>\n",
              "      <th>Banking</th>\n",
              "      <th>Bitcoin</th>\n",
              "      <th>Chat</th>\n",
              "      <th>Cloud</th>\n",
              "      <th>Data</th>\n",
              "      <th>Database</th>\n",
              "      <th>Domains</th>\n",
              "      <th>Education</th>\n",
              "      <th>Email</th>\n",
              "      <th>Enterprise</th>\n",
              "      <th>Entertainment</th>\n",
              "      <th>Events</th>\n",
              "      <th>File Sharing</th>\n",
              "      <th>Financial</th>\n",
              "      <th>Games</th>\n",
              "      <th>Government</th>\n",
              "      <th>Images</th>\n",
              "      <th>Internet of Things</th>\n",
              "      <th>Mapping</th>\n",
              "      <th>Media</th>\n",
              "      <th>Medical</th>\n",
              "      <th>Messaging</th>\n",
              "      <th>Music</th>\n",
              "      <th>News Services</th>\n",
              "      <th>Marketing</th>\n",
              "      <th>Other</th>\n",
              "      <th>Payments</th>\n",
              "      <th>Photos</th>\n",
              "      <th>Project Management</th>\n",
              "      <th>Real Estate</th>\n",
              "      <th>Reference</th>\n",
              "      <th>Science</th>\n",
              "      <th>Search</th>\n",
              "      <th>Security</th>\n",
              "      <th>Shipping</th>\n",
              "      <th>Social</th>\n",
              "      <th>Sports</th>\n",
              "      <th>Stocks</th>\n",
              "      <th>Storage</th>\n",
              "      <th>Telephony</th>\n",
              "      <th>Tools</th>\n",
              "      <th>Transportation</th>\n",
              "      <th>Travel</th>\n",
              "      <th>Video</th>\n",
              "      <th>Weather</th>\n",
              "      <th>eCommerce</th>\n",
              "      <th>All</th>\n",
              "    </tr>\n",
              "    <tr>\n",
              "      <th>Actual</th>\n",
              "      <th></th>\n",
              "      <th></th>\n",
              "      <th></th>\n",
              "      <th></th>\n",
              "      <th></th>\n",
              "      <th></th>\n",
              "      <th></th>\n",
              "      <th></th>\n",
              "      <th></th>\n",
              "      <th></th>\n",
              "      <th></th>\n",
              "      <th></th>\n",
              "      <th></th>\n",
              "      <th></th>\n",
              "      <th></th>\n",
              "      <th></th>\n",
              "      <th></th>\n",
              "      <th></th>\n",
              "      <th></th>\n",
              "      <th></th>\n",
              "      <th></th>\n",
              "      <th></th>\n",
              "      <th></th>\n",
              "      <th></th>\n",
              "      <th></th>\n",
              "      <th></th>\n",
              "      <th></th>\n",
              "      <th></th>\n",
              "      <th></th>\n",
              "      <th></th>\n",
              "      <th></th>\n",
              "      <th></th>\n",
              "      <th></th>\n",
              "      <th></th>\n",
              "      <th></th>\n",
              "      <th></th>\n",
              "      <th></th>\n",
              "      <th></th>\n",
              "      <th></th>\n",
              "      <th></th>\n",
              "      <th></th>\n",
              "      <th></th>\n",
              "      <th></th>\n",
              "      <th></th>\n",
              "      <th></th>\n",
              "      <th></th>\n",
              "      <th></th>\n",
              "      <th></th>\n",
              "      <th></th>\n",
              "      <th></th>\n",
              "      <th></th>\n",
              "    </tr>\n",
              "  </thead>\n",
              "  <tbody>\n",
              "    <tr>\n",
              "      <th>Advertising</th>\n",
              "      <td>49</td>\n",
              "      <td>0</td>\n",
              "      <td>0</td>\n",
              "      <td>0</td>\n",
              "      <td>0</td>\n",
              "      <td>0</td>\n",
              "      <td>0</td>\n",
              "      <td>0</td>\n",
              "      <td>0</td>\n",
              "      <td>0</td>\n",
              "      <td>0</td>\n",
              "      <td>0</td>\n",
              "      <td>0</td>\n",
              "      <td>0</td>\n",
              "      <td>0</td>\n",
              "      <td>0</td>\n",
              "      <td>0</td>\n",
              "      <td>0</td>\n",
              "      <td>0</td>\n",
              "      <td>0</td>\n",
              "      <td>0</td>\n",
              "      <td>0</td>\n",
              "      <td>0</td>\n",
              "      <td>0</td>\n",
              "      <td>0</td>\n",
              "      <td>0</td>\n",
              "      <td>0</td>\n",
              "      <td>0</td>\n",
              "      <td>0</td>\n",
              "      <td>0</td>\n",
              "      <td>0</td>\n",
              "      <td>0</td>\n",
              "      <td>0</td>\n",
              "      <td>0</td>\n",
              "      <td>0</td>\n",
              "      <td>0</td>\n",
              "      <td>0</td>\n",
              "      <td>0</td>\n",
              "      <td>0</td>\n",
              "      <td>0</td>\n",
              "      <td>0</td>\n",
              "      <td>0</td>\n",
              "      <td>0</td>\n",
              "      <td>0</td>\n",
              "      <td>0</td>\n",
              "      <td>0</td>\n",
              "      <td>0</td>\n",
              "      <td>0</td>\n",
              "      <td>0</td>\n",
              "      <td>0</td>\n",
              "      <td>49</td>\n",
              "    </tr>\n",
              "    <tr>\n",
              "      <th>Analytics</th>\n",
              "      <td>12</td>\n",
              "      <td>20</td>\n",
              "      <td>0</td>\n",
              "      <td>0</td>\n",
              "      <td>0</td>\n",
              "      <td>0</td>\n",
              "      <td>0</td>\n",
              "      <td>0</td>\n",
              "      <td>0</td>\n",
              "      <td>0</td>\n",
              "      <td>0</td>\n",
              "      <td>0</td>\n",
              "      <td>0</td>\n",
              "      <td>0</td>\n",
              "      <td>0</td>\n",
              "      <td>0</td>\n",
              "      <td>0</td>\n",
              "      <td>0</td>\n",
              "      <td>0</td>\n",
              "      <td>0</td>\n",
              "      <td>0</td>\n",
              "      <td>0</td>\n",
              "      <td>0</td>\n",
              "      <td>0</td>\n",
              "      <td>0</td>\n",
              "      <td>0</td>\n",
              "      <td>0</td>\n",
              "      <td>0</td>\n",
              "      <td>0</td>\n",
              "      <td>0</td>\n",
              "      <td>0</td>\n",
              "      <td>0</td>\n",
              "      <td>0</td>\n",
              "      <td>0</td>\n",
              "      <td>0</td>\n",
              "      <td>0</td>\n",
              "      <td>0</td>\n",
              "      <td>0</td>\n",
              "      <td>0</td>\n",
              "      <td>0</td>\n",
              "      <td>0</td>\n",
              "      <td>0</td>\n",
              "      <td>0</td>\n",
              "      <td>0</td>\n",
              "      <td>0</td>\n",
              "      <td>0</td>\n",
              "      <td>0</td>\n",
              "      <td>0</td>\n",
              "      <td>0</td>\n",
              "      <td>0</td>\n",
              "      <td>32</td>\n",
              "    </tr>\n",
              "    <tr>\n",
              "      <th>Application Development</th>\n",
              "      <td>2</td>\n",
              "      <td>0</td>\n",
              "      <td>27</td>\n",
              "      <td>0</td>\n",
              "      <td>0</td>\n",
              "      <td>0</td>\n",
              "      <td>0</td>\n",
              "      <td>0</td>\n",
              "      <td>0</td>\n",
              "      <td>0</td>\n",
              "      <td>0</td>\n",
              "      <td>0</td>\n",
              "      <td>0</td>\n",
              "      <td>0</td>\n",
              "      <td>0</td>\n",
              "      <td>0</td>\n",
              "      <td>0</td>\n",
              "      <td>0</td>\n",
              "      <td>0</td>\n",
              "      <td>0</td>\n",
              "      <td>0</td>\n",
              "      <td>0</td>\n",
              "      <td>0</td>\n",
              "      <td>0</td>\n",
              "      <td>0</td>\n",
              "      <td>0</td>\n",
              "      <td>0</td>\n",
              "      <td>0</td>\n",
              "      <td>0</td>\n",
              "      <td>0</td>\n",
              "      <td>0</td>\n",
              "      <td>0</td>\n",
              "      <td>0</td>\n",
              "      <td>0</td>\n",
              "      <td>0</td>\n",
              "      <td>0</td>\n",
              "      <td>0</td>\n",
              "      <td>0</td>\n",
              "      <td>0</td>\n",
              "      <td>0</td>\n",
              "      <td>0</td>\n",
              "      <td>0</td>\n",
              "      <td>0</td>\n",
              "      <td>0</td>\n",
              "      <td>0</td>\n",
              "      <td>0</td>\n",
              "      <td>0</td>\n",
              "      <td>0</td>\n",
              "      <td>0</td>\n",
              "      <td>0</td>\n",
              "      <td>29</td>\n",
              "    </tr>\n",
              "    <tr>\n",
              "      <th>Backend</th>\n",
              "      <td>4</td>\n",
              "      <td>0</td>\n",
              "      <td>0</td>\n",
              "      <td>23</td>\n",
              "      <td>0</td>\n",
              "      <td>0</td>\n",
              "      <td>0</td>\n",
              "      <td>0</td>\n",
              "      <td>0</td>\n",
              "      <td>0</td>\n",
              "      <td>0</td>\n",
              "      <td>0</td>\n",
              "      <td>0</td>\n",
              "      <td>0</td>\n",
              "      <td>0</td>\n",
              "      <td>0</td>\n",
              "      <td>0</td>\n",
              "      <td>0</td>\n",
              "      <td>0</td>\n",
              "      <td>0</td>\n",
              "      <td>0</td>\n",
              "      <td>0</td>\n",
              "      <td>0</td>\n",
              "      <td>0</td>\n",
              "      <td>0</td>\n",
              "      <td>0</td>\n",
              "      <td>0</td>\n",
              "      <td>0</td>\n",
              "      <td>0</td>\n",
              "      <td>0</td>\n",
              "      <td>0</td>\n",
              "      <td>0</td>\n",
              "      <td>0</td>\n",
              "      <td>0</td>\n",
              "      <td>0</td>\n",
              "      <td>0</td>\n",
              "      <td>0</td>\n",
              "      <td>0</td>\n",
              "      <td>0</td>\n",
              "      <td>0</td>\n",
              "      <td>0</td>\n",
              "      <td>0</td>\n",
              "      <td>0</td>\n",
              "      <td>0</td>\n",
              "      <td>0</td>\n",
              "      <td>0</td>\n",
              "      <td>0</td>\n",
              "      <td>0</td>\n",
              "      <td>0</td>\n",
              "      <td>0</td>\n",
              "      <td>27</td>\n",
              "    </tr>\n",
              "    <tr>\n",
              "      <th>Banking</th>\n",
              "      <td>19</td>\n",
              "      <td>0</td>\n",
              "      <td>0</td>\n",
              "      <td>0</td>\n",
              "      <td>135</td>\n",
              "      <td>0</td>\n",
              "      <td>0</td>\n",
              "      <td>0</td>\n",
              "      <td>0</td>\n",
              "      <td>0</td>\n",
              "      <td>0</td>\n",
              "      <td>0</td>\n",
              "      <td>0</td>\n",
              "      <td>0</td>\n",
              "      <td>0</td>\n",
              "      <td>0</td>\n",
              "      <td>0</td>\n",
              "      <td>0</td>\n",
              "      <td>0</td>\n",
              "      <td>0</td>\n",
              "      <td>0</td>\n",
              "      <td>0</td>\n",
              "      <td>0</td>\n",
              "      <td>0</td>\n",
              "      <td>0</td>\n",
              "      <td>0</td>\n",
              "      <td>0</td>\n",
              "      <td>0</td>\n",
              "      <td>0</td>\n",
              "      <td>0</td>\n",
              "      <td>0</td>\n",
              "      <td>0</td>\n",
              "      <td>0</td>\n",
              "      <td>0</td>\n",
              "      <td>0</td>\n",
              "      <td>0</td>\n",
              "      <td>0</td>\n",
              "      <td>0</td>\n",
              "      <td>0</td>\n",
              "      <td>0</td>\n",
              "      <td>0</td>\n",
              "      <td>0</td>\n",
              "      <td>0</td>\n",
              "      <td>0</td>\n",
              "      <td>0</td>\n",
              "      <td>0</td>\n",
              "      <td>0</td>\n",
              "      <td>0</td>\n",
              "      <td>0</td>\n",
              "      <td>0</td>\n",
              "      <td>154</td>\n",
              "    </tr>\n",
              "  </tbody>\n",
              "</table>\n",
              "</div>"
            ],
            "text/plain": [
              "Predicted                Advertising  Analytics  ...  eCommerce  All\n",
              "Actual                                           ...                \n",
              "Advertising                       49          0  ...          0   49\n",
              "Analytics                         12         20  ...          0   32\n",
              "Application Development            2          0  ...          0   29\n",
              "Backend                            4          0  ...          0   27\n",
              "Banking                           19          0  ...          0  154\n",
              "\n",
              "[5 rows x 51 columns]"
            ]
          },
          "metadata": {
            "tags": []
          },
          "execution_count": 123
        }
      ]
    },
    {
      "cell_type": "code",
      "metadata": {
        "id": "_DPs00X1ep3i",
        "colab_type": "code",
        "colab": {
          "base_uri": "https://localhost:8080/",
          "height": 204
        },
        "outputId": "00f7c8e5-c53b-4bc4-f618-7d30e7d33572"
      },
      "source": [
        "cross.columns"
      ],
      "execution_count": 124,
      "outputs": [
        {
          "output_type": "execute_result",
          "data": {
            "text/plain": [
              "Index(['Advertising', 'Analytics', 'Application Development', 'Backend',\n",
              "       'Banking', 'Bitcoin', 'Chat', 'Cloud', 'Data', 'Database', 'Domains',\n",
              "       'Education', 'Email', 'Enterprise', 'Entertainment', 'Events',\n",
              "       'File Sharing', 'Financial', 'Games', 'Government', 'Images',\n",
              "       'Internet of Things', 'Mapping', 'Media', 'Medical', 'Messaging',\n",
              "       'Music', 'News Services', 'Marketing', 'Other', 'Payments', 'Photos',\n",
              "       'Project Management', 'Real Estate', 'Reference', 'Science', 'Search',\n",
              "       'Security', 'Shipping', 'Social', 'Sports', 'Stocks', 'Storage',\n",
              "       'Telephony', 'Tools', 'Transportation', 'Travel', 'Video', 'Weather',\n",
              "       'eCommerce', 'All'],\n",
              "      dtype='object', name='Predicted')"
            ]
          },
          "metadata": {
            "tags": []
          },
          "execution_count": 124
        }
      ]
    },
    {
      "cell_type": "code",
      "metadata": {
        "id": "S5AyiejifCeS",
        "colab_type": "code",
        "colab": {}
      },
      "source": [
        "all = cross[\"All\"]"
      ],
      "execution_count": 125,
      "outputs": []
    },
    {
      "cell_type": "code",
      "metadata": {
        "id": "BJBgOdtIfYZ8",
        "colab_type": "code",
        "colab": {}
      },
      "source": [
        "result = []\n",
        "\n",
        "all = cross[\"All\"]\n",
        "\n",
        "for i in range(0, 50):\n",
        "    acc = cross.iloc[i,i] / all[i]\n",
        "    result.append(acc)"
      ],
      "execution_count": 126,
      "outputs": []
    },
    {
      "cell_type": "code",
      "metadata": {
        "id": "dwuupMAnfYs7",
        "colab_type": "code",
        "colab": {
          "base_uri": "https://localhost:8080/",
          "height": 867
        },
        "outputId": "3c51582d-7fc8-4bb4-9c94-de7ea864f985"
      },
      "source": [
        "result"
      ],
      "execution_count": 127,
      "outputs": [
        {
          "output_type": "execute_result",
          "data": {
            "text/plain": [
              "[1.0,\n",
              " 0.625,\n",
              " 0.9310344827586207,\n",
              " 0.8518518518518519,\n",
              " 0.8766233766233766,\n",
              " 0.9629629629629629,\n",
              " 0.8431372549019608,\n",
              " 0.9,\n",
              " 0.9090909090909091,\n",
              " 0.9680851063829787,\n",
              " 0.9642857142857143,\n",
              " 0.9545454545454546,\n",
              " 0.9803921568627451,\n",
              " 0.9069767441860465,\n",
              " 0.6428571428571429,\n",
              " 0.9803921568627451,\n",
              " 0.8627450980392157,\n",
              " 0.9041095890410958,\n",
              " 1.0,\n",
              " 0.896551724137931,\n",
              " 0.8823529411764706,\n",
              " 0.927710843373494,\n",
              " 0.9545454545454546,\n",
              " 0.9416058394160584,\n",
              " 0.9411764705882353,\n",
              " 0.9333333333333333,\n",
              " 1.0,\n",
              " 0.9833333333333333,\n",
              " 0.9545454545454546,\n",
              " 0.8857142857142857,\n",
              " 0.9514563106796117,\n",
              " 0.9130434782608695,\n",
              " 0.8260869565217391,\n",
              " 0.9607843137254902,\n",
              " 0.9782608695652174,\n",
              " 0.8,\n",
              " 0.7222222222222222,\n",
              " 0.9411764705882353,\n",
              " 0.8421052631578947,\n",
              " 0.9666666666666667,\n",
              " 1.0,\n",
              " 0.95,\n",
              " 0.9195402298850575,\n",
              " 0.9487179487179487,\n",
              " 0.8378378378378378,\n",
              " 0.5517241379310345,\n",
              " 0.975609756097561,\n",
              " 0.7058823529411765,\n",
              " 1.0,\n",
              " 1.0]"
            ]
          },
          "metadata": {
            "tags": []
          },
          "execution_count": 127
        }
      ]
    },
    {
      "cell_type": "code",
      "metadata": {
        "id": "Ioenio3bnVzl",
        "colab_type": "code",
        "colab": {
          "base_uri": "https://localhost:8080/",
          "height": 34
        },
        "outputId": "071480b3-eba5-43a4-ad40-2b251c82d5bd"
      },
      "source": [
        "np.std(result)"
      ],
      "execution_count": 67,
      "outputs": [
        {
          "output_type": "execute_result",
          "data": {
            "text/plain": [
              "0.10002301366204598"
            ]
          },
          "metadata": {
            "tags": []
          },
          "execution_count": 67
        }
      ]
    },
    {
      "cell_type": "code",
      "metadata": {
        "id": "AOCKB1Z7fbxK",
        "colab_type": "code",
        "colab": {}
      },
      "source": [
        "acc_category = dict(zip(categories, result)) \n",
        "\n",
        "import json\n",
        "with open('Data/ServeNet-' + SavePrefix + '_top5_acc_on_category.json', 'w') as fp:\n",
        "    json.dump(acc_category, fp)\n",
        "\n",
        "fp.close()"
      ],
      "execution_count": 68,
      "outputs": []
    },
    {
      "cell_type": "code",
      "metadata": {
        "id": "o0QnTaLGflVq",
        "colab_type": "code",
        "colab": {
          "base_uri": "https://localhost:8080/",
          "height": 867
        },
        "outputId": "b0626f3d-a12a-4b96-bd8d-5460185d0df8"
      },
      "source": [
        "acc_category"
      ],
      "execution_count": 69,
      "outputs": [
        {
          "output_type": "execute_result",
          "data": {
            "text/plain": [
              "{'Advertising': 1.0,\n",
              " 'Analytics': 0.625,\n",
              " 'Application Development': 0.9310344827586207,\n",
              " 'Backend': 0.8518518518518519,\n",
              " 'Banking': 0.8766233766233766,\n",
              " 'Bitcoin': 0.9629629629629629,\n",
              " 'Chat': 0.8431372549019608,\n",
              " 'Cloud': 0.9,\n",
              " 'Data': 0.9090909090909091,\n",
              " 'Database': 0.9680851063829787,\n",
              " 'Domains': 0.9642857142857143,\n",
              " 'Education': 0.9545454545454546,\n",
              " 'Email': 0.9803921568627451,\n",
              " 'Enterprise': 0.9069767441860465,\n",
              " 'Entertainment': 0.6428571428571429,\n",
              " 'Events': 0.9803921568627451,\n",
              " 'File Sharing': 0.8627450980392157,\n",
              " 'Financial': 0.9041095890410958,\n",
              " 'Games': 1.0,\n",
              " 'Government': 0.896551724137931,\n",
              " 'Images': 0.8823529411764706,\n",
              " 'Internet of Things': 0.927710843373494,\n",
              " 'Mapping': 0.9545454545454546,\n",
              " 'Marketing': 0.9545454545454546,\n",
              " 'Media': 0.9416058394160584,\n",
              " 'Medical': 0.9411764705882353,\n",
              " 'Messaging': 0.9333333333333333,\n",
              " 'Music': 1.0,\n",
              " 'News Services': 0.9833333333333333,\n",
              " 'Other': 0.8857142857142857,\n",
              " 'Payments': 0.9514563106796117,\n",
              " 'Photos': 0.9130434782608695,\n",
              " 'Project Management': 0.8260869565217391,\n",
              " 'Real Estate': 0.9607843137254902,\n",
              " 'Reference': 0.9782608695652174,\n",
              " 'Science': 0.8,\n",
              " 'Search': 0.7222222222222222,\n",
              " 'Security': 0.9411764705882353,\n",
              " 'Shipping': 0.8421052631578947,\n",
              " 'Social': 0.9666666666666667,\n",
              " 'Sports': 1.0,\n",
              " 'Stocks': 0.95,\n",
              " 'Storage': 0.9195402298850575,\n",
              " 'Telephony': 0.9487179487179487,\n",
              " 'Tools': 0.8378378378378378,\n",
              " 'Transportation': 0.5517241379310345,\n",
              " 'Travel': 0.975609756097561,\n",
              " 'Video': 0.7058823529411765,\n",
              " 'Weather': 1.0,\n",
              " 'eCommerce': 1.0}"
            ]
          },
          "metadata": {
            "tags": []
          },
          "execution_count": 69
        }
      ]
    },
    {
      "cell_type": "markdown",
      "metadata": {
        "id": "jj6u0MExodBY",
        "colab_type": "text"
      },
      "source": [
        "# Top1 HeatMap"
      ]
    },
    {
      "cell_type": "code",
      "metadata": {
        "colab_type": "code",
        "id": "RuXaMwivoQ4-",
        "colab": {}
      },
      "source": [
        "# Heat Map\n",
        "\n",
        "# cross = pd.crosstab(non_onehot_Y_test, non_onehot_pred_test.reshape(len(non_onehot_pred_test),), rownames=['Actual'], colnames=['Predicted'], margins=True)\n",
        "cross = pd.crosstab(non_onehot_Y_test, non_onehot_pred_test_top1, rownames=['Actual'], colnames=['Predicted'], margins=True)"
      ],
      "execution_count": 128,
      "outputs": []
    },
    {
      "cell_type": "code",
      "metadata": {
        "colab_type": "code",
        "id": "gxrctRYroQ5A",
        "colab": {
          "base_uri": "https://localhost:8080/",
          "height": 306
        },
        "outputId": "79b91adc-e670-4419-abeb-44d8dbc4add9"
      },
      "source": [
        "cross.index = categories\n",
        "cross.index.name = \"Actual\"\n",
        "cross.columns = categories\n",
        "cross.columns.name = \"Predicted\"\n",
        "cross.head()"
      ],
      "execution_count": 129,
      "outputs": [
        {
          "output_type": "execute_result",
          "data": {
            "text/html": [
              "<div>\n",
              "<style scoped>\n",
              "    .dataframe tbody tr th:only-of-type {\n",
              "        vertical-align: middle;\n",
              "    }\n",
              "\n",
              "    .dataframe tbody tr th {\n",
              "        vertical-align: top;\n",
              "    }\n",
              "\n",
              "    .dataframe thead th {\n",
              "        text-align: right;\n",
              "    }\n",
              "</style>\n",
              "<table border=\"1\" class=\"dataframe\">\n",
              "  <thead>\n",
              "    <tr style=\"text-align: right;\">\n",
              "      <th>Predicted</th>\n",
              "      <th>Advertising</th>\n",
              "      <th>Analytics</th>\n",
              "      <th>Application Development</th>\n",
              "      <th>Backend</th>\n",
              "      <th>Banking</th>\n",
              "      <th>Bitcoin</th>\n",
              "      <th>Chat</th>\n",
              "      <th>Cloud</th>\n",
              "      <th>Data</th>\n",
              "      <th>Database</th>\n",
              "      <th>Domains</th>\n",
              "      <th>Education</th>\n",
              "      <th>Email</th>\n",
              "      <th>Enterprise</th>\n",
              "      <th>Entertainment</th>\n",
              "      <th>Events</th>\n",
              "      <th>File Sharing</th>\n",
              "      <th>Financial</th>\n",
              "      <th>Games</th>\n",
              "      <th>Government</th>\n",
              "      <th>Images</th>\n",
              "      <th>Internet of Things</th>\n",
              "      <th>Mapping</th>\n",
              "      <th>Media</th>\n",
              "      <th>Medical</th>\n",
              "      <th>Messaging</th>\n",
              "      <th>Music</th>\n",
              "      <th>News Services</th>\n",
              "      <th>Marketing</th>\n",
              "      <th>Other</th>\n",
              "      <th>Payments</th>\n",
              "      <th>Photos</th>\n",
              "      <th>Project Management</th>\n",
              "      <th>Real Estate</th>\n",
              "      <th>Reference</th>\n",
              "      <th>Science</th>\n",
              "      <th>Search</th>\n",
              "      <th>Security</th>\n",
              "      <th>Shipping</th>\n",
              "      <th>Social</th>\n",
              "      <th>Sports</th>\n",
              "      <th>Stocks</th>\n",
              "      <th>Storage</th>\n",
              "      <th>Telephony</th>\n",
              "      <th>Tools</th>\n",
              "      <th>Transportation</th>\n",
              "      <th>Travel</th>\n",
              "      <th>Video</th>\n",
              "      <th>Weather</th>\n",
              "      <th>eCommerce</th>\n",
              "      <th>All</th>\n",
              "    </tr>\n",
              "    <tr>\n",
              "      <th>Actual</th>\n",
              "      <th></th>\n",
              "      <th></th>\n",
              "      <th></th>\n",
              "      <th></th>\n",
              "      <th></th>\n",
              "      <th></th>\n",
              "      <th></th>\n",
              "      <th></th>\n",
              "      <th></th>\n",
              "      <th></th>\n",
              "      <th></th>\n",
              "      <th></th>\n",
              "      <th></th>\n",
              "      <th></th>\n",
              "      <th></th>\n",
              "      <th></th>\n",
              "      <th></th>\n",
              "      <th></th>\n",
              "      <th></th>\n",
              "      <th></th>\n",
              "      <th></th>\n",
              "      <th></th>\n",
              "      <th></th>\n",
              "      <th></th>\n",
              "      <th></th>\n",
              "      <th></th>\n",
              "      <th></th>\n",
              "      <th></th>\n",
              "      <th></th>\n",
              "      <th></th>\n",
              "      <th></th>\n",
              "      <th></th>\n",
              "      <th></th>\n",
              "      <th></th>\n",
              "      <th></th>\n",
              "      <th></th>\n",
              "      <th></th>\n",
              "      <th></th>\n",
              "      <th></th>\n",
              "      <th></th>\n",
              "      <th></th>\n",
              "      <th></th>\n",
              "      <th></th>\n",
              "      <th></th>\n",
              "      <th></th>\n",
              "      <th></th>\n",
              "      <th></th>\n",
              "      <th></th>\n",
              "      <th></th>\n",
              "      <th></th>\n",
              "      <th></th>\n",
              "    </tr>\n",
              "  </thead>\n",
              "  <tbody>\n",
              "    <tr>\n",
              "      <th>Advertising</th>\n",
              "      <td>42</td>\n",
              "      <td>0</td>\n",
              "      <td>0</td>\n",
              "      <td>0</td>\n",
              "      <td>0</td>\n",
              "      <td>0</td>\n",
              "      <td>0</td>\n",
              "      <td>0</td>\n",
              "      <td>0</td>\n",
              "      <td>1</td>\n",
              "      <td>0</td>\n",
              "      <td>0</td>\n",
              "      <td>0</td>\n",
              "      <td>0</td>\n",
              "      <td>0</td>\n",
              "      <td>0</td>\n",
              "      <td>0</td>\n",
              "      <td>2</td>\n",
              "      <td>0</td>\n",
              "      <td>0</td>\n",
              "      <td>0</td>\n",
              "      <td>0</td>\n",
              "      <td>0</td>\n",
              "      <td>0</td>\n",
              "      <td>0</td>\n",
              "      <td>0</td>\n",
              "      <td>0</td>\n",
              "      <td>0</td>\n",
              "      <td>2</td>\n",
              "      <td>0</td>\n",
              "      <td>0</td>\n",
              "      <td>0</td>\n",
              "      <td>0</td>\n",
              "      <td>0</td>\n",
              "      <td>0</td>\n",
              "      <td>0</td>\n",
              "      <td>0</td>\n",
              "      <td>0</td>\n",
              "      <td>0</td>\n",
              "      <td>0</td>\n",
              "      <td>0</td>\n",
              "      <td>1</td>\n",
              "      <td>0</td>\n",
              "      <td>0</td>\n",
              "      <td>0</td>\n",
              "      <td>1</td>\n",
              "      <td>0</td>\n",
              "      <td>0</td>\n",
              "      <td>0</td>\n",
              "      <td>0</td>\n",
              "      <td>49</td>\n",
              "    </tr>\n",
              "    <tr>\n",
              "      <th>Analytics</th>\n",
              "      <td>0</td>\n",
              "      <td>1</td>\n",
              "      <td>0</td>\n",
              "      <td>0</td>\n",
              "      <td>5</td>\n",
              "      <td>0</td>\n",
              "      <td>3</td>\n",
              "      <td>0</td>\n",
              "      <td>0</td>\n",
              "      <td>0</td>\n",
              "      <td>0</td>\n",
              "      <td>1</td>\n",
              "      <td>0</td>\n",
              "      <td>2</td>\n",
              "      <td>1</td>\n",
              "      <td>0</td>\n",
              "      <td>1</td>\n",
              "      <td>2</td>\n",
              "      <td>0</td>\n",
              "      <td>0</td>\n",
              "      <td>0</td>\n",
              "      <td>2</td>\n",
              "      <td>0</td>\n",
              "      <td>0</td>\n",
              "      <td>0</td>\n",
              "      <td>0</td>\n",
              "      <td>1</td>\n",
              "      <td>2</td>\n",
              "      <td>0</td>\n",
              "      <td>0</td>\n",
              "      <td>0</td>\n",
              "      <td>2</td>\n",
              "      <td>0</td>\n",
              "      <td>0</td>\n",
              "      <td>0</td>\n",
              "      <td>0</td>\n",
              "      <td>0</td>\n",
              "      <td>0</td>\n",
              "      <td>2</td>\n",
              "      <td>0</td>\n",
              "      <td>0</td>\n",
              "      <td>0</td>\n",
              "      <td>4</td>\n",
              "      <td>0</td>\n",
              "      <td>0</td>\n",
              "      <td>0</td>\n",
              "      <td>1</td>\n",
              "      <td>2</td>\n",
              "      <td>0</td>\n",
              "      <td>0</td>\n",
              "      <td>32</td>\n",
              "    </tr>\n",
              "    <tr>\n",
              "      <th>Application Development</th>\n",
              "      <td>0</td>\n",
              "      <td>0</td>\n",
              "      <td>24</td>\n",
              "      <td>0</td>\n",
              "      <td>1</td>\n",
              "      <td>0</td>\n",
              "      <td>0</td>\n",
              "      <td>0</td>\n",
              "      <td>0</td>\n",
              "      <td>0</td>\n",
              "      <td>0</td>\n",
              "      <td>0</td>\n",
              "      <td>0</td>\n",
              "      <td>0</td>\n",
              "      <td>0</td>\n",
              "      <td>0</td>\n",
              "      <td>0</td>\n",
              "      <td>0</td>\n",
              "      <td>0</td>\n",
              "      <td>0</td>\n",
              "      <td>0</td>\n",
              "      <td>0</td>\n",
              "      <td>0</td>\n",
              "      <td>1</td>\n",
              "      <td>0</td>\n",
              "      <td>0</td>\n",
              "      <td>0</td>\n",
              "      <td>0</td>\n",
              "      <td>0</td>\n",
              "      <td>0</td>\n",
              "      <td>0</td>\n",
              "      <td>0</td>\n",
              "      <td>1</td>\n",
              "      <td>0</td>\n",
              "      <td>2</td>\n",
              "      <td>0</td>\n",
              "      <td>0</td>\n",
              "      <td>0</td>\n",
              "      <td>0</td>\n",
              "      <td>0</td>\n",
              "      <td>0</td>\n",
              "      <td>0</td>\n",
              "      <td>0</td>\n",
              "      <td>0</td>\n",
              "      <td>0</td>\n",
              "      <td>0</td>\n",
              "      <td>0</td>\n",
              "      <td>0</td>\n",
              "      <td>0</td>\n",
              "      <td>0</td>\n",
              "      <td>29</td>\n",
              "    </tr>\n",
              "    <tr>\n",
              "      <th>Backend</th>\n",
              "      <td>0</td>\n",
              "      <td>1</td>\n",
              "      <td>0</td>\n",
              "      <td>12</td>\n",
              "      <td>3</td>\n",
              "      <td>0</td>\n",
              "      <td>0</td>\n",
              "      <td>0</td>\n",
              "      <td>0</td>\n",
              "      <td>0</td>\n",
              "      <td>0</td>\n",
              "      <td>0</td>\n",
              "      <td>0</td>\n",
              "      <td>0</td>\n",
              "      <td>0</td>\n",
              "      <td>0</td>\n",
              "      <td>0</td>\n",
              "      <td>0</td>\n",
              "      <td>0</td>\n",
              "      <td>1</td>\n",
              "      <td>0</td>\n",
              "      <td>1</td>\n",
              "      <td>0</td>\n",
              "      <td>0</td>\n",
              "      <td>0</td>\n",
              "      <td>0</td>\n",
              "      <td>0</td>\n",
              "      <td>0</td>\n",
              "      <td>0</td>\n",
              "      <td>3</td>\n",
              "      <td>0</td>\n",
              "      <td>0</td>\n",
              "      <td>0</td>\n",
              "      <td>1</td>\n",
              "      <td>0</td>\n",
              "      <td>2</td>\n",
              "      <td>0</td>\n",
              "      <td>0</td>\n",
              "      <td>0</td>\n",
              "      <td>0</td>\n",
              "      <td>0</td>\n",
              "      <td>2</td>\n",
              "      <td>1</td>\n",
              "      <td>0</td>\n",
              "      <td>0</td>\n",
              "      <td>0</td>\n",
              "      <td>0</td>\n",
              "      <td>0</td>\n",
              "      <td>0</td>\n",
              "      <td>0</td>\n",
              "      <td>27</td>\n",
              "    </tr>\n",
              "    <tr>\n",
              "      <th>Banking</th>\n",
              "      <td>0</td>\n",
              "      <td>5</td>\n",
              "      <td>0</td>\n",
              "      <td>1</td>\n",
              "      <td>79</td>\n",
              "      <td>1</td>\n",
              "      <td>6</td>\n",
              "      <td>6</td>\n",
              "      <td>1</td>\n",
              "      <td>0</td>\n",
              "      <td>0</td>\n",
              "      <td>0</td>\n",
              "      <td>1</td>\n",
              "      <td>1</td>\n",
              "      <td>2</td>\n",
              "      <td>0</td>\n",
              "      <td>4</td>\n",
              "      <td>3</td>\n",
              "      <td>0</td>\n",
              "      <td>6</td>\n",
              "      <td>3</td>\n",
              "      <td>5</td>\n",
              "      <td>0</td>\n",
              "      <td>0</td>\n",
              "      <td>0</td>\n",
              "      <td>1</td>\n",
              "      <td>0</td>\n",
              "      <td>2</td>\n",
              "      <td>0</td>\n",
              "      <td>1</td>\n",
              "      <td>1</td>\n",
              "      <td>1</td>\n",
              "      <td>2</td>\n",
              "      <td>3</td>\n",
              "      <td>1</td>\n",
              "      <td>0</td>\n",
              "      <td>0</td>\n",
              "      <td>1</td>\n",
              "      <td>1</td>\n",
              "      <td>1</td>\n",
              "      <td>2</td>\n",
              "      <td>0</td>\n",
              "      <td>9</td>\n",
              "      <td>0</td>\n",
              "      <td>2</td>\n",
              "      <td>0</td>\n",
              "      <td>0</td>\n",
              "      <td>2</td>\n",
              "      <td>0</td>\n",
              "      <td>0</td>\n",
              "      <td>154</td>\n",
              "    </tr>\n",
              "  </tbody>\n",
              "</table>\n",
              "</div>"
            ],
            "text/plain": [
              "Predicted                Advertising  Analytics  ...  eCommerce  All\n",
              "Actual                                           ...                \n",
              "Advertising                       42          0  ...          0   49\n",
              "Analytics                          0          1  ...          0   32\n",
              "Application Development            0          0  ...          0   29\n",
              "Backend                            0          1  ...          0   27\n",
              "Banking                            0          5  ...          0  154\n",
              "\n",
              "[5 rows x 51 columns]"
            ]
          },
          "metadata": {
            "tags": []
          },
          "execution_count": 129
        }
      ]
    },
    {
      "cell_type": "code",
      "metadata": {
        "id": "hpxWxclFfl7M",
        "colab_type": "code",
        "colab": {
          "base_uri": "https://localhost:8080/",
          "height": 1000
        },
        "outputId": "1323cc4e-eebe-4c8a-f244-45ffb4c5cc19"
      },
      "source": [
        "f, ax = plt.subplots(figsize=(35,20))\n",
        "\n",
        "sns.heatmap(cross, annot=True, vmin=0, fmt=\"d\", vmax=50, ax=ax, linewidths=.3, cmap=plt.cm.Blues)\n",
        "\n",
        "ax.xaxis.tick_top()\n",
        "ax.xaxis.set_label_position('top')\n",
        "\n",
        "\n",
        "plt.yticks(rotation=0) \n",
        "plt.xticks(rotation=90) \n",
        "\n",
        "plt.savefig('Data/ServeNet-' + SavePrefix + 'Top5-ServenetNewHeatMap.pdf', format='pdf', dpi=300)"
      ],
      "execution_count": 130,
      "outputs": [
        {
          "output_type": "display_data",
          "data": {
            "image/png": "[encoded data removed]",
            "text/plain": [
              "<Figure size 2520x1440 with 2 Axes>"
            ]
          },
          "metadata": {
            "tags": [],
            "needs_background": "light"
          }
        }
      ]
    },
    {
      "cell_type": "code",
      "metadata": {
        "id": "H2Iy0fHsgMuS",
        "colab_type": "code",
        "colab": {}
      },
      "source": [
        ""
      ],
      "execution_count": 70,
      "outputs": []
    }
  ]
}